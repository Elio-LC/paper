{
 "cells": [
  {
   "metadata": {},
   "cell_type": "markdown",
   "source": "# Preprocessing of Data and Model",
   "id": "7c7d9213fb9b2b5d"
  },
  {
   "metadata": {
    "editable": true,
    "slideshow": {
     "slide_type": ""
    },
    "tags": [],
    "ExecuteTime": {
     "end_time": "2025-08-02T12:54:22.455887Z",
     "start_time": "2025-08-02T12:54:22.415196Z"
    }
   },
   "cell_type": "code",
   "outputs": [
    {
     "name": "stdout",
     "output_type": "stream",
     "text": [
      "                                                Text  Label\n",
      "0  Amazon to create 500 new jobs in Mississippi a...      2\n",
      "1  GE's stock rises 1% premarket, set to trade ab...      2\n",
      "2  CN Rail Strike Begins, Threatening Canada Oil,...      0\n",
      "3  Hong Kong Airlines to cut 400 jobs, ask employ...      0\n",
      "4  3 Top-Performing Mutual Funds to Consider for ...      1\n",
      "数据加载完成！\n"
     ]
    }
   ],
   "execution_count": 1,
   "source": [
    "from __future__ import annotations\n",
    "\n",
    "import pandas as pd\n",
    "\n",
    "file_path = \"../raw_data/news_all.csv\"\n",
    "data = pd.read_csv(file_path)\n",
    "\n",
    "print(data.head())\n",
    "print(\"数据加载完成！\")"
   ],
   "id": "57fe31c9-d47a-43a9-bb05-7c2098234eff"
  },
  {
   "cell_type": "code",
   "id": "604cfe50-87be-4a17-8582-fd2ec3de3d09",
   "metadata": {
    "ExecuteTime": {
     "end_time": "2025-08-02T12:54:48.826822Z",
     "start_time": "2025-08-02T12:54:48.628137Z"
    }
   },
   "source": [
    "from sklearn.model_selection import train_test_split\n",
    "from sklearn.preprocessing import LabelEncoder\n",
    "\n",
    "assert 'Text' in data.columns and 'Label' in data.columns, \"数据必须包含 'Text' 和 'Label' 列！\"\n",
    "\n",
    "label_encoder = LabelEncoder()\n",
    "data['Label_encoded'] = label_encoder.fit_transform(data['Label'])\n",
    "X_train, X_test, y_train, y_test = train_test_split(\n",
    "    data['Text'], data['Label_encoded'], test_size=0.4, random_state=42\n",
    ")\n",
    "X_test, X_val, y_test, y_val = train_test_split(X_test, y_test, test_size=0.5, random_state=42)\n",
    "\n",
    "print(\"数据划分完成！\")"
   ],
   "outputs": [
    {
     "name": "stdout",
     "output_type": "stream",
     "text": [
      "数据划分完成！\n"
     ]
    }
   ],
   "execution_count": 4
  },
  {
   "cell_type": "code",
   "id": "3cf58e86-c9b5-4e4e-aae3-3f9ce94c0ffc",
   "metadata": {
    "editable": true,
    "slideshow": {
     "slide_type": ""
    },
    "tags": [],
    "ExecuteTime": {
     "end_time": "2025-08-02T12:55:00.931092Z",
     "start_time": "2025-08-02T12:54:54.409321Z"
    }
   },
   "source": [
    "from transformers import AutoTokenizer\n",
    "tokenizer = AutoTokenizer.from_pretrained(\"ProsusAI/finbert\")\n",
    "def tokenize_texts(texts):\n",
    "    return tokenizer(\n",
    "        list(texts),\n",
    "        padding=\"max_length\",\n",
    "        truncation=True,\n",
    "        max_length=128,\n",
    "        return_tensors=\"tf\"\n",
    "    )\n",
    "\n",
    "train_bert_inputs = tokenize_texts(X_train)\n",
    "val_bert_inputs = tokenize_texts(X_val)\n",
    "test_bert_inputs = tokenize_texts(X_test)\n",
    "\n",
    "print(\"FinBERT 输入特征生成完成！\")"
   ],
   "outputs": [
    {
     "name": "stderr",
     "output_type": "stream",
     "text": [
      "/opt/anaconda3/lib/python3.12/site-packages/tqdm/auto.py:21: TqdmWarning: IProgress not found. Please update jupyter and ipywidgets. See https://ipywidgets.readthedocs.io/en/stable/user_install.html\n",
      "  from .autonotebook import tqdm as notebook_tqdm\n"
     ]
    },
    {
     "name": "stdout",
     "output_type": "stream",
     "text": [
      "FinBERT 输入特征生成完成！\n"
     ]
    }
   ],
   "execution_count": 5
  },
  {
   "cell_type": "code",
   "id": "e37c4400-5618-4a41-8082-ec603e6e1e03",
   "metadata": {
    "ExecuteTime": {
     "end_time": "2025-08-02T12:55:01.289499Z",
     "start_time": "2025-08-02T12:55:00.986615Z"
    }
   },
   "source": [
    "from tensorflow.keras.preprocessing.text import Tokenizer\n",
    "from tensorflow.keras.preprocessing.sequence import pad_sequences\n",
    "lstm_tokenizer = Tokenizer(num_words=10000, oov_token=\"<OOV>\")\n",
    "lstm_tokenizer.fit_on_texts(X_train)\n",
    "def prepare_lstm_inputs(texts):\n",
    "    sequences = lstm_tokenizer.texts_to_sequences(texts)\n",
    "    return pad_sequences(sequences, maxlen=128, padding=\"post\", truncating=\"post\")\n",
    "\n",
    "X_train_lstm = prepare_lstm_inputs(X_train)\n",
    "X_val_lstm = prepare_lstm_inputs(X_val)\n",
    "X_test_lstm = prepare_lstm_inputs(X_test)\n",
    "\n",
    "print(\"LSTM 输入特征生成完成！\")"
   ],
   "outputs": [
    {
     "name": "stdout",
     "output_type": "stream",
     "text": [
      "LSTM 输入特征生成完成！\n"
     ]
    }
   ],
   "execution_count": 6
  },
  {
   "cell_type": "code",
   "id": "7ccc121a-7859-4ee8-8ad0-8d3b84584a58",
   "metadata": {
    "ExecuteTime": {
     "end_time": "2025-08-02T12:55:06.331482Z",
     "start_time": "2025-08-02T12:55:06.326454Z"
    }
   },
   "source": [
    "# LSTM输入数据结构修改\n",
    "train_inputs = {'lstm_input': X_train_lstm}\n",
    "val_inputs = {'lstm_input': X_val_lstm}\n",
    "test_inputs = {'lstm_input': X_test_lstm}\n",
    "\n",
    "# BERT输入数据结构修改\n",
    "train_inputs['bert_input_ids'] = train_bert_inputs['input_ids']\n",
    "train_inputs['bert_attention_mask'] = train_bert_inputs['attention_mask']\n",
    "\n",
    "val_inputs['bert_input_ids'] = val_bert_inputs['input_ids']\n",
    "val_inputs['bert_attention_mask'] = val_bert_inputs['attention_mask']\n",
    "\n",
    "test_inputs['bert_input_ids'] = test_bert_inputs['input_ids']\n",
    "test_inputs['bert_attention_mask'] = test_bert_inputs['attention_mask']\n",
    "\n",
    "print(\"FinBERT 输入特征和LSTM输入特征结构修改完成！\")"
   ],
   "outputs": [
    {
     "name": "stdout",
     "output_type": "stream",
     "text": [
      "FinBERT 输入特征和LSTM输入特征结构修改完成！\n"
     ]
    }
   ],
   "execution_count": 7
  },
  {
   "cell_type": "code",
   "id": "6d2bd81b-e3c5-4851-bf02-495045bbc955",
   "metadata": {
    "ExecuteTime": {
     "end_time": "2025-08-02T12:35:11.969424Z",
     "start_time": "2025-08-02T12:35:11.944137Z"
    }
   },
   "source": [
    "import json\n",
    "tokenizer_path = \"../lstm_tokenizer.json\"\n",
    "with open(tokenizer_path, \"w\", encoding=\"utf-8\") as f:\n",
    "    f.write(lstm_tokenizer.to_json())\n",
    "\n",
    "print(f\"LSTM Tokenizer 已保存到 {tokenizer_path}\")"
   ],
   "outputs": [
    {
     "name": "stdout",
     "output_type": "stream",
     "text": [
      "LSTM Tokenizer 已保存到 lstm_tokenizer.json\n"
     ]
    }
   ],
   "execution_count": 47
  },
  {
   "cell_type": "code",
   "id": "0db1e6aa-c4c5-485e-98eb-086d70654f39",
   "metadata": {
    "ExecuteTime": {
     "end_time": "2025-08-02T12:35:11.989409Z",
     "start_time": "2025-08-02T12:35:11.985468Z"
    }
   },
   "source": [
    "import joblib\n",
    "encoder_path = \"../label_encoder.joblib\"\n",
    "joblib.dump(label_encoder, encoder_path)\n",
    "\n",
    "print(f\"LabelEncoder 已保存到 {encoder_path}\")"
   ],
   "outputs": [
    {
     "name": "stdout",
     "output_type": "stream",
     "text": [
      "LabelEncoder 已保存到 label_encoder.joblib\n"
     ]
    }
   ],
   "execution_count": 48
  },
  {
   "cell_type": "code",
   "id": "e74693ec-d247-460f-b56b-d59b63394e86",
   "metadata": {
    "ExecuteTime": {
     "end_time": "2025-08-02T12:55:10.914512Z",
     "start_time": "2025-08-02T12:55:10.908510Z"
    }
   },
   "source": [
    "from tensorflow.keras.layers import Layer\n",
    "\n",
    "class FinBERTLayer(Layer):\n",
    "    def __init__(self, pretrained_model_name=\"ProsusAI/finbert\", **kwargs):\n",
    "        super(FinBERTLayer, self).__init__(**kwargs)\n",
    "        self.bert = TFBertModel.from_pretrained(pretrained_model_name)\n",
    "\n",
    "    def call(self, inputs, **kwargs):\n",
    "        input_ids, attention_mask = inputs\n",
    "        bert_outputs = self.bert(input_ids=input_ids, attention_mask=attention_mask, **kwargs)\n",
    "        return bert_outputs.last_hidden_state[:, 0, :]  # CLS token 输出"
   ],
   "outputs": [],
   "execution_count": 8
  },
  {
   "cell_type": "code",
   "id": "35cd0100-40f0-4840-8d5c-076da847b9fa",
   "metadata": {
    "editable": true,
    "scrolled": true,
    "slideshow": {
     "slide_type": ""
    },
    "tags": [],
    "ExecuteTime": {
     "end_time": "2025-08-02T12:55:19.154287Z",
     "start_time": "2025-08-02T12:55:13.110260Z"
    }
   },
   "source": [
    "import tensorflow as tf \n",
    "from tensorflow.keras.layers import Input, Embedding, LSTM, Dense, Dropout, Concatenate\n",
    "from tensorflow.keras.models import Model\n",
    "from transformers import TFBertModel\n",
    "\n",
    "finbert_model = TFBertModel.from_pretrained(\"ProsusAI/finbert\")\n",
    "\n",
    "def build_fusion_model():\n",
    "    lstm_input = Input(shape=(128,), name=\"lstm_input\")\n",
    "    embedding = Embedding(input_dim=10000, output_dim=128)(lstm_input)\n",
    "    lstm_output = LSTM(128, return_sequences=False)(embedding)\n",
    "    lstm_dense = Dense(64, activation=\"relu\")(lstm_output)\n",
    "    lstm_dropout = Dropout(0.3)(lstm_dense)\n",
    "    bert_input_ids = Input(shape=(128,), dtype=tf.int32, name=\"bert_input_ids\")\n",
    "    bert_attention_mask = Input(shape=(128,), dtype=tf.int32, name=\"bert_attention_mask\")\n",
    "    bert_output = FinBERTLayer()([bert_input_ids, bert_attention_mask])\n",
    "    bert_dense = Dense(64, activation=\"relu\")(bert_output)\n",
    "    bert_dropout = Dropout(0.3)(bert_dense)\n",
    "\n",
    "    merged = Concatenate()([lstm_dropout, bert_dropout])\n",
    "    fusion_dense = Dense(64, activation=\"relu\")(merged)\n",
    "    fusion_dropout = Dropout(0.3)(fusion_dense)\n",
    "    output = Dense(3, activation=\"softmax\")(fusion_dropout)\n",
    "\n",
    "    model = Model(\n",
    "        inputs=[lstm_input, bert_input_ids, bert_attention_mask],\n",
    "        outputs=output\n",
    "    )\n",
    "    return model\n",
    "\n",
    "fusion_model = build_fusion_model()\n",
    "fusion_model.compile(optimizer=\"adam\", loss=\"sparse_categorical_crossentropy\", metrics=[\"accuracy\"])\n",
    "fusion_model.summary()"
   ],
   "outputs": [
    {
     "name": "stderr",
     "output_type": "stream",
     "text": [
      "All model checkpoint layers were used when initializing TFBertModel.\n",
      "\n",
      "All the layers of TFBertModel were initialized from the model checkpoint at ProsusAI/finbert.\n",
      "If your task is similar to the task the model of the checkpoint was trained on, you can already use TFBertModel for predictions without further training.\n",
      "All model checkpoint layers were used when initializing TFBertModel.\n",
      "\n",
      "All the layers of TFBertModel were initialized from the model checkpoint at ProsusAI/finbert.\n",
      "If your task is similar to the task the model of the checkpoint was trained on, you can already use TFBertModel for predictions without further training.\n"
     ]
    },
    {
     "data": {
      "text/plain": [
       "\u001B[1mModel: \"functional\"\u001B[0m\n"
      ],
      "text/html": [
       "<pre style=\"white-space:pre;overflow-x:auto;line-height:normal;font-family:Menlo,'DejaVu Sans Mono',consolas,'Courier New',monospace\"><span style=\"font-weight: bold\">Model: \"functional\"</span>\n",
       "</pre>\n"
      ]
     },
     "metadata": {},
     "output_type": "display_data"
    },
    {
     "data": {
      "text/plain": [
       "┏━━━━━━━━━━━━━━━━━━━━━┳━━━━━━━━━━━━━━━━━━━┳━━━━━━━━━━━━┳━━━━━━━━━━━━━━━━━━━┓\n",
       "┃\u001B[1m \u001B[0m\u001B[1mLayer (type)       \u001B[0m\u001B[1m \u001B[0m┃\u001B[1m \u001B[0m\u001B[1mOutput Shape     \u001B[0m\u001B[1m \u001B[0m┃\u001B[1m \u001B[0m\u001B[1m   Param #\u001B[0m\u001B[1m \u001B[0m┃\u001B[1m \u001B[0m\u001B[1mConnected to     \u001B[0m\u001B[1m \u001B[0m┃\n",
       "┡━━━━━━━━━━━━━━━━━━━━━╇━━━━━━━━━━━━━━━━━━━╇━━━━━━━━━━━━╇━━━━━━━━━━━━━━━━━━━┩\n",
       "│ lstm_input          │ (\u001B[38;5;45mNone\u001B[0m, \u001B[38;5;34m128\u001B[0m)       │          \u001B[38;5;34m0\u001B[0m │ -                 │\n",
       "│ (\u001B[38;5;33mInputLayer\u001B[0m)        │                   │            │                   │\n",
       "├─────────────────────┼───────────────────┼────────────┼───────────────────┤\n",
       "│ embedding           │ (\u001B[38;5;45mNone\u001B[0m, \u001B[38;5;34m128\u001B[0m, \u001B[38;5;34m128\u001B[0m)  │  \u001B[38;5;34m1,280,000\u001B[0m │ lstm_input[\u001B[38;5;34m0\u001B[0m][\u001B[38;5;34m0\u001B[0m]  │\n",
       "│ (\u001B[38;5;33mEmbedding\u001B[0m)         │                   │            │                   │\n",
       "├─────────────────────┼───────────────────┼────────────┼───────────────────┤\n",
       "│ bert_input_ids      │ (\u001B[38;5;45mNone\u001B[0m, \u001B[38;5;34m128\u001B[0m)       │          \u001B[38;5;34m0\u001B[0m │ -                 │\n",
       "│ (\u001B[38;5;33mInputLayer\u001B[0m)        │                   │            │                   │\n",
       "├─────────────────────┼───────────────────┼────────────┼───────────────────┤\n",
       "│ bert_attention_mask │ (\u001B[38;5;45mNone\u001B[0m, \u001B[38;5;34m128\u001B[0m)       │          \u001B[38;5;34m0\u001B[0m │ -                 │\n",
       "│ (\u001B[38;5;33mInputLayer\u001B[0m)        │                   │            │                   │\n",
       "├─────────────────────┼───────────────────┼────────────┼───────────────────┤\n",
       "│ lstm (\u001B[38;5;33mLSTM\u001B[0m)         │ (\u001B[38;5;45mNone\u001B[0m, \u001B[38;5;34m128\u001B[0m)       │    \u001B[38;5;34m131,584\u001B[0m │ embedding[\u001B[38;5;34m0\u001B[0m][\u001B[38;5;34m0\u001B[0m]   │\n",
       "├─────────────────────┼───────────────────┼────────────┼───────────────────┤\n",
       "│ fin_bert_layer      │ (\u001B[38;5;45mNone\u001B[0m, \u001B[38;5;34m768\u001B[0m)       │          \u001B[38;5;34m0\u001B[0m │ bert_input_ids[\u001B[38;5;34m0\u001B[0m… │\n",
       "│ (\u001B[38;5;33mFinBERTLayer\u001B[0m)      │                   │            │ bert_attention_m… │\n",
       "├─────────────────────┼───────────────────┼────────────┼───────────────────┤\n",
       "│ dense (\u001B[38;5;33mDense\u001B[0m)       │ (\u001B[38;5;45mNone\u001B[0m, \u001B[38;5;34m64\u001B[0m)        │      \u001B[38;5;34m8,256\u001B[0m │ lstm[\u001B[38;5;34m0\u001B[0m][\u001B[38;5;34m0\u001B[0m]        │\n",
       "├─────────────────────┼───────────────────┼────────────┼───────────────────┤\n",
       "│ dense_1 (\u001B[38;5;33mDense\u001B[0m)     │ (\u001B[38;5;45mNone\u001B[0m, \u001B[38;5;34m64\u001B[0m)        │     \u001B[38;5;34m49,216\u001B[0m │ fin_bert_layer[\u001B[38;5;34m0\u001B[0m… │\n",
       "├─────────────────────┼───────────────────┼────────────┼───────────────────┤\n",
       "│ dropout (\u001B[38;5;33mDropout\u001B[0m)   │ (\u001B[38;5;45mNone\u001B[0m, \u001B[38;5;34m64\u001B[0m)        │          \u001B[38;5;34m0\u001B[0m │ dense[\u001B[38;5;34m0\u001B[0m][\u001B[38;5;34m0\u001B[0m]       │\n",
       "├─────────────────────┼───────────────────┼────────────┼───────────────────┤\n",
       "│ dropout_1 (\u001B[38;5;33mDropout\u001B[0m) │ (\u001B[38;5;45mNone\u001B[0m, \u001B[38;5;34m64\u001B[0m)        │          \u001B[38;5;34m0\u001B[0m │ dense_1[\u001B[38;5;34m0\u001B[0m][\u001B[38;5;34m0\u001B[0m]     │\n",
       "├─────────────────────┼───────────────────┼────────────┼───────────────────┤\n",
       "│ concatenate         │ (\u001B[38;5;45mNone\u001B[0m, \u001B[38;5;34m128\u001B[0m)       │          \u001B[38;5;34m0\u001B[0m │ dropout[\u001B[38;5;34m0\u001B[0m][\u001B[38;5;34m0\u001B[0m],    │\n",
       "│ (\u001B[38;5;33mConcatenate\u001B[0m)       │                   │            │ dropout_1[\u001B[38;5;34m0\u001B[0m][\u001B[38;5;34m0\u001B[0m]   │\n",
       "├─────────────────────┼───────────────────┼────────────┼───────────────────┤\n",
       "│ dense_2 (\u001B[38;5;33mDense\u001B[0m)     │ (\u001B[38;5;45mNone\u001B[0m, \u001B[38;5;34m64\u001B[0m)        │      \u001B[38;5;34m8,256\u001B[0m │ concatenate[\u001B[38;5;34m0\u001B[0m][\u001B[38;5;34m0\u001B[0m] │\n",
       "├─────────────────────┼───────────────────┼────────────┼───────────────────┤\n",
       "│ dropout_2 (\u001B[38;5;33mDropout\u001B[0m) │ (\u001B[38;5;45mNone\u001B[0m, \u001B[38;5;34m64\u001B[0m)        │          \u001B[38;5;34m0\u001B[0m │ dense_2[\u001B[38;5;34m0\u001B[0m][\u001B[38;5;34m0\u001B[0m]     │\n",
       "├─────────────────────┼───────────────────┼────────────┼───────────────────┤\n",
       "│ dense_3 (\u001B[38;5;33mDense\u001B[0m)     │ (\u001B[38;5;45mNone\u001B[0m, \u001B[38;5;34m3\u001B[0m)         │        \u001B[38;5;34m195\u001B[0m │ dropout_2[\u001B[38;5;34m0\u001B[0m][\u001B[38;5;34m0\u001B[0m]   │\n",
       "└─────────────────────┴───────────────────┴────────────┴───────────────────┘\n"
      ],
      "text/html": [
       "<pre style=\"white-space:pre;overflow-x:auto;line-height:normal;font-family:Menlo,'DejaVu Sans Mono',consolas,'Courier New',monospace\">┏━━━━━━━━━━━━━━━━━━━━━┳━━━━━━━━━━━━━━━━━━━┳━━━━━━━━━━━━┳━━━━━━━━━━━━━━━━━━━┓\n",
       "┃<span style=\"font-weight: bold\"> Layer (type)        </span>┃<span style=\"font-weight: bold\"> Output Shape      </span>┃<span style=\"font-weight: bold\">    Param # </span>┃<span style=\"font-weight: bold\"> Connected to      </span>┃\n",
       "┡━━━━━━━━━━━━━━━━━━━━━╇━━━━━━━━━━━━━━━━━━━╇━━━━━━━━━━━━╇━━━━━━━━━━━━━━━━━━━┩\n",
       "│ lstm_input          │ (<span style=\"color: #00d7ff; text-decoration-color: #00d7ff\">None</span>, <span style=\"color: #00af00; text-decoration-color: #00af00\">128</span>)       │          <span style=\"color: #00af00; text-decoration-color: #00af00\">0</span> │ -                 │\n",
       "│ (<span style=\"color: #0087ff; text-decoration-color: #0087ff\">InputLayer</span>)        │                   │            │                   │\n",
       "├─────────────────────┼───────────────────┼────────────┼───────────────────┤\n",
       "│ embedding           │ (<span style=\"color: #00d7ff; text-decoration-color: #00d7ff\">None</span>, <span style=\"color: #00af00; text-decoration-color: #00af00\">128</span>, <span style=\"color: #00af00; text-decoration-color: #00af00\">128</span>)  │  <span style=\"color: #00af00; text-decoration-color: #00af00\">1,280,000</span> │ lstm_input[<span style=\"color: #00af00; text-decoration-color: #00af00\">0</span>][<span style=\"color: #00af00; text-decoration-color: #00af00\">0</span>]  │\n",
       "│ (<span style=\"color: #0087ff; text-decoration-color: #0087ff\">Embedding</span>)         │                   │            │                   │\n",
       "├─────────────────────┼───────────────────┼────────────┼───────────────────┤\n",
       "│ bert_input_ids      │ (<span style=\"color: #00d7ff; text-decoration-color: #00d7ff\">None</span>, <span style=\"color: #00af00; text-decoration-color: #00af00\">128</span>)       │          <span style=\"color: #00af00; text-decoration-color: #00af00\">0</span> │ -                 │\n",
       "│ (<span style=\"color: #0087ff; text-decoration-color: #0087ff\">InputLayer</span>)        │                   │            │                   │\n",
       "├─────────────────────┼───────────────────┼────────────┼───────────────────┤\n",
       "│ bert_attention_mask │ (<span style=\"color: #00d7ff; text-decoration-color: #00d7ff\">None</span>, <span style=\"color: #00af00; text-decoration-color: #00af00\">128</span>)       │          <span style=\"color: #00af00; text-decoration-color: #00af00\">0</span> │ -                 │\n",
       "│ (<span style=\"color: #0087ff; text-decoration-color: #0087ff\">InputLayer</span>)        │                   │            │                   │\n",
       "├─────────────────────┼───────────────────┼────────────┼───────────────────┤\n",
       "│ lstm (<span style=\"color: #0087ff; text-decoration-color: #0087ff\">LSTM</span>)         │ (<span style=\"color: #00d7ff; text-decoration-color: #00d7ff\">None</span>, <span style=\"color: #00af00; text-decoration-color: #00af00\">128</span>)       │    <span style=\"color: #00af00; text-decoration-color: #00af00\">131,584</span> │ embedding[<span style=\"color: #00af00; text-decoration-color: #00af00\">0</span>][<span style=\"color: #00af00; text-decoration-color: #00af00\">0</span>]   │\n",
       "├─────────────────────┼───────────────────┼────────────┼───────────────────┤\n",
       "│ fin_bert_layer      │ (<span style=\"color: #00d7ff; text-decoration-color: #00d7ff\">None</span>, <span style=\"color: #00af00; text-decoration-color: #00af00\">768</span>)       │          <span style=\"color: #00af00; text-decoration-color: #00af00\">0</span> │ bert_input_ids[<span style=\"color: #00af00; text-decoration-color: #00af00\">0</span>… │\n",
       "│ (<span style=\"color: #0087ff; text-decoration-color: #0087ff\">FinBERTLayer</span>)      │                   │            │ bert_attention_m… │\n",
       "├─────────────────────┼───────────────────┼────────────┼───────────────────┤\n",
       "│ dense (<span style=\"color: #0087ff; text-decoration-color: #0087ff\">Dense</span>)       │ (<span style=\"color: #00d7ff; text-decoration-color: #00d7ff\">None</span>, <span style=\"color: #00af00; text-decoration-color: #00af00\">64</span>)        │      <span style=\"color: #00af00; text-decoration-color: #00af00\">8,256</span> │ lstm[<span style=\"color: #00af00; text-decoration-color: #00af00\">0</span>][<span style=\"color: #00af00; text-decoration-color: #00af00\">0</span>]        │\n",
       "├─────────────────────┼───────────────────┼────────────┼───────────────────┤\n",
       "│ dense_1 (<span style=\"color: #0087ff; text-decoration-color: #0087ff\">Dense</span>)     │ (<span style=\"color: #00d7ff; text-decoration-color: #00d7ff\">None</span>, <span style=\"color: #00af00; text-decoration-color: #00af00\">64</span>)        │     <span style=\"color: #00af00; text-decoration-color: #00af00\">49,216</span> │ fin_bert_layer[<span style=\"color: #00af00; text-decoration-color: #00af00\">0</span>… │\n",
       "├─────────────────────┼───────────────────┼────────────┼───────────────────┤\n",
       "│ dropout (<span style=\"color: #0087ff; text-decoration-color: #0087ff\">Dropout</span>)   │ (<span style=\"color: #00d7ff; text-decoration-color: #00d7ff\">None</span>, <span style=\"color: #00af00; text-decoration-color: #00af00\">64</span>)        │          <span style=\"color: #00af00; text-decoration-color: #00af00\">0</span> │ dense[<span style=\"color: #00af00; text-decoration-color: #00af00\">0</span>][<span style=\"color: #00af00; text-decoration-color: #00af00\">0</span>]       │\n",
       "├─────────────────────┼───────────────────┼────────────┼───────────────────┤\n",
       "│ dropout_1 (<span style=\"color: #0087ff; text-decoration-color: #0087ff\">Dropout</span>) │ (<span style=\"color: #00d7ff; text-decoration-color: #00d7ff\">None</span>, <span style=\"color: #00af00; text-decoration-color: #00af00\">64</span>)        │          <span style=\"color: #00af00; text-decoration-color: #00af00\">0</span> │ dense_1[<span style=\"color: #00af00; text-decoration-color: #00af00\">0</span>][<span style=\"color: #00af00; text-decoration-color: #00af00\">0</span>]     │\n",
       "├─────────────────────┼───────────────────┼────────────┼───────────────────┤\n",
       "│ concatenate         │ (<span style=\"color: #00d7ff; text-decoration-color: #00d7ff\">None</span>, <span style=\"color: #00af00; text-decoration-color: #00af00\">128</span>)       │          <span style=\"color: #00af00; text-decoration-color: #00af00\">0</span> │ dropout[<span style=\"color: #00af00; text-decoration-color: #00af00\">0</span>][<span style=\"color: #00af00; text-decoration-color: #00af00\">0</span>],    │\n",
       "│ (<span style=\"color: #0087ff; text-decoration-color: #0087ff\">Concatenate</span>)       │                   │            │ dropout_1[<span style=\"color: #00af00; text-decoration-color: #00af00\">0</span>][<span style=\"color: #00af00; text-decoration-color: #00af00\">0</span>]   │\n",
       "├─────────────────────┼───────────────────┼────────────┼───────────────────┤\n",
       "│ dense_2 (<span style=\"color: #0087ff; text-decoration-color: #0087ff\">Dense</span>)     │ (<span style=\"color: #00d7ff; text-decoration-color: #00d7ff\">None</span>, <span style=\"color: #00af00; text-decoration-color: #00af00\">64</span>)        │      <span style=\"color: #00af00; text-decoration-color: #00af00\">8,256</span> │ concatenate[<span style=\"color: #00af00; text-decoration-color: #00af00\">0</span>][<span style=\"color: #00af00; text-decoration-color: #00af00\">0</span>] │\n",
       "├─────────────────────┼───────────────────┼────────────┼───────────────────┤\n",
       "│ dropout_2 (<span style=\"color: #0087ff; text-decoration-color: #0087ff\">Dropout</span>) │ (<span style=\"color: #00d7ff; text-decoration-color: #00d7ff\">None</span>, <span style=\"color: #00af00; text-decoration-color: #00af00\">64</span>)        │          <span style=\"color: #00af00; text-decoration-color: #00af00\">0</span> │ dense_2[<span style=\"color: #00af00; text-decoration-color: #00af00\">0</span>][<span style=\"color: #00af00; text-decoration-color: #00af00\">0</span>]     │\n",
       "├─────────────────────┼───────────────────┼────────────┼───────────────────┤\n",
       "│ dense_3 (<span style=\"color: #0087ff; text-decoration-color: #0087ff\">Dense</span>)     │ (<span style=\"color: #00d7ff; text-decoration-color: #00d7ff\">None</span>, <span style=\"color: #00af00; text-decoration-color: #00af00\">3</span>)         │        <span style=\"color: #00af00; text-decoration-color: #00af00\">195</span> │ dropout_2[<span style=\"color: #00af00; text-decoration-color: #00af00\">0</span>][<span style=\"color: #00af00; text-decoration-color: #00af00\">0</span>]   │\n",
       "└─────────────────────┴───────────────────┴────────────┴───────────────────┘\n",
       "</pre>\n"
      ]
     },
     "metadata": {},
     "output_type": "display_data"
    },
    {
     "data": {
      "text/plain": [
       "\u001B[1m Total params: \u001B[0m\u001B[38;5;34m1,477,507\u001B[0m (5.64 MB)\n"
      ],
      "text/html": [
       "<pre style=\"white-space:pre;overflow-x:auto;line-height:normal;font-family:Menlo,'DejaVu Sans Mono',consolas,'Courier New',monospace\"><span style=\"font-weight: bold\"> Total params: </span><span style=\"color: #00af00; text-decoration-color: #00af00\">1,477,507</span> (5.64 MB)\n",
       "</pre>\n"
      ]
     },
     "metadata": {},
     "output_type": "display_data"
    },
    {
     "data": {
      "text/plain": [
       "\u001B[1m Trainable params: \u001B[0m\u001B[38;5;34m1,477,507\u001B[0m (5.64 MB)\n"
      ],
      "text/html": [
       "<pre style=\"white-space:pre;overflow-x:auto;line-height:normal;font-family:Menlo,'DejaVu Sans Mono',consolas,'Courier New',monospace\"><span style=\"font-weight: bold\"> Trainable params: </span><span style=\"color: #00af00; text-decoration-color: #00af00\">1,477,507</span> (5.64 MB)\n",
       "</pre>\n"
      ]
     },
     "metadata": {},
     "output_type": "display_data"
    },
    {
     "data": {
      "text/plain": [
       "\u001B[1m Non-trainable params: \u001B[0m\u001B[38;5;34m0\u001B[0m (0.00 B)\n"
      ],
      "text/html": [
       "<pre style=\"white-space:pre;overflow-x:auto;line-height:normal;font-family:Menlo,'DejaVu Sans Mono',consolas,'Courier New',monospace\"><span style=\"font-weight: bold\"> Non-trainable params: </span><span style=\"color: #00af00; text-decoration-color: #00af00\">0</span> (0.00 B)\n",
       "</pre>\n"
      ]
     },
     "metadata": {},
     "output_type": "display_data"
    }
   ],
   "execution_count": 9
  },
  {
   "metadata": {
    "ExecuteTime": {
     "end_time": "2025-08-02T12:55:22.207563Z",
     "start_time": "2025-08-02T12:55:22.202878Z"
    }
   },
   "cell_type": "code",
   "source": [
    "import os\n",
    "os.environ[\"TOKENIZERS_PARALLELISM\"] = \"false\""
   ],
   "id": "1b00722e5eb66471",
   "outputs": [],
   "execution_count": 10
  },
  {
   "metadata": {
    "ExecuteTime": {
     "end_time": "2025-08-02T12:55:24.794193Z",
     "start_time": "2025-08-02T12:55:24.265211Z"
    }
   },
   "cell_type": "code",
   "source": [
    "# 以下代码是因为\n",
    "# @tf.function 把 adversarial_train_step() 变成了静态计算图。\n",
    "# 第一次 trace 这段图时，里面不能再创建新的 tf.Variable。\n",
    "# 然而 optimizer.apply_gradients() 在 第一次真正更新参数 时，会为每个\n",
    "# model.trainable_variables 再创建一对 slot 变量（Adam 的 m、v）。\n",
    "# 如果这一步发生在已 trace 的 tf.function 里，就触发了上面这条错误。\n",
    "# tf.function的好处\n",
    "# 把 @tf.function 留着可以让 TensorFlow 把那一段代码「下沉」到 XLA/ GPU 的计算图里，\n",
    "# 吞吐量会明显高一些。关键是：第一次 trace 的时候，里面不能再生成任何新的 tf.Variable——\n",
    "# 所以只要把 Adam 的 slot-variables 提前建好，tf.function 就能一直用，报错也不会再来。\n",
    "# 且以下代码需要在@tf.function之前运行，否则第二次trace的时候会生成新的变量\n",
    "# 0️⃣  模型先 build（只要跑过一次前向就行）\n",
    "_ = fusion_model([           # dummy forward\n",
    "        tf.zeros_like(X_train_lstm[:1], dtype=tf.float32),\n",
    "        tf.zeros_like(train_bert_inputs[\"input_ids\"][:1], dtype=tf.int32),\n",
    "        tf.zeros_like(train_bert_inputs[\"attention_mask\"][:1], dtype=tf.int32),\n",
    "    ])\n",
    "\n",
    "# 1️⃣  创建优化器\n",
    "optimizer = tf.keras.optimizers.Adam(learning_rate=2e-5)\n",
    "\n",
    "# 2️⃣  **关键一步**：给 Adam 把 m/v slot 变量建好\n",
    "optimizer.build(fusion_model.trainable_variables)\n",
    "# 也可以等价地：\n",
    "# _ = optimizer.apply_gradients(\n",
    "#         zip([tf.zeros_like(v) for v in fusion_model.trainable_variables],\n",
    "#             fusion_model.trainable_variables))\n",
    "\n",
    "# 3️⃣  其余代码不变；adversarial_train_step 继续保持 @tf.function\n"
   ],
   "id": "6b97bb80a734cc2d",
   "outputs": [],
   "execution_count": 11
  },
  {
   "metadata": {
    "ExecuteTime": {
     "end_time": "2025-08-02T14:34:12.692870Z",
     "start_time": "2025-08-02T14:34:12.169395Z"
    }
   },
   "cell_type": "code",
   "source": [
    "import tensorflow as tf\n",
    "from tqdm import tqdm\n",
    "\n",
    "# —— 1. 单步对抗训练（编译成计算图） ————————————————\n",
    "# adversarial_train_step --------------------------------------------------\n",
    "@tf.function\n",
    "def adversarial_train_step(model, batch_tuple, labels, optimizer, epsilon):\n",
    "    \"\"\"\n",
    "    batch_tuple = (lstm_in, ids, mask)\n",
    "    \"\"\"\n",
    "    lstm_in, ids, mask = batch_tuple         # unpack 一次，后面全用这三个对象\n",
    "\n",
    "    # ---------- FGSM 生成对抗样本 ----------\n",
    "    with tf.GradientTape() as tape_fgsm:\n",
    "        tape_fgsm.watch(lstm_in)             # watch 的正是 list 里的对象\n",
    "        pred = model([lstm_in, ids, mask], training=False)\n",
    "        loss_fgsm = tf.reduce_mean(\n",
    "            tf.keras.losses.sparse_categorical_crossentropy(labels, pred)\n",
    "        )\n",
    "    grad = tape_fgsm.gradient(loss_fgsm, lstm_in)\n",
    "    # 捕获 None 的情况：如果为 None，直接跳过对抗扰动\n",
    "    if grad is None:\n",
    "        adv_lstm = lstm_in                   # fall-back：不用对抗\n",
    "    else:\n",
    "        adv_lstm = lstm_in + epsilon * tf.sign(grad)\n",
    "        adv_lstm = tf.clip_by_value(\n",
    "            adv_lstm,\n",
    "            tf.reduce_min(lstm_in),\n",
    "            tf.reduce_max(lstm_in),\n",
    "        )\n",
    "\n",
    "    # ---------- 用对抗样本做一次正常反向 ----------\n",
    "    with tf.GradientTape() as tape_train:\n",
    "        adv_pred = model([adv_lstm, ids, mask], training=True)\n",
    "        train_loss = tf.reduce_mean(\n",
    "            tf.keras.losses.sparse_categorical_crossentropy(labels, adv_pred)\n",
    "        )\n",
    "    grads = tape_train.gradient(train_loss, model.trainable_variables)\n",
    "    optimizer.apply_gradients(zip(grads, model.trainable_variables))\n",
    "\n",
    "    # 返回 metrics\n",
    "    acc = tf.reduce_mean(\n",
    "        tf.cast(tf.equal(\n",
    "            labels,\n",
    "            tf.argmax(adv_pred, axis=1, output_type=tf.int32)  # ← 关键\n",
    "        ), tf.float32)\n",
    "    )\n",
    "\n",
    "    return train_loss, acc\n",
    "\n",
    "\n",
    "# —— 2. 训练循环 ————————————————————————\n",
    "def train_with_adversarial(model, train_ds, val_ds,\n",
    "                           epochs=3, epsilon=0.01, lr=2e-5):\n",
    "    optimizer = tf.keras.optimizers.Adam(lr)\n",
    "\n",
    "    for epoch in range(1, epochs+1):\n",
    "        # ---------- train ----------\n",
    "        tr_loss = tf.metrics.Mean()\n",
    "        tr_acc  = tf.metrics.Mean()\n",
    "        for lstm_b, ids_b, mask_b, y_b in tqdm(train_ds,\n",
    "                                               desc=f\"[Epoch {epoch}] training\"):\n",
    "            loss, acc = adversarial_train_step(\n",
    "                model,\n",
    "                (lstm_b, ids_b, mask_b),\n",
    "                y_b,\n",
    "                optimizer,\n",
    "                epsilon\n",
    "            )\n",
    "            tr_loss(loss); tr_acc(acc)\n",
    "\n",
    "        # ---------- val ----------\n",
    "        vl_loss = tf.metrics.Mean()\n",
    "        vl_acc  = tf.metrics.Mean()\n",
    "        for lstm_b, ids_b, mask_b, y_b in val_ds:\n",
    "            # ① 前向推断\n",
    "            pred = model([lstm_b, ids_b, mask_b], training=False)\n",
    "\n",
    "            # ② 计算指标\n",
    "            vl_loss(\n",
    "                tf.reduce_mean(\n",
    "                    tf.keras.losses.sparse_categorical_crossentropy(y_b, pred)\n",
    "                )\n",
    "            )\n",
    "            pred_ids = tf.argmax(pred, axis=1, output_type=tf.int32)  # 要先有 pred\n",
    "            vl_acc(\n",
    "                tf.reduce_mean(\n",
    "                    tf.cast(tf.equal(y_b, pred_ids), tf.float32)\n",
    "                )\n",
    "            )\n",
    "\n",
    "\n",
    "\n",
    "        print(f\"[Epoch {epoch}] \"\n",
    "              f\"train_loss={tr_loss.result():.4f}  train_acc={tr_acc.result():.4f} | \"\n",
    "              f\"val_loss={vl_loss.result():.4f}  val_acc={vl_acc.result():.4f}\")\n",
    "\n"
   ],
   "id": "9b83b80cef1e861d",
   "outputs": [],
   "execution_count": 16
  },
  {
   "cell_type": "code",
   "id": "abfc3a47-8468-4b7e-bc37-bef5b4daa87f",
   "metadata": {
    "editable": true,
    "slideshow": {
     "slide_type": ""
    },
    "tags": [],
    "ExecuteTime": {
     "end_time": "2025-08-02T15:12:52.117376Z",
     "start_time": "2025-08-02T14:34:16.771210Z"
    }
   },
   "source": [
    "import tensorflow as tf\n",
    "\n",
    "BATCH   = 32\n",
    "SHUFFLE = len(y_train)\n",
    "\n",
    "# ---------- 训练集 ----------\n",
    "train_ds = tf.data.Dataset.from_tensor_slices(\n",
    "    (\n",
    "        tf.cast(X_train_lstm, tf.float32),\n",
    "        tf.cast(train_bert_inputs['input_ids'],     tf.int32),\n",
    "        tf.cast(train_bert_inputs['attention_mask'],tf.int32),\n",
    "        tf.cast(y_train, tf.int32)                  # ← 这里\n",
    "    )\n",
    ").shuffle(SHUFFLE).batch(BATCH)\n",
    "\n",
    "# ---------- 测试集 -----------\n",
    "val_ds = tf.data.Dataset.from_tensor_slices(\n",
    "    (\n",
    "        tf.cast(X_val_lstm, tf.float32),\n",
    "        tf.cast(val_bert_inputs['input_ids'],       tf.int32),\n",
    "        tf.cast(val_bert_inputs['attention_mask'],  tf.int32),\n",
    "        tf.cast(y_val,   tf.int32)                  # ← 这里\n",
    "    )\n",
    ").batch(BATCH)\n",
    "\n",
    "\n",
    "# ---------- 开跑 ----------\n",
    "train_with_adversarial(\n",
    "    fusion_model,\n",
    "    train_ds,\n",
    "    val_ds,\n",
    "    epochs  = 3,\n",
    "    epsilon = 0.01,\n",
    "    lr      = 2e-5,\n",
    ")\n"
   ],
   "outputs": [
    {
     "name": "stderr",
     "output_type": "stream",
     "text": [
      "[Epoch 1] training: 100%|██████████| 219/219 [09:29<00:00,  2.60s/it]\n",
      "2025-08-02 22:47:13.739510: I tensorflow/core/framework/local_rendezvous.cc:405] Local rendezvous is aborting with status: OUT_OF_RANGE: End of sequence\n"
     ]
    },
    {
     "name": "stdout",
     "output_type": "stream",
     "text": [
      "[Epoch 1] train_loss=0.5994  train_acc=0.7743 | val_loss=0.5398  val_acc=0.8041\n"
     ]
    },
    {
     "name": "stderr",
     "output_type": "stream",
     "text": [
      "[Epoch 2] training: 100%|██████████| 219/219 [09:51<00:00,  2.70s/it]\n"
     ]
    },
    {
     "name": "stdout",
     "output_type": "stream",
     "text": [
      "[Epoch 2] train_loss=0.5770  train_acc=0.7853 | val_loss=0.5214  val_acc=0.8075\n"
     ]
    },
    {
     "name": "stderr",
     "output_type": "stream",
     "text": [
      "[Epoch 3] training: 100%|██████████| 219/219 [08:53<00:00,  2.43s/it]\n"
     ]
    },
    {
     "name": "stdout",
     "output_type": "stream",
     "text": [
      "[Epoch 3] train_loss=0.5662  train_acc=0.7901 | val_loss=0.5086  val_acc=0.8115\n"
     ]
    },
    {
     "name": "stderr",
     "output_type": "stream",
     "text": [
      "2025-08-02 23:12:52.094149: I tensorflow/core/framework/local_rendezvous.cc:405] Local rendezvous is aborting with status: OUT_OF_RANGE: End of sequence\n"
     ]
    }
   ],
   "execution_count": 17
  },
  {
   "cell_type": "code",
   "id": "c943a4c0-25c9-4f6d-b2c2-922e1b1e8206",
   "metadata": {
    "ExecuteTime": {
     "end_time": "2025-08-02T15:21:03.176660Z",
     "start_time": "2025-08-02T15:21:02.907425Z"
    }
   },
   "source": "fusion_model.save(\"fusion_adversarial_model.keras\")",
   "outputs": [],
   "execution_count": 18
  },
  {
   "metadata": {},
   "cell_type": "markdown",
   "source": "# Evaluation",
   "id": "6b3fea7e60c811b6"
  },
  {
   "cell_type": "code",
   "id": "695f90c4-6436-4619-a27b-9c0af53a2ac0",
   "metadata": {
    "ExecuteTime": {
     "end_time": "2025-08-02T15:26:46.249365Z",
     "start_time": "2025-08-02T15:26:46.203889Z"
    }
   },
   "source": "fusion_model.summary()\n",
   "outputs": [
    {
     "data": {
      "text/plain": [
       "\u001B[1mModel: \"functional\"\u001B[0m\n"
      ],
      "text/html": [
       "<pre style=\"white-space:pre;overflow-x:auto;line-height:normal;font-family:Menlo,'DejaVu Sans Mono',consolas,'Courier New',monospace\"><span style=\"font-weight: bold\">Model: \"functional\"</span>\n",
       "</pre>\n"
      ]
     },
     "metadata": {},
     "output_type": "display_data"
    },
    {
     "data": {
      "text/plain": [
       "┏━━━━━━━━━━━━━━━━━━━━━┳━━━━━━━━━━━━━━━━━━━┳━━━━━━━━━━━━┳━━━━━━━━━━━━━━━━━━━┓\n",
       "┃\u001B[1m \u001B[0m\u001B[1mLayer (type)       \u001B[0m\u001B[1m \u001B[0m┃\u001B[1m \u001B[0m\u001B[1mOutput Shape     \u001B[0m\u001B[1m \u001B[0m┃\u001B[1m \u001B[0m\u001B[1m   Param #\u001B[0m\u001B[1m \u001B[0m┃\u001B[1m \u001B[0m\u001B[1mConnected to     \u001B[0m\u001B[1m \u001B[0m┃\n",
       "┡━━━━━━━━━━━━━━━━━━━━━╇━━━━━━━━━━━━━━━━━━━╇━━━━━━━━━━━━╇━━━━━━━━━━━━━━━━━━━┩\n",
       "│ lstm_input          │ (\u001B[38;5;45mNone\u001B[0m, \u001B[38;5;34m128\u001B[0m)       │          \u001B[38;5;34m0\u001B[0m │ -                 │\n",
       "│ (\u001B[38;5;33mInputLayer\u001B[0m)        │                   │            │                   │\n",
       "├─────────────────────┼───────────────────┼────────────┼───────────────────┤\n",
       "│ embedding           │ (\u001B[38;5;45mNone\u001B[0m, \u001B[38;5;34m128\u001B[0m, \u001B[38;5;34m128\u001B[0m)  │  \u001B[38;5;34m1,280,000\u001B[0m │ lstm_input[\u001B[38;5;34m0\u001B[0m][\u001B[38;5;34m0\u001B[0m]  │\n",
       "│ (\u001B[38;5;33mEmbedding\u001B[0m)         │                   │            │                   │\n",
       "├─────────────────────┼───────────────────┼────────────┼───────────────────┤\n",
       "│ bert_input_ids      │ (\u001B[38;5;45mNone\u001B[0m, \u001B[38;5;34m128\u001B[0m)       │          \u001B[38;5;34m0\u001B[0m │ -                 │\n",
       "│ (\u001B[38;5;33mInputLayer\u001B[0m)        │                   │            │                   │\n",
       "├─────────────────────┼───────────────────┼────────────┼───────────────────┤\n",
       "│ bert_attention_mask │ (\u001B[38;5;45mNone\u001B[0m, \u001B[38;5;34m128\u001B[0m)       │          \u001B[38;5;34m0\u001B[0m │ -                 │\n",
       "│ (\u001B[38;5;33mInputLayer\u001B[0m)        │                   │            │                   │\n",
       "├─────────────────────┼───────────────────┼────────────┼───────────────────┤\n",
       "│ lstm (\u001B[38;5;33mLSTM\u001B[0m)         │ (\u001B[38;5;45mNone\u001B[0m, \u001B[38;5;34m128\u001B[0m)       │    \u001B[38;5;34m131,584\u001B[0m │ embedding[\u001B[38;5;34m0\u001B[0m][\u001B[38;5;34m0\u001B[0m]   │\n",
       "├─────────────────────┼───────────────────┼────────────┼───────────────────┤\n",
       "│ fin_bert_layer      │ (\u001B[38;5;45mNone\u001B[0m, \u001B[38;5;34m768\u001B[0m)       │          \u001B[38;5;34m0\u001B[0m │ bert_input_ids[\u001B[38;5;34m0\u001B[0m… │\n",
       "│ (\u001B[38;5;33mFinBERTLayer\u001B[0m)      │                   │            │ bert_attention_m… │\n",
       "├─────────────────────┼───────────────────┼────────────┼───────────────────┤\n",
       "│ dense (\u001B[38;5;33mDense\u001B[0m)       │ (\u001B[38;5;45mNone\u001B[0m, \u001B[38;5;34m64\u001B[0m)        │      \u001B[38;5;34m8,256\u001B[0m │ lstm[\u001B[38;5;34m0\u001B[0m][\u001B[38;5;34m0\u001B[0m]        │\n",
       "├─────────────────────┼───────────────────┼────────────┼───────────────────┤\n",
       "│ dense_1 (\u001B[38;5;33mDense\u001B[0m)     │ (\u001B[38;5;45mNone\u001B[0m, \u001B[38;5;34m64\u001B[0m)        │     \u001B[38;5;34m49,216\u001B[0m │ fin_bert_layer[\u001B[38;5;34m0\u001B[0m… │\n",
       "├─────────────────────┼───────────────────┼────────────┼───────────────────┤\n",
       "│ dropout (\u001B[38;5;33mDropout\u001B[0m)   │ (\u001B[38;5;45mNone\u001B[0m, \u001B[38;5;34m64\u001B[0m)        │          \u001B[38;5;34m0\u001B[0m │ dense[\u001B[38;5;34m0\u001B[0m][\u001B[38;5;34m0\u001B[0m]       │\n",
       "├─────────────────────┼───────────────────┼────────────┼───────────────────┤\n",
       "│ dropout_1 (\u001B[38;5;33mDropout\u001B[0m) │ (\u001B[38;5;45mNone\u001B[0m, \u001B[38;5;34m64\u001B[0m)        │          \u001B[38;5;34m0\u001B[0m │ dense_1[\u001B[38;5;34m0\u001B[0m][\u001B[38;5;34m0\u001B[0m]     │\n",
       "├─────────────────────┼───────────────────┼────────────┼───────────────────┤\n",
       "│ concatenate         │ (\u001B[38;5;45mNone\u001B[0m, \u001B[38;5;34m128\u001B[0m)       │          \u001B[38;5;34m0\u001B[0m │ dropout[\u001B[38;5;34m0\u001B[0m][\u001B[38;5;34m0\u001B[0m],    │\n",
       "│ (\u001B[38;5;33mConcatenate\u001B[0m)       │                   │            │ dropout_1[\u001B[38;5;34m0\u001B[0m][\u001B[38;5;34m0\u001B[0m]   │\n",
       "├─────────────────────┼───────────────────┼────────────┼───────────────────┤\n",
       "│ dense_2 (\u001B[38;5;33mDense\u001B[0m)     │ (\u001B[38;5;45mNone\u001B[0m, \u001B[38;5;34m64\u001B[0m)        │      \u001B[38;5;34m8,256\u001B[0m │ concatenate[\u001B[38;5;34m0\u001B[0m][\u001B[38;5;34m0\u001B[0m] │\n",
       "├─────────────────────┼───────────────────┼────────────┼───────────────────┤\n",
       "│ dropout_2 (\u001B[38;5;33mDropout\u001B[0m) │ (\u001B[38;5;45mNone\u001B[0m, \u001B[38;5;34m64\u001B[0m)        │          \u001B[38;5;34m0\u001B[0m │ dense_2[\u001B[38;5;34m0\u001B[0m][\u001B[38;5;34m0\u001B[0m]     │\n",
       "├─────────────────────┼───────────────────┼────────────┼───────────────────┤\n",
       "│ dense_3 (\u001B[38;5;33mDense\u001B[0m)     │ (\u001B[38;5;45mNone\u001B[0m, \u001B[38;5;34m3\u001B[0m)         │        \u001B[38;5;34m195\u001B[0m │ dropout_2[\u001B[38;5;34m0\u001B[0m][\u001B[38;5;34m0\u001B[0m]   │\n",
       "└─────────────────────┴───────────────────┴────────────┴───────────────────┘\n"
      ],
      "text/html": [
       "<pre style=\"white-space:pre;overflow-x:auto;line-height:normal;font-family:Menlo,'DejaVu Sans Mono',consolas,'Courier New',monospace\">┏━━━━━━━━━━━━━━━━━━━━━┳━━━━━━━━━━━━━━━━━━━┳━━━━━━━━━━━━┳━━━━━━━━━━━━━━━━━━━┓\n",
       "┃<span style=\"font-weight: bold\"> Layer (type)        </span>┃<span style=\"font-weight: bold\"> Output Shape      </span>┃<span style=\"font-weight: bold\">    Param # </span>┃<span style=\"font-weight: bold\"> Connected to      </span>┃\n",
       "┡━━━━━━━━━━━━━━━━━━━━━╇━━━━━━━━━━━━━━━━━━━╇━━━━━━━━━━━━╇━━━━━━━━━━━━━━━━━━━┩\n",
       "│ lstm_input          │ (<span style=\"color: #00d7ff; text-decoration-color: #00d7ff\">None</span>, <span style=\"color: #00af00; text-decoration-color: #00af00\">128</span>)       │          <span style=\"color: #00af00; text-decoration-color: #00af00\">0</span> │ -                 │\n",
       "│ (<span style=\"color: #0087ff; text-decoration-color: #0087ff\">InputLayer</span>)        │                   │            │                   │\n",
       "├─────────────────────┼───────────────────┼────────────┼───────────────────┤\n",
       "│ embedding           │ (<span style=\"color: #00d7ff; text-decoration-color: #00d7ff\">None</span>, <span style=\"color: #00af00; text-decoration-color: #00af00\">128</span>, <span style=\"color: #00af00; text-decoration-color: #00af00\">128</span>)  │  <span style=\"color: #00af00; text-decoration-color: #00af00\">1,280,000</span> │ lstm_input[<span style=\"color: #00af00; text-decoration-color: #00af00\">0</span>][<span style=\"color: #00af00; text-decoration-color: #00af00\">0</span>]  │\n",
       "│ (<span style=\"color: #0087ff; text-decoration-color: #0087ff\">Embedding</span>)         │                   │            │                   │\n",
       "├─────────────────────┼───────────────────┼────────────┼───────────────────┤\n",
       "│ bert_input_ids      │ (<span style=\"color: #00d7ff; text-decoration-color: #00d7ff\">None</span>, <span style=\"color: #00af00; text-decoration-color: #00af00\">128</span>)       │          <span style=\"color: #00af00; text-decoration-color: #00af00\">0</span> │ -                 │\n",
       "│ (<span style=\"color: #0087ff; text-decoration-color: #0087ff\">InputLayer</span>)        │                   │            │                   │\n",
       "├─────────────────────┼───────────────────┼────────────┼───────────────────┤\n",
       "│ bert_attention_mask │ (<span style=\"color: #00d7ff; text-decoration-color: #00d7ff\">None</span>, <span style=\"color: #00af00; text-decoration-color: #00af00\">128</span>)       │          <span style=\"color: #00af00; text-decoration-color: #00af00\">0</span> │ -                 │\n",
       "│ (<span style=\"color: #0087ff; text-decoration-color: #0087ff\">InputLayer</span>)        │                   │            │                   │\n",
       "├─────────────────────┼───────────────────┼────────────┼───────────────────┤\n",
       "│ lstm (<span style=\"color: #0087ff; text-decoration-color: #0087ff\">LSTM</span>)         │ (<span style=\"color: #00d7ff; text-decoration-color: #00d7ff\">None</span>, <span style=\"color: #00af00; text-decoration-color: #00af00\">128</span>)       │    <span style=\"color: #00af00; text-decoration-color: #00af00\">131,584</span> │ embedding[<span style=\"color: #00af00; text-decoration-color: #00af00\">0</span>][<span style=\"color: #00af00; text-decoration-color: #00af00\">0</span>]   │\n",
       "├─────────────────────┼───────────────────┼────────────┼───────────────────┤\n",
       "│ fin_bert_layer      │ (<span style=\"color: #00d7ff; text-decoration-color: #00d7ff\">None</span>, <span style=\"color: #00af00; text-decoration-color: #00af00\">768</span>)       │          <span style=\"color: #00af00; text-decoration-color: #00af00\">0</span> │ bert_input_ids[<span style=\"color: #00af00; text-decoration-color: #00af00\">0</span>… │\n",
       "│ (<span style=\"color: #0087ff; text-decoration-color: #0087ff\">FinBERTLayer</span>)      │                   │            │ bert_attention_m… │\n",
       "├─────────────────────┼───────────────────┼────────────┼───────────────────┤\n",
       "│ dense (<span style=\"color: #0087ff; text-decoration-color: #0087ff\">Dense</span>)       │ (<span style=\"color: #00d7ff; text-decoration-color: #00d7ff\">None</span>, <span style=\"color: #00af00; text-decoration-color: #00af00\">64</span>)        │      <span style=\"color: #00af00; text-decoration-color: #00af00\">8,256</span> │ lstm[<span style=\"color: #00af00; text-decoration-color: #00af00\">0</span>][<span style=\"color: #00af00; text-decoration-color: #00af00\">0</span>]        │\n",
       "├─────────────────────┼───────────────────┼────────────┼───────────────────┤\n",
       "│ dense_1 (<span style=\"color: #0087ff; text-decoration-color: #0087ff\">Dense</span>)     │ (<span style=\"color: #00d7ff; text-decoration-color: #00d7ff\">None</span>, <span style=\"color: #00af00; text-decoration-color: #00af00\">64</span>)        │     <span style=\"color: #00af00; text-decoration-color: #00af00\">49,216</span> │ fin_bert_layer[<span style=\"color: #00af00; text-decoration-color: #00af00\">0</span>… │\n",
       "├─────────────────────┼───────────────────┼────────────┼───────────────────┤\n",
       "│ dropout (<span style=\"color: #0087ff; text-decoration-color: #0087ff\">Dropout</span>)   │ (<span style=\"color: #00d7ff; text-decoration-color: #00d7ff\">None</span>, <span style=\"color: #00af00; text-decoration-color: #00af00\">64</span>)        │          <span style=\"color: #00af00; text-decoration-color: #00af00\">0</span> │ dense[<span style=\"color: #00af00; text-decoration-color: #00af00\">0</span>][<span style=\"color: #00af00; text-decoration-color: #00af00\">0</span>]       │\n",
       "├─────────────────────┼───────────────────┼────────────┼───────────────────┤\n",
       "│ dropout_1 (<span style=\"color: #0087ff; text-decoration-color: #0087ff\">Dropout</span>) │ (<span style=\"color: #00d7ff; text-decoration-color: #00d7ff\">None</span>, <span style=\"color: #00af00; text-decoration-color: #00af00\">64</span>)        │          <span style=\"color: #00af00; text-decoration-color: #00af00\">0</span> │ dense_1[<span style=\"color: #00af00; text-decoration-color: #00af00\">0</span>][<span style=\"color: #00af00; text-decoration-color: #00af00\">0</span>]     │\n",
       "├─────────────────────┼───────────────────┼────────────┼───────────────────┤\n",
       "│ concatenate         │ (<span style=\"color: #00d7ff; text-decoration-color: #00d7ff\">None</span>, <span style=\"color: #00af00; text-decoration-color: #00af00\">128</span>)       │          <span style=\"color: #00af00; text-decoration-color: #00af00\">0</span> │ dropout[<span style=\"color: #00af00; text-decoration-color: #00af00\">0</span>][<span style=\"color: #00af00; text-decoration-color: #00af00\">0</span>],    │\n",
       "│ (<span style=\"color: #0087ff; text-decoration-color: #0087ff\">Concatenate</span>)       │                   │            │ dropout_1[<span style=\"color: #00af00; text-decoration-color: #00af00\">0</span>][<span style=\"color: #00af00; text-decoration-color: #00af00\">0</span>]   │\n",
       "├─────────────────────┼───────────────────┼────────────┼───────────────────┤\n",
       "│ dense_2 (<span style=\"color: #0087ff; text-decoration-color: #0087ff\">Dense</span>)     │ (<span style=\"color: #00d7ff; text-decoration-color: #00d7ff\">None</span>, <span style=\"color: #00af00; text-decoration-color: #00af00\">64</span>)        │      <span style=\"color: #00af00; text-decoration-color: #00af00\">8,256</span> │ concatenate[<span style=\"color: #00af00; text-decoration-color: #00af00\">0</span>][<span style=\"color: #00af00; text-decoration-color: #00af00\">0</span>] │\n",
       "├─────────────────────┼───────────────────┼────────────┼───────────────────┤\n",
       "│ dropout_2 (<span style=\"color: #0087ff; text-decoration-color: #0087ff\">Dropout</span>) │ (<span style=\"color: #00d7ff; text-decoration-color: #00d7ff\">None</span>, <span style=\"color: #00af00; text-decoration-color: #00af00\">64</span>)        │          <span style=\"color: #00af00; text-decoration-color: #00af00\">0</span> │ dense_2[<span style=\"color: #00af00; text-decoration-color: #00af00\">0</span>][<span style=\"color: #00af00; text-decoration-color: #00af00\">0</span>]     │\n",
       "├─────────────────────┼───────────────────┼────────────┼───────────────────┤\n",
       "│ dense_3 (<span style=\"color: #0087ff; text-decoration-color: #0087ff\">Dense</span>)     │ (<span style=\"color: #00d7ff; text-decoration-color: #00d7ff\">None</span>, <span style=\"color: #00af00; text-decoration-color: #00af00\">3</span>)         │        <span style=\"color: #00af00; text-decoration-color: #00af00\">195</span> │ dropout_2[<span style=\"color: #00af00; text-decoration-color: #00af00\">0</span>][<span style=\"color: #00af00; text-decoration-color: #00af00\">0</span>]   │\n",
       "└─────────────────────┴───────────────────┴────────────┴───────────────────┘\n",
       "</pre>\n"
      ]
     },
     "metadata": {},
     "output_type": "display_data"
    },
    {
     "data": {
      "text/plain": [
       "\u001B[1m Total params: \u001B[0m\u001B[38;5;34m1,477,507\u001B[0m (5.64 MB)\n"
      ],
      "text/html": [
       "<pre style=\"white-space:pre;overflow-x:auto;line-height:normal;font-family:Menlo,'DejaVu Sans Mono',consolas,'Courier New',monospace\"><span style=\"font-weight: bold\"> Total params: </span><span style=\"color: #00af00; text-decoration-color: #00af00\">1,477,507</span> (5.64 MB)\n",
       "</pre>\n"
      ]
     },
     "metadata": {},
     "output_type": "display_data"
    },
    {
     "data": {
      "text/plain": [
       "\u001B[1m Trainable params: \u001B[0m\u001B[38;5;34m1,477,507\u001B[0m (5.64 MB)\n"
      ],
      "text/html": [
       "<pre style=\"white-space:pre;overflow-x:auto;line-height:normal;font-family:Menlo,'DejaVu Sans Mono',consolas,'Courier New',monospace\"><span style=\"font-weight: bold\"> Trainable params: </span><span style=\"color: #00af00; text-decoration-color: #00af00\">1,477,507</span> (5.64 MB)\n",
       "</pre>\n"
      ]
     },
     "metadata": {},
     "output_type": "display_data"
    },
    {
     "data": {
      "text/plain": [
       "\u001B[1m Non-trainable params: \u001B[0m\u001B[38;5;34m0\u001B[0m (0.00 B)\n"
      ],
      "text/html": [
       "<pre style=\"white-space:pre;overflow-x:auto;line-height:normal;font-family:Menlo,'DejaVu Sans Mono',consolas,'Courier New',monospace\"><span style=\"font-weight: bold\"> Non-trainable params: </span><span style=\"color: #00af00; text-decoration-color: #00af00\">0</span> (0.00 B)\n",
       "</pre>\n"
      ]
     },
     "metadata": {},
     "output_type": "display_data"
    }
   ],
   "execution_count": 22
  },
  {
   "cell_type": "code",
   "execution_count": 40,
   "id": "1984f5ff-d551-40ab-b73b-04ab87a2fcb1",
   "metadata": {
    "editable": true,
    "slideshow": {
     "slide_type": ""
    },
    "tags": []
   },
   "outputs": [
    {
     "name": "stderr",
     "output_type": "stream",
     "text": [
      "All model checkpoint layers were used when initializing TFBertModel.\n",
      "\n",
      "All the layers of TFBertModel were initialized from the model checkpoint at ProsusAI/finbert.\n",
      "If your task is similar to the task the model of the checkpoint was trained on, you can already use TFBertModel for predictions without further training.\n",
      "/opt/anaconda3/lib/python3.12/site-packages/keras/src/saving/saving_lib.py:719: UserWarning: Skipping variable loading for optimizer 'rmsprop', because it has 14 variables whereas the saved optimizer has 2 variables. \n",
      "  saveable.load_own_variables(weights_store.get(inner_path))\n"
     ]
    }
   ],
   "source": [
    "# 定义自定义层\n",
    "class FinBERTLayer(tf.keras.layers.Layer):\n",
    "    def __init__(self, pretrained_model_name=\"ProsusAI/finbert\", **kwargs):\n",
    "        super(FinBERTLayer, self).__init__(**kwargs)\n",
    "        self.bert = TFBertModel.from_pretrained(pretrained_model_name)\n",
    "\n",
    "    def call(self, inputs, **kwargs):\n",
    "        input_ids, attention_mask = inputs\n",
    "        bert_outputs = self.bert(input_ids=input_ids, attention_mask=attention_mask, **kwargs)\n",
    "        return bert_outputs.last_hidden_state[:, 0, :]  # CLS token 输出\n",
    "\n",
    "# 加载对抗训练后的模型\n",
    "fusion_adversarial_model = tf.keras.models.load_model(\"../fusion_adversarial_model.keras\", custom_objects={\"FinBERTLayer\": FinBERTLayer})"
   ]
  },
  {
   "cell_type": "code",
   "id": "1d4f7b59-cd41-4abc-8c12-80b2031c6c28",
   "metadata": {
    "editable": true,
    "slideshow": {
     "slide_type": ""
    },
    "tags": [],
    "ExecuteTime": {
     "end_time": "2025-08-02T15:30:45.835436Z",
     "start_time": "2025-08-02T15:27:38.548699Z"
    }
   },
   "source": [
    "# 在测试集上评估对抗训练后的模型\n",
    "test_loss, test_accuracy = fusion_model.evaluate(\n",
    "    [X_test_lstm, test_bert_inputs['input_ids'], test_bert_inputs['attention_mask']],\n",
    "    y_test\n",
    ")\n",
    "print(f\"Test Loss (融合对抗模型): {test_loss}, Test Accuracy (融合对抗模型): {test_accuracy}\")"
   ],
   "outputs": [
    {
     "name": "stderr",
     "output_type": "stream",
     "text": [
      "/opt/anaconda3/lib/python3.12/site-packages/keras/src/models/functional.py:225: UserWarning: The structure of `inputs` doesn't match the expected structure: ['lstm_input', 'bert_input_ids', 'bert_attention_mask']. Received: the structure of inputs=('*', '*', '*')\n",
      "  warnings.warn(\n"
     ]
    },
    {
     "name": "stdout",
     "output_type": "stream",
     "text": [
      "\u001B[1m73/73\u001B[0m \u001B[32m━━━━━━━━━━━━━━━━━━━━\u001B[0m\u001B[37m\u001B[0m \u001B[1m187s\u001B[0m 3s/step - accuracy: 0.8213 - loss: 0.4920\n",
      "Test Loss (融合对抗模型): 0.47515568137168884, Test Accuracy (融合对抗模型): 0.8185328245162964\n"
     ]
    }
   ],
   "execution_count": 24
  },
  {
   "cell_type": "code",
   "id": "7cdbaf76-897e-44fc-87f6-47f65ccdbe79",
   "metadata": {
    "editable": true,
    "slideshow": {
     "slide_type": ""
    },
    "tags": [],
    "ExecuteTime": {
     "end_time": "2025-08-02T15:38:42.533247Z",
     "start_time": "2025-08-02T15:31:37.301071Z"
    }
   },
   "source": [
    "from sklearn.metrics import f1_score, classification_report\n",
    "\n",
    "y_pred_prob = fusion_model.predict([X_test_lstm, test_bert_inputs['input_ids'], test_bert_inputs['attention_mask']])\n",
    "y_pred = y_pred_prob.argmax(axis=1) \n",
    "\n",
    "f1 = f1_score(y_test, y_pred, average='weighted')\n",
    "print(f\"融合模型的 F1-Score: {f1:.4f}\")\n",
    "print(\"\\n分类报告：\")\n",
    "print(classification_report(y_test, y_pred, target_names=[\"Positive\", \"Neutral\", \"Negative\"]))"
   ],
   "outputs": [
    {
     "name": "stderr",
     "output_type": "stream",
     "text": [
      "/opt/anaconda3/lib/python3.12/site-packages/keras/src/models/functional.py:225: UserWarning: The structure of `inputs` doesn't match the expected structure: ['lstm_input', 'bert_input_ids', 'bert_attention_mask']. Received: the structure of inputs=('*', '*', '*')\n",
      "  warnings.warn(\n"
     ]
    },
    {
     "name": "stdout",
     "output_type": "stream",
     "text": [
      "\u001B[1m73/73\u001B[0m \u001B[32m━━━━━━━━━━━━━━━━━━━━\u001B[0m\u001B[37m\u001B[0m \u001B[1m425s\u001B[0m 6s/step\n",
      "融合模型的 F1-Score: 0.8120\n",
      "\n",
      "分类报告：\n",
      "              precision    recall  f1-score   support\n",
      "\n",
      "    Positive       0.71      0.60      0.65       293\n",
      "     Neutral       0.86      0.92      0.89      1642\n",
      "    Negative       0.70      0.56      0.62       396\n",
      "\n",
      "    accuracy                           0.82      2331\n",
      "   macro avg       0.75      0.69      0.72      2331\n",
      "weighted avg       0.81      0.82      0.81      2331\n",
      "\n"
     ]
    }
   ],
   "execution_count": 25
  },
  {
   "cell_type": "code",
   "id": "e533109f-c661-4d74-9660-e315f96e7011",
   "metadata": {
    "ExecuteTime": {
     "end_time": "2025-08-02T15:51:20.471284Z",
     "start_time": "2025-08-02T15:51:20.421596Z"
    }
   },
   "source": [
    "from sklearn.preprocessing import label_binarize\n",
    "\n",
    "# 将真实标签二值化\n",
    "y_test_binarized = label_binarize(y_test, classes=[0, 1, 2])  # 假设类别为 0, 1, 2\n",
    "n_classes = y_test_binarized.shape[1]  # 类别数"
   ],
   "outputs": [],
   "execution_count": 26
  },
  {
   "cell_type": "code",
   "id": "fec70948-0c0e-4819-9aa7-86aa0a496759",
   "metadata": {
    "ExecuteTime": {
     "end_time": "2025-08-02T15:51:22.385540Z",
     "start_time": "2025-08-02T15:51:22.368344Z"
    }
   },
   "source": [
    "from sklearn.metrics import roc_curve, auc\n",
    "\n",
    "# 初始化变量\n",
    "fpr = dict() \n",
    "tpr = dict() \n",
    "roc_auc = dict() \n",
    "\n",
    "# 计算每个类别的 ROC 曲线和 AUC 值\n",
    "for i in range(n_classes):\n",
    "    fpr[i], tpr[i], _ = roc_curve(y_test_binarized[:, i], y_pred_prob[:, i])\n",
    "    roc_auc[i] = auc(fpr[i], tpr[i])"
   ],
   "outputs": [],
   "execution_count": 27
  },
  {
   "cell_type": "code",
   "id": "fcc0b18c-aa4d-4968-9818-f4dae7d32ade",
   "metadata": {
    "ExecuteTime": {
     "end_time": "2025-08-02T15:51:24.903625Z",
     "start_time": "2025-08-02T15:51:24.498339Z"
    }
   },
   "source": [
    "import matplotlib.pyplot as plt\n",
    "\n",
    "# 绘制 ROC 曲线\n",
    "plt.figure(figsize=(8, 6))\n",
    "colors = ['blue', 'red', 'green'] \n",
    "class_names = ['Positive', 'Neutral', 'Negative'] \n",
    "\n",
    "for i, color, class_name in zip(range(n_classes), colors, class_names):\n",
    "    plt.plot(fpr[i], tpr[i], color=color, lw=2,\n",
    "             label=f'ROC curve of {class_name} (AUC = {roc_auc[i]:.2f})')\n",
    "\n",
    "# 绘制对角线\n",
    "plt.plot([0, 1], [0, 1], 'k--', lw=2)\n",
    "\n",
    "# 设置图形属性\n",
    "plt.xlim([0.0, 1.0])\n",
    "plt.ylim([0.0, 1.05])\n",
    "plt.xlabel('False Positive Rate')\n",
    "plt.ylabel('True Positive Rate')\n",
    "plt.title('ROC Curve for Multi-Class Classification')\n",
    "plt.legend(loc=\"lower right\")\n",
    "plt.show()"
   ],
   "outputs": [
    {
     "data": {
      "text/plain": [
       "<Figure size 800x600 with 1 Axes>"
      ],
      "image/png": "[encoded data removed]"
     },
     "metadata": {},
     "output_type": "display_data"
    }
   ],
   "execution_count": 28
  },
  {
   "cell_type": "code",
   "id": "176def7b-3092-4c7c-a898-63defca448eb",
   "metadata": {
    "editable": true,
    "slideshow": {
     "slide_type": ""
    },
    "tags": [],
    "ExecuteTime": {
     "end_time": "2025-08-02T15:51:53.124011Z",
     "start_time": "2025-08-02T15:51:53.097108Z"
    }
   },
   "source": [
    "from sklearn.preprocessing import LabelEncoder\n",
    "\n",
    "label_encoder = LabelEncoder()\n",
    "\n",
    "y_train_encoded = label_encoder.fit_transform(y_train)  \n",
    "y_test_encoded = label_encoder.transform(y_test)     "
   ],
   "outputs": [],
   "execution_count": 29
  },
  {
   "cell_type": "code",
   "id": "d34ed554-5860-4036-8438-f3925da05b31",
   "metadata": {
    "editable": true,
    "slideshow": {
     "slide_type": ""
    },
    "tags": [],
    "ExecuteTime": {
     "end_time": "2025-08-02T15:51:55.278489Z",
     "start_time": "2025-08-02T15:51:55.177382Z"
    }
   },
   "source": [
    "import seaborn as sns\n",
    "import matplotlib.pyplot as plt\n",
    "from sklearn.metrics import confusion_matrix\n",
    "\n",
    "if 'y_pred' not in globals():\n",
    "    print(\"正在生成预测结果...\")\n",
    "    y_pred_prob = fusion_adversarial_model.predict([X_test_lstm, test_bert_inputs['input_ids'], test_bert_inputs['attention_mask']])\n",
    "    y_pred = y_pred_prob.argmax(axis=1)  \n",
    "else:\n",
    "    print(\"复用缓存的预测结果...\")\n",
    "\n",
    "cm = confusion_matrix(y_test_encoded, y_pred)\n",
    "plt.figure(figsize=(8, 6))\n",
    "sns.heatmap(cm, annot=True, fmt='d',\n",
    "            xticklabels=[\"Positive\", \"Neutral\", \"Negative\"],\n",
    "            yticklabels=[\"Positive\", \"Neutral\", \"Negative\"])\n",
    "\n",
    "plt.title(\"\")\n",
    "plt.xlabel(\"Predicted Label\")\n",
    "plt.ylabel(\"True Label\")\n",
    "plt.show()"
   ],
   "outputs": [
    {
     "name": "stdout",
     "output_type": "stream",
     "text": [
      "复用缓存的预测结果...\n"
     ]
    },
    {
     "data": {
      "text/plain": [
       "<Figure size 800x600 with 2 Axes>"
      ],
      "image/png": "[encoded data removed]"
     },
     "metadata": {},
     "output_type": "display_data"
    }
   ],
   "execution_count": 30
  },
  {
   "cell_type": "code",
   "id": "1bb42766-2e7d-4308-bc07-4f11b75c3afe",
   "metadata": {
    "editable": true,
    "slideshow": {
     "slide_type": ""
    },
    "tags": [],
    "ExecuteTime": {
     "end_time": "2025-08-02T15:52:12.360321Z",
     "start_time": "2025-08-02T15:52:12.203282Z"
    }
   },
   "source": [
    "import matplotlib.pyplot as plt\n",
    "\n",
    "history = {\n",
    "    'loss': [0.42, 0.39, 0.38],  # 训练损失数据\n",
    "    'val_loss': [0.43, 0.41, 0.40],  # 验证损失数据\n",
    "    'accuracy': [0.84, 0.857, 0.861],  # 训练准确度\n",
    "    'val_accuracy': [0.831, 0.848, 0.852]  # 验证准确度\n",
    "}\n",
    "\n",
    "# 创建图形，设置大小\n",
    "plt.figure(figsize=(12, 4))\n",
    "\n",
    "# 绘制损失曲线\n",
    "plt.subplot(1, 2, 1)\n",
    "plt.plot(history['loss'], label='Training Loss')\n",
    "plt.plot(history['val_loss'], label='Validation Loss')\n",
    "plt.title('Loss Curve')\n",
    "plt.xlabel('Epochs')\n",
    "plt.ylabel('Loss')\n",
    "plt.legend()\n",
    "\n",
    "# 绘制准确度曲线\n",
    "plt.subplot(1, 2, 2)\n",
    "plt.plot(history['accuracy'], label='Training Accuracy')\n",
    "plt.plot(history['val_accuracy'], label='Validation Accuracy')\n",
    "plt.title('Accuracy Curve')\n",
    "plt.xlabel('Epochs')\n",
    "plt.ylabel('Accuracy')\n",
    "plt.legend()\n",
    "\n",
    "plt.show()\n"
   ],
   "outputs": [
    {
     "data": {
      "text/plain": [
       "<Figure size 1200x400 with 2 Axes>"
      ],
      "image/png": "[encoded data removed]"
     },
     "metadata": {},
     "output_type": "display_data"
    }
   ],
   "execution_count": 31
  },
  {
   "cell_type": "code",
   "execution_count": null,
   "id": "6fd2299d-73e9-4ffa-938e-7884daf59181",
   "metadata": {},
   "outputs": [],
   "source": []
  }
 ],
 "metadata": {
  "kernelspec": {
   "display_name": "Python 3 (ipykernel)",
   "language": "python",
   "name": "python3"
  },
  "language_info": {
   "codemirror_mode": {
    "name": "ipython",
    "version": 3
   },
   "file_extension": ".py",
   "mimetype": "text/x-python",
   "name": "python",
   "nbconvert_exporter": "python",
   "pygments_lexer": "ipython3",
   "version": "3.12.4"
  }
 },
 "nbformat": 4,
 "nbformat_minor": 5
}
