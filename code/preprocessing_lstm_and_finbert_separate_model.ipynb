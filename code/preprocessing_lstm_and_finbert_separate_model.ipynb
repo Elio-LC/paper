{
 "cells": [
  {
   "cell_type": "markdown",
   "metadata": {},
   "source": [
    "# Preprocessing"
   ]
  },
  {
   "cell_type": "code",
   "metadata": {
    "ExecuteTime": {
     "end_time": "2025-06-25T06:51:25.619054Z",
     "start_time": "2025-06-25T06:51:25.609310Z"
    }
   },
   "source": [
    "import pandas as pd "
   ],
   "outputs": [],
   "execution_count": 2
  },
  {
   "cell_type": "code",
   "metadata": {
    "editable": true,
    "slideshow": {
     "slide_type": ""
    },
    "tags": [],
    "ExecuteTime": {
     "end_time": "2025-06-25T06:51:29.607110Z",
     "start_time": "2025-06-25T06:51:28.783602Z"
    }
   },
   "source": [
    "import nltk"
   ],
   "outputs": [],
   "execution_count": 3
  },
  {
   "cell_type": "code",
   "metadata": {
    "ExecuteTime": {
     "end_time": "2025-06-25T06:51:33.596122Z",
     "start_time": "2025-06-25T06:51:33.565130Z"
    }
   },
   "source": "df = pd.read_csv('../raw_data/news_all.csv')",
   "outputs": [],
   "execution_count": 4
  },
  {
   "cell_type": "code",
   "metadata": {
    "ExecuteTime": {
     "end_time": "2025-06-25T07:06:50.622772Z",
     "start_time": "2025-06-25T07:06:50.585404Z"
    }
   },
   "source": [
    "df.head()"
   ],
   "outputs": [
    {
     "data": {
      "text/plain": [
       "                                                Text  Label\n",
       "0  Amazon to create 500 new jobs in Mississippi a...      2\n",
       "1  GE's stock rises 1% premarket, set to trade ab...      2\n",
       "2  CN Rail Strike Begins, Threatening Canada Oil,...      0\n",
       "3  Hong Kong Airlines to cut 400 jobs, ask employ...      0\n",
       "4  3 Top-Performing Mutual Funds to Consider for ...      1"
      ],
      "text/html": [
       "<div>\n",
       "<style scoped>\n",
       "    .dataframe tbody tr th:only-of-type {\n",
       "        vertical-align: middle;\n",
       "    }\n",
       "\n",
       "    .dataframe tbody tr th {\n",
       "        vertical-align: top;\n",
       "    }\n",
       "\n",
       "    .dataframe thead th {\n",
       "        text-align: right;\n",
       "    }\n",
       "</style>\n",
       "<table border=\"1\" class=\"dataframe\">\n",
       "  <thead>\n",
       "    <tr style=\"text-align: right;\">\n",
       "      <th></th>\n",
       "      <th>Text</th>\n",
       "      <th>Label</th>\n",
       "    </tr>\n",
       "  </thead>\n",
       "  <tbody>\n",
       "    <tr>\n",
       "      <th>0</th>\n",
       "      <td>Amazon to create 500 new jobs in Mississippi a...</td>\n",
       "      <td>2</td>\n",
       "    </tr>\n",
       "    <tr>\n",
       "      <th>1</th>\n",
       "      <td>GE's stock rises 1% premarket, set to trade ab...</td>\n",
       "      <td>2</td>\n",
       "    </tr>\n",
       "    <tr>\n",
       "      <th>2</th>\n",
       "      <td>CN Rail Strike Begins, Threatening Canada Oil,...</td>\n",
       "      <td>0</td>\n",
       "    </tr>\n",
       "    <tr>\n",
       "      <th>3</th>\n",
       "      <td>Hong Kong Airlines to cut 400 jobs, ask employ...</td>\n",
       "      <td>0</td>\n",
       "    </tr>\n",
       "    <tr>\n",
       "      <th>4</th>\n",
       "      <td>3 Top-Performing Mutual Funds to Consider for ...</td>\n",
       "      <td>1</td>\n",
       "    </tr>\n",
       "  </tbody>\n",
       "</table>\n",
       "</div>"
      ]
     },
     "execution_count": 7,
     "metadata": {},
     "output_type": "execute_result"
    }
   ],
   "execution_count": 7
  },
  {
   "cell_type": "code",
   "metadata": {
    "ExecuteTime": {
     "end_time": "2025-06-25T07:06:52.502707Z",
     "start_time": "2025-06-25T07:06:52.499101Z"
    }
   },
   "source": [
    "df.shape"
   ],
   "outputs": [
    {
     "data": {
      "text/plain": [
       "(11656, 2)"
      ]
     },
     "execution_count": 8,
     "metadata": {},
     "output_type": "execute_result"
    }
   ],
   "execution_count": 8
  },
  {
   "cell_type": "code",
   "metadata": {
    "ExecuteTime": {
     "end_time": "2025-06-25T07:16:24.831946Z",
     "start_time": "2025-06-25T07:16:24.797870Z"
    }
   },
   "source": "df['Label'].value_counts()",
   "outputs": [
    {
     "data": {
      "text/plain": [
       "Label\n",
       "1    8077\n",
       "2    2033\n",
       "0    1546\n",
       "Name: count, dtype: int64"
      ]
     },
     "execution_count": 9,
     "metadata": {},
     "output_type": "execute_result"
    }
   ],
   "execution_count": 9
  },
  {
   "cell_type": "code",
   "metadata": {
    "ExecuteTime": {
     "end_time": "2025-06-25T07:16:26.814673Z",
     "start_time": "2025-06-25T07:16:26.811003Z"
    }
   },
   "source": [
    "df.iloc[0]"
   ],
   "outputs": [
    {
     "data": {
      "text/plain": [
       "Text     Amazon to create 500 new jobs in Mississippi a...\n",
       "Label                                                    2\n",
       "Name: 0, dtype: object"
      ]
     },
     "execution_count": 10,
     "metadata": {},
     "output_type": "execute_result"
    }
   ],
   "execution_count": 10
  },
  {
   "cell_type": "code",
   "metadata": {
    "ExecuteTime": {
     "end_time": "2025-06-25T07:16:28.444550Z",
     "start_time": "2025-06-25T07:16:28.439313Z"
    }
   },
   "source": [
    "for i in range(5):\n",
    "    print('Data: {}'.format(df.iloc[i]['Text']))\n",
    "    print('Label: {}'.format(df.iloc[i]['Label']))     \n",
    "    print('\\n')"
   ],
   "outputs": [
    {
     "name": "stdout",
     "output_type": "stream",
     "text": [
      "Data: Amazon to create 500 new jobs in Mississippi as it builds new fulfillment center\n",
      "Label: 2\n",
      "\n",
      "\n",
      "Data: GE's stock rises 1% premarket, set to trade above $13 for 1st time in regular-session hours since October 2018\n",
      "Label: 2\n",
      "\n",
      "\n",
      "Data: CN Rail Strike Begins, Threatening Canada Oil, Grain Shipments\n",
      "Label: 0\n",
      "\n",
      "\n",
      "Data: Hong Kong Airlines to cut 400 jobs, ask employees to take unpaid leave: SCMP\n",
      "Label: 0\n",
      "\n",
      "\n",
      "Data: 3 Top-Performing Mutual Funds to Consider for Your Retirement Portfolio- February 07, 2020\n",
      "Label: 1\n",
      "\n",
      "\n"
     ]
    }
   ],
   "execution_count": 11
  },
  {
   "cell_type": "code",
   "metadata": {
    "ExecuteTime": {
     "end_time": "2025-06-25T07:16:30.576393Z",
     "start_time": "2025-06-25T07:16:30.550688Z"
    }
   },
   "source": [
    "df.info()"
   ],
   "outputs": [
    {
     "name": "stdout",
     "output_type": "stream",
     "text": [
      "<class 'pandas.core.frame.DataFrame'>\n",
      "RangeIndex: 11656 entries, 0 to 11655\n",
      "Data columns (total 2 columns):\n",
      " #   Column  Non-Null Count  Dtype \n",
      "---  ------  --------------  ----- \n",
      " 0   Text    11656 non-null  object\n",
      " 1   Label   11656 non-null  int64 \n",
      "dtypes: int64(1), object(1)\n",
      "memory usage: 182.3+ KB\n"
     ]
    }
   ],
   "execution_count": 12
  },
  {
   "cell_type": "code",
   "metadata": {
    "ExecuteTime": {
     "end_time": "2025-06-25T07:16:32.029097Z",
     "start_time": "2025-06-25T07:16:32.026670Z"
    }
   },
   "source": [
    "import re"
   ],
   "outputs": [],
   "execution_count": 13
  },
  {
   "cell_type": "code",
   "metadata": {
    "scrolled": true,
    "ExecuteTime": {
     "end_time": "2025-06-25T07:16:33.033108Z",
     "start_time": "2025-06-25T07:16:33.021190Z"
    }
   },
   "source": [
    "from nltk.corpus import stopwords\n",
    "set(stopwords.words('english'))"
   ],
   "outputs": [
    {
     "data": {
      "text/plain": [
       "{'a',\n",
       " 'about',\n",
       " 'above',\n",
       " 'after',\n",
       " 'again',\n",
       " 'against',\n",
       " 'ain',\n",
       " 'all',\n",
       " 'am',\n",
       " 'an',\n",
       " 'and',\n",
       " 'any',\n",
       " 'are',\n",
       " 'aren',\n",
       " \"aren't\",\n",
       " 'as',\n",
       " 'at',\n",
       " 'be',\n",
       " 'because',\n",
       " 'been',\n",
       " 'before',\n",
       " 'being',\n",
       " 'below',\n",
       " 'between',\n",
       " 'both',\n",
       " 'but',\n",
       " 'by',\n",
       " 'can',\n",
       " 'couldn',\n",
       " \"couldn't\",\n",
       " 'd',\n",
       " 'did',\n",
       " 'didn',\n",
       " \"didn't\",\n",
       " 'do',\n",
       " 'does',\n",
       " 'doesn',\n",
       " \"doesn't\",\n",
       " 'doing',\n",
       " 'don',\n",
       " \"don't\",\n",
       " 'down',\n",
       " 'during',\n",
       " 'each',\n",
       " 'few',\n",
       " 'for',\n",
       " 'from',\n",
       " 'further',\n",
       " 'had',\n",
       " 'hadn',\n",
       " \"hadn't\",\n",
       " 'has',\n",
       " 'hasn',\n",
       " \"hasn't\",\n",
       " 'have',\n",
       " 'haven',\n",
       " \"haven't\",\n",
       " 'having',\n",
       " 'he',\n",
       " 'her',\n",
       " 'here',\n",
       " 'hers',\n",
       " 'herself',\n",
       " 'him',\n",
       " 'himself',\n",
       " 'his',\n",
       " 'how',\n",
       " 'i',\n",
       " 'if',\n",
       " 'in',\n",
       " 'into',\n",
       " 'is',\n",
       " 'isn',\n",
       " \"isn't\",\n",
       " 'it',\n",
       " \"it's\",\n",
       " 'its',\n",
       " 'itself',\n",
       " 'just',\n",
       " 'll',\n",
       " 'm',\n",
       " 'ma',\n",
       " 'me',\n",
       " 'mightn',\n",
       " \"mightn't\",\n",
       " 'more',\n",
       " 'most',\n",
       " 'mustn',\n",
       " \"mustn't\",\n",
       " 'my',\n",
       " 'myself',\n",
       " 'needn',\n",
       " \"needn't\",\n",
       " 'no',\n",
       " 'nor',\n",
       " 'not',\n",
       " 'now',\n",
       " 'o',\n",
       " 'of',\n",
       " 'off',\n",
       " 'on',\n",
       " 'once',\n",
       " 'only',\n",
       " 'or',\n",
       " 'other',\n",
       " 'our',\n",
       " 'ours',\n",
       " 'ourselves',\n",
       " 'out',\n",
       " 'over',\n",
       " 'own',\n",
       " 're',\n",
       " 's',\n",
       " 'same',\n",
       " 'shan',\n",
       " \"shan't\",\n",
       " 'she',\n",
       " \"she's\",\n",
       " 'should',\n",
       " \"should've\",\n",
       " 'shouldn',\n",
       " \"shouldn't\",\n",
       " 'so',\n",
       " 'some',\n",
       " 'such',\n",
       " 't',\n",
       " 'than',\n",
       " 'that',\n",
       " \"that'll\",\n",
       " 'the',\n",
       " 'their',\n",
       " 'theirs',\n",
       " 'them',\n",
       " 'themselves',\n",
       " 'then',\n",
       " 'there',\n",
       " 'these',\n",
       " 'they',\n",
       " 'this',\n",
       " 'those',\n",
       " 'through',\n",
       " 'to',\n",
       " 'too',\n",
       " 'under',\n",
       " 'until',\n",
       " 'up',\n",
       " 've',\n",
       " 'very',\n",
       " 'was',\n",
       " 'wasn',\n",
       " \"wasn't\",\n",
       " 'we',\n",
       " 'were',\n",
       " 'weren',\n",
       " \"weren't\",\n",
       " 'what',\n",
       " 'when',\n",
       " 'where',\n",
       " 'which',\n",
       " 'while',\n",
       " 'who',\n",
       " 'whom',\n",
       " 'why',\n",
       " 'will',\n",
       " 'with',\n",
       " 'won',\n",
       " \"won't\",\n",
       " 'wouldn',\n",
       " \"wouldn't\",\n",
       " 'y',\n",
       " 'you',\n",
       " \"you'd\",\n",
       " \"you'll\",\n",
       " \"you're\",\n",
       " \"you've\",\n",
       " 'your',\n",
       " 'yours',\n",
       " 'yourself',\n",
       " 'yourselves'}"
      ]
     },
     "execution_count": 14,
     "metadata": {},
     "output_type": "execute_result"
    }
   ],
   "execution_count": 14
  },
  {
   "cell_type": "code",
   "metadata": {
    "ExecuteTime": {
     "end_time": "2025-06-25T07:17:04.193937Z",
     "start_time": "2025-06-25T07:17:04.189691Z"
    }
   },
   "source": [
    "def clean_text(text):\n",
    "\n",
    "    text = re.sub(r'[^a-zA-Z0-9\\s]', '', text)\n",
    "    text = text.lower()\n",
    "    stop_words = set(stopwords.words('english'))\n",
    "    words = text.split()\n",
    "    words = [word for word in words if word not in stop_words]\n",
    "    cleaned_text = ' '.join(words)\n",
    "\n",
    "    return cleaned_text"
   ],
   "outputs": [],
   "execution_count": 15
  },
  {
   "cell_type": "code",
   "metadata": {
    "ExecuteTime": {
     "end_time": "2025-06-25T07:17:06.455182Z",
     "start_time": "2025-06-25T07:17:06.449565Z"
    }
   },
   "source": [
    "clean_text('WELCOME to this practical skills module!!')"
   ],
   "outputs": [
    {
     "data": {
      "text/plain": [
       "'welcome practical skills module'"
      ]
     },
     "execution_count": 16,
     "metadata": {},
     "output_type": "execute_result"
    }
   ],
   "execution_count": 16
  },
  {
   "cell_type": "code",
   "metadata": {
    "ExecuteTime": {
     "end_time": "2025-06-25T07:17:09.140073Z",
     "start_time": "2025-06-25T07:17:08.624601Z"
    }
   },
   "source": [
    "df['Cleaned Text'] = df['Text'].apply(clean_text)"
   ],
   "outputs": [],
   "execution_count": 17
  },
  {
   "cell_type": "code",
   "metadata": {
    "ExecuteTime": {
     "end_time": "2025-06-25T07:17:14.238951Z",
     "start_time": "2025-06-25T07:17:14.220573Z"
    }
   },
   "source": [
    "df"
   ],
   "outputs": [
    {
     "data": {
      "text/plain": [
       "                                                    Text  Label  \\\n",
       "0      Amazon to create 500 new jobs in Mississippi a...      2   \n",
       "1      GE's stock rises 1% premarket, set to trade ab...      2   \n",
       "2      CN Rail Strike Begins, Threatening Canada Oil,...      0   \n",
       "3      Hong Kong Airlines to cut 400 jobs, ask employ...      0   \n",
       "4      3 Top-Performing Mutual Funds to Consider for ...      1   \n",
       "...                                                  ...    ...   \n",
       "11651  A record 449,553 Illinois residents sign up fo...      1   \n",
       "11652  The Los Angeles Fires Will Put California’s Ne...      1   \n",
       "11653  NexPoint Real Estate Finance, Inc. Enters into...      1   \n",
       "11654  AO Buzzard Agency Introduces Financial Service...      1   \n",
       "11655  Pacific Palisades wildfires may spell an end t...      1   \n",
       "\n",
       "                                            Cleaned Text  \n",
       "0      amazon create 500 new jobs mississippi builds ...  \n",
       "1      ges stock rises 1 premarket set trade 13 1st t...  \n",
       "2      cn rail strike begins threatening canada oil g...  \n",
       "3      hong kong airlines cut 400 jobs ask employees ...  \n",
       "4      3 topperforming mutual funds consider retireme...  \n",
       "...                                                  ...  \n",
       "11651  record 449553 illinois residents sign affordab...  \n",
       "11652  los angeles fires put californias new insuranc...  \n",
       "11653  nexpoint real estate finance inc enters assign...  \n",
       "11654  ao buzzard agency introduces financial service...  \n",
       "11655  pacific palisades wildfires may spell end chea...  \n",
       "\n",
       "[11656 rows x 3 columns]"
      ],
      "text/html": [
       "<div>\n",
       "<style scoped>\n",
       "    .dataframe tbody tr th:only-of-type {\n",
       "        vertical-align: middle;\n",
       "    }\n",
       "\n",
       "    .dataframe tbody tr th {\n",
       "        vertical-align: top;\n",
       "    }\n",
       "\n",
       "    .dataframe thead th {\n",
       "        text-align: right;\n",
       "    }\n",
       "</style>\n",
       "<table border=\"1\" class=\"dataframe\">\n",
       "  <thead>\n",
       "    <tr style=\"text-align: right;\">\n",
       "      <th></th>\n",
       "      <th>Text</th>\n",
       "      <th>Label</th>\n",
       "      <th>Cleaned Text</th>\n",
       "    </tr>\n",
       "  </thead>\n",
       "  <tbody>\n",
       "    <tr>\n",
       "      <th>0</th>\n",
       "      <td>Amazon to create 500 new jobs in Mississippi a...</td>\n",
       "      <td>2</td>\n",
       "      <td>amazon create 500 new jobs mississippi builds ...</td>\n",
       "    </tr>\n",
       "    <tr>\n",
       "      <th>1</th>\n",
       "      <td>GE's stock rises 1% premarket, set to trade ab...</td>\n",
       "      <td>2</td>\n",
       "      <td>ges stock rises 1 premarket set trade 13 1st t...</td>\n",
       "    </tr>\n",
       "    <tr>\n",
       "      <th>2</th>\n",
       "      <td>CN Rail Strike Begins, Threatening Canada Oil,...</td>\n",
       "      <td>0</td>\n",
       "      <td>cn rail strike begins threatening canada oil g...</td>\n",
       "    </tr>\n",
       "    <tr>\n",
       "      <th>3</th>\n",
       "      <td>Hong Kong Airlines to cut 400 jobs, ask employ...</td>\n",
       "      <td>0</td>\n",
       "      <td>hong kong airlines cut 400 jobs ask employees ...</td>\n",
       "    </tr>\n",
       "    <tr>\n",
       "      <th>4</th>\n",
       "      <td>3 Top-Performing Mutual Funds to Consider for ...</td>\n",
       "      <td>1</td>\n",
       "      <td>3 topperforming mutual funds consider retireme...</td>\n",
       "    </tr>\n",
       "    <tr>\n",
       "      <th>...</th>\n",
       "      <td>...</td>\n",
       "      <td>...</td>\n",
       "      <td>...</td>\n",
       "    </tr>\n",
       "    <tr>\n",
       "      <th>11651</th>\n",
       "      <td>A record 449,553 Illinois residents sign up fo...</td>\n",
       "      <td>1</td>\n",
       "      <td>record 449553 illinois residents sign affordab...</td>\n",
       "    </tr>\n",
       "    <tr>\n",
       "      <th>11652</th>\n",
       "      <td>The Los Angeles Fires Will Put California’s Ne...</td>\n",
       "      <td>1</td>\n",
       "      <td>los angeles fires put californias new insuranc...</td>\n",
       "    </tr>\n",
       "    <tr>\n",
       "      <th>11653</th>\n",
       "      <td>NexPoint Real Estate Finance, Inc. Enters into...</td>\n",
       "      <td>1</td>\n",
       "      <td>nexpoint real estate finance inc enters assign...</td>\n",
       "    </tr>\n",
       "    <tr>\n",
       "      <th>11654</th>\n",
       "      <td>AO Buzzard Agency Introduces Financial Service...</td>\n",
       "      <td>1</td>\n",
       "      <td>ao buzzard agency introduces financial service...</td>\n",
       "    </tr>\n",
       "    <tr>\n",
       "      <th>11655</th>\n",
       "      <td>Pacific Palisades wildfires may spell an end t...</td>\n",
       "      <td>1</td>\n",
       "      <td>pacific palisades wildfires may spell end chea...</td>\n",
       "    </tr>\n",
       "  </tbody>\n",
       "</table>\n",
       "<p>11656 rows × 3 columns</p>\n",
       "</div>"
      ]
     },
     "execution_count": 18,
     "metadata": {},
     "output_type": "execute_result"
    }
   ],
   "execution_count": 18
  },
  {
   "cell_type": "code",
   "metadata": {
    "ExecuteTime": {
     "end_time": "2025-06-25T07:18:07.718092Z",
     "start_time": "2025-06-25T07:18:07.584016Z"
    }
   },
   "source": [
    "from wordcloud import WordCloud, STOPWORDS\n",
    "import matplotlib.pyplot as plt\n",
    "\n",
    "def generate_word_cloud(text):\n",
    "    custom_stopwords = {\"http\", \"china\", \"us\", \"united states\", \"political\", \"politics\",\"stock\",\"stocks\", \"trump\"}\n",
    "    stopwords = set(STOPWORDS)\n",
    "    stopwords.update(custom_stopwords)\n",
    "    wordcloud = WordCloud(width = 1600, height = 800, stopwords = stopwords, min_font_size = 10).generate(text)\n",
    "    plt.figure(figsize = (12, 12))\n",
    "    plt.imshow(wordcloud)\n",
    "    plt.axis(\"off\")\n",
    "    plt.show()"
   ],
   "outputs": [],
   "execution_count": 19
  },
  {
   "cell_type": "code",
   "metadata": {
    "scrolled": true,
    "ExecuteTime": {
     "end_time": "2025-06-25T07:22:07.831179Z",
     "start_time": "2025-06-25T07:22:07.478314Z"
    }
   },
   "source": [
    "from transformers import AutoTokenizer\n",
    "tokenizer = AutoTokenizer.from_pretrained(\"ProsusAI/finbert\")"
   ],
   "outputs": [],
   "execution_count": 21
  },
  {
   "cell_type": "code",
   "metadata": {
    "ExecuteTime": {
     "end_time": "2025-06-25T07:22:23.048118Z",
     "start_time": "2025-06-25T07:22:23.038503Z"
    }
   },
   "source": [
    "news_1 = \"Hong Kong stocks increased 4% as China relaxes virus rules\"\n",
    "news_2 = \"Novo Nordisk stock increased by 2% in today's trading session\"\n",
    "news_3 = \"Amazon stock lost half its value this year as tech stocks got crushed and recession fears grew\""
   ],
   "outputs": [],
   "execution_count": 23
  },
  {
   "cell_type": "code",
   "metadata": {
    "ExecuteTime": {
     "end_time": "2025-06-25T07:22:24.588667Z",
     "start_time": "2025-06-25T07:22:24.573454Z"
    }
   },
   "source": [
    "encoded_news_1 = tokenizer.encode(news_1)\n",
    "print(encoded_news_1)"
   ],
   "outputs": [
    {
     "name": "stdout",
     "output_type": "stream",
     "text": [
      "[101, 4291, 4290, 15768, 3445, 1018, 1003, 2004, 2859, 9483, 2229, 7865, 3513, 102]\n"
     ]
    }
   ],
   "execution_count": 24
  },
  {
   "cell_type": "code",
   "metadata": {
    "ExecuteTime": {
     "end_time": "2025-06-25T07:22:29.639957Z",
     "start_time": "2025-06-25T07:22:29.631276Z"
    }
   },
   "source": [
    "encoded_news_2 = tokenizer.encode(news_2)\n",
    "print(encoded_news_2)"
   ],
   "outputs": [
    {
     "name": "stdout",
     "output_type": "stream",
     "text": [
      "[101, 24576, 13926, 20573, 4518, 3445, 2011, 1016, 1003, 1999, 2651, 1005, 1055, 6202, 5219, 102]\n"
     ]
    }
   ],
   "execution_count": 25
  },
  {
   "cell_type": "code",
   "metadata": {
    "ExecuteTime": {
     "end_time": "2025-06-25T07:22:30.526343Z",
     "start_time": "2025-06-25T07:22:30.520472Z"
    }
   },
   "source": [
    "encoded_news_3 = tokenizer.encode(news_3)\n",
    "print(encoded_news_3)"
   ],
   "outputs": [
    {
     "name": "stdout",
     "output_type": "stream",
     "text": [
      "[101, 9733, 4518, 2439, 2431, 2049, 3643, 2023, 2095, 2004, 6627, 15768, 2288, 10560, 1998, 19396, 10069, 3473, 102]\n"
     ]
    }
   ],
   "execution_count": 26
  },
  {
   "cell_type": "code",
   "metadata": {
    "ExecuteTime": {
     "end_time": "2025-06-25T07:22:31.210528Z",
     "start_time": "2025-06-25T07:22:31.189405Z"
    }
   },
   "source": [
    "print(encoded_news_1)\n",
    "len(encoded_news_1)"
   ],
   "outputs": [
    {
     "name": "stdout",
     "output_type": "stream",
     "text": [
      "[101, 4291, 4290, 15768, 3445, 1018, 1003, 2004, 2859, 9483, 2229, 7865, 3513, 102]\n"
     ]
    },
    {
     "data": {
      "text/plain": [
       "14"
      ]
     },
     "execution_count": 27,
     "metadata": {},
     "output_type": "execute_result"
    }
   ],
   "execution_count": 27
  },
  {
   "cell_type": "code",
   "metadata": {
    "ExecuteTime": {
     "end_time": "2025-06-25T07:22:31.780394Z",
     "start_time": "2025-06-25T07:22:31.776442Z"
    }
   },
   "source": [
    "print(encoded_news_2)\n",
    "len(encoded_news_2)"
   ],
   "outputs": [
    {
     "name": "stdout",
     "output_type": "stream",
     "text": [
      "[101, 24576, 13926, 20573, 4518, 3445, 2011, 1016, 1003, 1999, 2651, 1005, 1055, 6202, 5219, 102]\n"
     ]
    },
    {
     "data": {
      "text/plain": [
       "16"
      ]
     },
     "execution_count": 28,
     "metadata": {},
     "output_type": "execute_result"
    }
   ],
   "execution_count": 28
  },
  {
   "cell_type": "code",
   "metadata": {
    "ExecuteTime": {
     "end_time": "2025-06-25T07:22:33.191349Z",
     "start_time": "2025-06-25T07:22:33.186817Z"
    }
   },
   "source": [
    "print(encoded_news_3)\n",
    "len(encoded_news_3)"
   ],
   "outputs": [
    {
     "name": "stdout",
     "output_type": "stream",
     "text": [
      "[101, 9733, 4518, 2439, 2431, 2049, 3643, 2023, 2095, 2004, 6627, 15768, 2288, 10560, 1998, 19396, 10069, 3473, 102]\n"
     ]
    },
    {
     "data": {
      "text/plain": [
       "19"
      ]
     },
     "execution_count": 29,
     "metadata": {},
     "output_type": "execute_result"
    }
   ],
   "execution_count": 29
  },
  {
   "cell_type": "code",
   "metadata": {
    "ExecuteTime": {
     "end_time": "2025-06-25T07:22:35.160696Z",
     "start_time": "2025-06-25T07:22:35.157244Z"
    }
   },
   "source": [
    "import torch\n",
    "from torch.nn.utils.rnn import pad_sequence"
   ],
   "outputs": [],
   "execution_count": 30
  },
  {
   "cell_type": "code",
   "metadata": {
    "ExecuteTime": {
     "end_time": "2025-06-25T07:22:59.235257Z",
     "start_time": "2025-06-25T07:22:58.922671Z"
    }
   },
   "source": [
    "from transformers import AutoTokenizer\n",
    "\n",
    "tokenizer = AutoTokenizer.from_pretrained(\"ProsusAI/finbert\")\n",
    "\n",
    "def tokenization_padding(df):\n",
    "    # 使用 tokenizer 批量处理文本，返回 `input_ids` 和 `attention_mask`\n",
    "    encoded_inputs = tokenizer(\n",
    "        df[\"Cleaned Text\"].tolist(), \n",
    "        truncation=True,         # 截断到最大长度\n",
    "        padding=\"max_length\",            # 自动填充\n",
    "        max_length=512,          # FinBERT 最大支持 512 tokens\n",
    "        return_tensors=\"pt\",     # 返回 PyTorch 张量\n",
    "        return_attention_mask=True  # 生成 attention mask\n",
    "    )\n",
    "\n",
    "    df[\"Encoded Text\"] = encoded_inputs[\"input_ids\"].tolist()  # 转换为列表存入 DataFrame\n",
    "    df[\"Attention Mask\"] = encoded_inputs[\"attention_mask\"].tolist()  # 存 attention_mask\n",
    "    \n",
    "    return encoded_inputs[\"input_ids\"], encoded_inputs[\"attention_mask\"]\n"
   ],
   "outputs": [],
   "execution_count": 31
  },
  {
   "cell_type": "code",
   "metadata": {
    "ExecuteTime": {
     "end_time": "2025-06-25T07:23:03.051885Z",
     "start_time": "2025-06-25T07:23:00.448360Z"
    }
   },
   "source": [
    "X, attention_mask = tokenization_padding(df)\n",
    "X"
   ],
   "outputs": [
    {
     "data": {
      "text/plain": [
       "tensor([[  101,  9733,  3443,  ...,     0,     0,     0],\n",
       "        [  101, 16216,  2015,  ...,     0,     0,     0],\n",
       "        [  101, 27166,  4334,  ...,     0,     0,     0],\n",
       "        ...,\n",
       "        [  101, 11265,  2595,  ...,     0,     0,     0],\n",
       "        [  101, 20118, 12610,  ...,     0,     0,     0],\n",
       "        [  101,  3534, 28619,  ...,     0,     0,     0]])"
      ]
     },
     "execution_count": 32,
     "metadata": {},
     "output_type": "execute_result"
    }
   ],
   "execution_count": 32
  },
  {
   "cell_type": "code",
   "metadata": {
    "ExecuteTime": {
     "end_time": "2025-06-25T07:24:48.401901Z",
     "start_time": "2025-06-25T07:24:48.384280Z"
    }
   },
   "source": [
    "X.shape"
   ],
   "outputs": [
    {
     "data": {
      "text/plain": [
       "torch.Size([11656, 512])"
      ]
     },
     "execution_count": 33,
     "metadata": {},
     "output_type": "execute_result"
    }
   ],
   "execution_count": 33
  },
  {
   "cell_type": "code",
   "metadata": {
    "ExecuteTime": {
     "end_time": "2025-06-25T07:24:53.312271Z",
     "start_time": "2025-06-25T07:24:53.309092Z"
    }
   },
   "source": [
    "# Let's define a Python Function that performs tokenization and padding to text data in DataFrames\n",
    "def tokenization_padding(df):\n",
    "\n",
    "    # Use Python List Comprehension to tokenize every row in the Pandas DataFrame \"df\" \n",
    "    df['Encoded Text'] = [tokenizer.encode(news) for news in df['Cleaned Text'].tolist()]\n",
    "\n",
    "    # Convert data into tensors using List Comprehension and then perform Zero-Padding to ensure that data has the same length\n",
    "    encoded_news_tensor = [torch.tensor(encoded_news) for encoded_news in df['Encoded Text'].tolist()]\n",
    "    padded_sequence = pad_sequence(encoded_news_tensor, batch_first = True, padding_value = 0).numpy()\n",
    "\n",
    "    return padded_sequence"
   ],
   "outputs": [],
   "execution_count": 34
  },
  {
   "cell_type": "code",
   "metadata": {
    "ExecuteTime": {
     "end_time": "2025-06-25T07:24:56.507359Z",
     "start_time": "2025-06-25T07:24:55.929416Z"
    }
   },
   "source": [
    "X = tokenization_padding(df)\n",
    "X"
   ],
   "outputs": [
    {
     "data": {
      "text/plain": [
       "array([[  101,  9733,  3443, ...,     0,     0,     0],\n",
       "       [  101, 16216,  2015, ...,     0,     0,     0],\n",
       "       [  101, 27166,  4334, ...,     0,     0,     0],\n",
       "       ...,\n",
       "       [  101, 11265,  2595, ...,     0,     0,     0],\n",
       "       [  101, 20118, 12610, ...,     0,     0,     0],\n",
       "       [  101,  3534, 28619, ...,     0,     0,     0]])"
      ]
     },
     "execution_count": 35,
     "metadata": {},
     "output_type": "execute_result"
    }
   ],
   "execution_count": 35
  },
  {
   "cell_type": "code",
   "metadata": {
    "ExecuteTime": {
     "end_time": "2025-06-25T07:25:29.433647Z",
     "start_time": "2025-06-25T07:25:28.560486Z"
    }
   },
   "source": [
    "X, attention_mask = tokenization_padding(df)  # 确保这里是正确的\n",
    "print(f\"X shape: {X.shape}, attention_mask shape: {attention_mask.shape}\")"
   ],
   "outputs": [
    {
     "ename": "ValueError",
     "evalue": "too many values to unpack (expected 2)",
     "output_type": "error",
     "traceback": [
      "\u001B[0;31m---------------------------------------------------------------------------\u001B[0m",
      "\u001B[0;31mValueError\u001B[0m                                Traceback (most recent call last)",
      "Cell \u001B[0;32mIn[37], line 1\u001B[0m\n\u001B[0;32m----> 1\u001B[0m X, attention_mask \u001B[38;5;241m=\u001B[39m tokenization_padding(df)  \u001B[38;5;66;03m# 确保这里是正确的\u001B[39;00m\n\u001B[1;32m      2\u001B[0m \u001B[38;5;28mprint\u001B[39m(\u001B[38;5;124mf\u001B[39m\u001B[38;5;124m\"\u001B[39m\u001B[38;5;124mX shape: \u001B[39m\u001B[38;5;132;01m{\u001B[39;00mX\u001B[38;5;241m.\u001B[39mshape\u001B[38;5;132;01m}\u001B[39;00m\u001B[38;5;124m, attention_mask shape: \u001B[39m\u001B[38;5;132;01m{\u001B[39;00mattention_mask\u001B[38;5;241m.\u001B[39mshape\u001B[38;5;132;01m}\u001B[39;00m\u001B[38;5;124m\"\u001B[39m)\n",
      "\u001B[0;31mValueError\u001B[0m: too many values to unpack (expected 2)"
     ]
    }
   ],
   "execution_count": 37
  },
  {
   "cell_type": "code",
   "metadata": {
    "ExecuteTime": {
     "end_time": "2025-06-25T07:25:37.671296Z",
     "start_time": "2025-06-25T07:25:37.636823Z"
    }
   },
   "source": [
    "df"
   ],
   "outputs": [
    {
     "data": {
      "text/plain": [
       "                                                                                                                 Text  \\\n",
       "0                                    Amazon to create 500 new jobs in Mississippi as it builds new fulfillment center   \n",
       "1      GE's stock rises 1% premarket, set to trade above $13 for 1st time in regular-session hours since October 2018   \n",
       "2                                                      CN Rail Strike Begins, Threatening Canada Oil, Grain Shipments   \n",
       "3                                        Hong Kong Airlines to cut 400 jobs, ask employees to take unpaid leave: SCMP   \n",
       "4                          3 Top-Performing Mutual Funds to Consider for Your Retirement Portfolio- February 07, 2020   \n",
       "...                                                                                                               ...   \n",
       "11651     A record 449,553 Illinois residents sign up for Affordable Care Act insurance, amid uncertainty over future   \n",
       "11652                                     The Los Angeles Fires Will Put California’s New Insurance Rules to the Test   \n",
       "11653  NexPoint Real Estate Finance, Inc. Enters into Assignment Agreement with The Ohio State Life Insurance Company   \n",
       "11654         AO Buzzard Agency Introduces Financial Services with Transparent, Lifetime-Coverage Insurance Solutions   \n",
       "11655                       Pacific Palisades wildfires may spell an end to cheap homeowners’ insurance in California   \n",
       "\n",
       "       Label  \\\n",
       "0          2   \n",
       "1          2   \n",
       "2          0   \n",
       "3          0   \n",
       "4          1   \n",
       "...      ...   \n",
       "11651      1   \n",
       "11652      1   \n",
       "11653      1   \n",
       "11654      1   \n",
       "11655      1   \n",
       "\n",
       "                                                                                           Cleaned Text  \\\n",
       "0                                  amazon create 500 new jobs mississippi builds new fulfillment center   \n",
       "1             ges stock rises 1 premarket set trade 13 1st time regularsession hours since october 2018   \n",
       "2                                          cn rail strike begins threatening canada oil grain shipments   \n",
       "3                                  hong kong airlines cut 400 jobs ask employees take unpaid leave scmp   \n",
       "4                           3 topperforming mutual funds consider retirement portfolio february 07 2020   \n",
       "...                                                                                                 ...   \n",
       "11651       record 449553 illinois residents sign affordable care act insurance amid uncertainty future   \n",
       "11652                                        los angeles fires put californias new insurance rules test   \n",
       "11653    nexpoint real estate finance inc enters assignment agreement ohio state life insurance company   \n",
       "11654  ao buzzard agency introduces financial services transparent lifetimecoverage insurance solutions   \n",
       "11655                   pacific palisades wildfires may spell end cheap homeowners insurance california   \n",
       "\n",
       "                                                                                                                                 Encoded Text  \\\n",
       "0                                                                    [101, 9733, 3443, 3156, 2047, 5841, 5900, 16473, 2047, 29362, 2415, 102]   \n",
       "1      [101, 16216, 2015, 4518, 9466, 1015, 26563, 17007, 3388, 2275, 3119, 2410, 3083, 2051, 24945, 7971, 3258, 2847, 2144, 2255, 2760, 102]   \n",
       "2                                                                          [101, 27166, 4334, 4894, 4269, 8701, 2710, 3514, 8982, 24636, 102]   \n",
       "3                                                   [101, 4291, 4290, 7608, 3013, 4278, 5841, 3198, 5126, 2202, 23850, 2681, 8040, 8737, 102]   \n",
       "4                                                 [101, 1017, 2327, 4842, 14192, 2075, 8203, 5029, 5136, 5075, 11103, 2337, 5718, 12609, 102]   \n",
       "...                                                                                                                                       ...   \n",
       "11651                                [101, 2501, 4008, 2683, 24087, 2509, 4307, 3901, 3696, 15184, 2729, 2552, 5427, 13463, 12503, 2925, 102]   \n",
       "11652                                                                  [101, 3050, 3349, 8769, 2404, 2662, 2015, 2047, 5427, 3513, 3231, 102]   \n",
       "11653                                   [101, 11265, 2595, 8400, 2613, 3776, 5446, 4297, 8039, 8775, 3820, 4058, 2110, 2166, 5427, 2194, 102]   \n",
       "11654                                     [101, 20118, 12610, 4232, 4034, 13999, 3361, 2578, 13338, 6480, 3597, 26061, 3351, 5427, 7300, 102]   \n",
       "11655                                [101, 3534, 28619, 3736, 6155, 3748, 26332, 2089, 6297, 2203, 10036, 2188, 12384, 2545, 5427, 2662, 102]   \n",
       "\n",
       "                                                                                                                                                                                                                                                                                                          Attention Mask  \n",
       "0      [1, 1, 1, 1, 1, 1, 1, 1, 1, 1, 1, 1, 0, 0, 0, 0, 0, 0, 0, 0, 0, 0, 0, 0, 0, 0, 0, 0, 0, 0, 0, 0, 0, 0, 0, 0, 0, 0, 0, 0, 0, 0, 0, 0, 0, 0, 0, 0, 0, 0, 0, 0, 0, 0, 0, 0, 0, 0, 0, 0, 0, 0, 0, 0, 0, 0, 0, 0, 0, 0, 0, 0, 0, 0, 0, 0, 0, 0, 0, 0, 0, 0, 0, 0, 0, 0, 0, 0, 0, 0, 0, 0, 0, 0, 0, 0, 0, 0, 0, 0, ...]  \n",
       "1      [1, 1, 1, 1, 1, 1, 1, 1, 1, 1, 1, 1, 1, 1, 1, 1, 1, 1, 1, 1, 1, 1, 0, 0, 0, 0, 0, 0, 0, 0, 0, 0, 0, 0, 0, 0, 0, 0, 0, 0, 0, 0, 0, 0, 0, 0, 0, 0, 0, 0, 0, 0, 0, 0, 0, 0, 0, 0, 0, 0, 0, 0, 0, 0, 0, 0, 0, 0, 0, 0, 0, 0, 0, 0, 0, 0, 0, 0, 0, 0, 0, 0, 0, 0, 0, 0, 0, 0, 0, 0, 0, 0, 0, 0, 0, 0, 0, 0, 0, 0, ...]  \n",
       "2      [1, 1, 1, 1, 1, 1, 1, 1, 1, 1, 1, 0, 0, 0, 0, 0, 0, 0, 0, 0, 0, 0, 0, 0, 0, 0, 0, 0, 0, 0, 0, 0, 0, 0, 0, 0, 0, 0, 0, 0, 0, 0, 0, 0, 0, 0, 0, 0, 0, 0, 0, 0, 0, 0, 0, 0, 0, 0, 0, 0, 0, 0, 0, 0, 0, 0, 0, 0, 0, 0, 0, 0, 0, 0, 0, 0, 0, 0, 0, 0, 0, 0, 0, 0, 0, 0, 0, 0, 0, 0, 0, 0, 0, 0, 0, 0, 0, 0, 0, 0, ...]  \n",
       "3      [1, 1, 1, 1, 1, 1, 1, 1, 1, 1, 1, 1, 1, 1, 1, 0, 0, 0, 0, 0, 0, 0, 0, 0, 0, 0, 0, 0, 0, 0, 0, 0, 0, 0, 0, 0, 0, 0, 0, 0, 0, 0, 0, 0, 0, 0, 0, 0, 0, 0, 0, 0, 0, 0, 0, 0, 0, 0, 0, 0, 0, 0, 0, 0, 0, 0, 0, 0, 0, 0, 0, 0, 0, 0, 0, 0, 0, 0, 0, 0, 0, 0, 0, 0, 0, 0, 0, 0, 0, 0, 0, 0, 0, 0, 0, 0, 0, 0, 0, 0, ...]  \n",
       "4      [1, 1, 1, 1, 1, 1, 1, 1, 1, 1, 1, 1, 1, 1, 1, 0, 0, 0, 0, 0, 0, 0, 0, 0, 0, 0, 0, 0, 0, 0, 0, 0, 0, 0, 0, 0, 0, 0, 0, 0, 0, 0, 0, 0, 0, 0, 0, 0, 0, 0, 0, 0, 0, 0, 0, 0, 0, 0, 0, 0, 0, 0, 0, 0, 0, 0, 0, 0, 0, 0, 0, 0, 0, 0, 0, 0, 0, 0, 0, 0, 0, 0, 0, 0, 0, 0, 0, 0, 0, 0, 0, 0, 0, 0, 0, 0, 0, 0, 0, 0, ...]  \n",
       "...                                                                                                                                                                                                                                                                                                                  ...  \n",
       "11651  [1, 1, 1, 1, 1, 1, 1, 1, 1, 1, 1, 1, 1, 1, 1, 1, 1, 0, 0, 0, 0, 0, 0, 0, 0, 0, 0, 0, 0, 0, 0, 0, 0, 0, 0, 0, 0, 0, 0, 0, 0, 0, 0, 0, 0, 0, 0, 0, 0, 0, 0, 0, 0, 0, 0, 0, 0, 0, 0, 0, 0, 0, 0, 0, 0, 0, 0, 0, 0, 0, 0, 0, 0, 0, 0, 0, 0, 0, 0, 0, 0, 0, 0, 0, 0, 0, 0, 0, 0, 0, 0, 0, 0, 0, 0, 0, 0, 0, 0, 0, ...]  \n",
       "11652  [1, 1, 1, 1, 1, 1, 1, 1, 1, 1, 1, 1, 0, 0, 0, 0, 0, 0, 0, 0, 0, 0, 0, 0, 0, 0, 0, 0, 0, 0, 0, 0, 0, 0, 0, 0, 0, 0, 0, 0, 0, 0, 0, 0, 0, 0, 0, 0, 0, 0, 0, 0, 0, 0, 0, 0, 0, 0, 0, 0, 0, 0, 0, 0, 0, 0, 0, 0, 0, 0, 0, 0, 0, 0, 0, 0, 0, 0, 0, 0, 0, 0, 0, 0, 0, 0, 0, 0, 0, 0, 0, 0, 0, 0, 0, 0, 0, 0, 0, 0, ...]  \n",
       "11653  [1, 1, 1, 1, 1, 1, 1, 1, 1, 1, 1, 1, 1, 1, 1, 1, 1, 0, 0, 0, 0, 0, 0, 0, 0, 0, 0, 0, 0, 0, 0, 0, 0, 0, 0, 0, 0, 0, 0, 0, 0, 0, 0, 0, 0, 0, 0, 0, 0, 0, 0, 0, 0, 0, 0, 0, 0, 0, 0, 0, 0, 0, 0, 0, 0, 0, 0, 0, 0, 0, 0, 0, 0, 0, 0, 0, 0, 0, 0, 0, 0, 0, 0, 0, 0, 0, 0, 0, 0, 0, 0, 0, 0, 0, 0, 0, 0, 0, 0, 0, ...]  \n",
       "11654  [1, 1, 1, 1, 1, 1, 1, 1, 1, 1, 1, 1, 1, 1, 1, 1, 0, 0, 0, 0, 0, 0, 0, 0, 0, 0, 0, 0, 0, 0, 0, 0, 0, 0, 0, 0, 0, 0, 0, 0, 0, 0, 0, 0, 0, 0, 0, 0, 0, 0, 0, 0, 0, 0, 0, 0, 0, 0, 0, 0, 0, 0, 0, 0, 0, 0, 0, 0, 0, 0, 0, 0, 0, 0, 0, 0, 0, 0, 0, 0, 0, 0, 0, 0, 0, 0, 0, 0, 0, 0, 0, 0, 0, 0, 0, 0, 0, 0, 0, 0, ...]  \n",
       "11655  [1, 1, 1, 1, 1, 1, 1, 1, 1, 1, 1, 1, 1, 1, 1, 1, 1, 0, 0, 0, 0, 0, 0, 0, 0, 0, 0, 0, 0, 0, 0, 0, 0, 0, 0, 0, 0, 0, 0, 0, 0, 0, 0, 0, 0, 0, 0, 0, 0, 0, 0, 0, 0, 0, 0, 0, 0, 0, 0, 0, 0, 0, 0, 0, 0, 0, 0, 0, 0, 0, 0, 0, 0, 0, 0, 0, 0, 0, 0, 0, 0, 0, 0, 0, 0, 0, 0, 0, 0, 0, 0, 0, 0, 0, 0, 0, 0, 0, 0, 0, ...]  \n",
       "\n",
       "[11656 rows x 5 columns]"
      ],
      "text/html": [
       "<div>\n",
       "<style scoped>\n",
       "    .dataframe tbody tr th:only-of-type {\n",
       "        vertical-align: middle;\n",
       "    }\n",
       "\n",
       "    .dataframe tbody tr th {\n",
       "        vertical-align: top;\n",
       "    }\n",
       "\n",
       "    .dataframe thead th {\n",
       "        text-align: right;\n",
       "    }\n",
       "</style>\n",
       "<table border=\"1\" class=\"dataframe\">\n",
       "  <thead>\n",
       "    <tr style=\"text-align: right;\">\n",
       "      <th></th>\n",
       "      <th>Text</th>\n",
       "      <th>Label</th>\n",
       "      <th>Cleaned Text</th>\n",
       "      <th>Encoded Text</th>\n",
       "      <th>Attention Mask</th>\n",
       "    </tr>\n",
       "  </thead>\n",
       "  <tbody>\n",
       "    <tr>\n",
       "      <th>0</th>\n",
       "      <td>Amazon to create 500 new jobs in Mississippi as it builds new fulfillment center</td>\n",
       "      <td>2</td>\n",
       "      <td>amazon create 500 new jobs mississippi builds new fulfillment center</td>\n",
       "      <td>[101, 9733, 3443, 3156, 2047, 5841, 5900, 16473, 2047, 29362, 2415, 102]</td>\n",
       "      <td>[1, 1, 1, 1, 1, 1, 1, 1, 1, 1, 1, 1, 0, 0, 0, 0, 0, 0, 0, 0, 0, 0, 0, 0, 0, 0, 0, 0, 0, 0, 0, 0, 0, 0, 0, 0, 0, 0, 0, 0, 0, 0, 0, 0, 0, 0, 0, 0, 0, 0, 0, 0, 0, 0, 0, 0, 0, 0, 0, 0, 0, 0, 0, 0, 0, 0, 0, 0, 0, 0, 0, 0, 0, 0, 0, 0, 0, 0, 0, 0, 0, 0, 0, 0, 0, 0, 0, 0, 0, 0, 0, 0, 0, 0, 0, 0, 0, 0, 0, 0, ...]</td>\n",
       "    </tr>\n",
       "    <tr>\n",
       "      <th>1</th>\n",
       "      <td>GE's stock rises 1% premarket, set to trade above $13 for 1st time in regular-session hours since October 2018</td>\n",
       "      <td>2</td>\n",
       "      <td>ges stock rises 1 premarket set trade 13 1st time regularsession hours since october 2018</td>\n",
       "      <td>[101, 16216, 2015, 4518, 9466, 1015, 26563, 17007, 3388, 2275, 3119, 2410, 3083, 2051, 24945, 7971, 3258, 2847, 2144, 2255, 2760, 102]</td>\n",
       "      <td>[1, 1, 1, 1, 1, 1, 1, 1, 1, 1, 1, 1, 1, 1, 1, 1, 1, 1, 1, 1, 1, 1, 0, 0, 0, 0, 0, 0, 0, 0, 0, 0, 0, 0, 0, 0, 0, 0, 0, 0, 0, 0, 0, 0, 0, 0, 0, 0, 0, 0, 0, 0, 0, 0, 0, 0, 0, 0, 0, 0, 0, 0, 0, 0, 0, 0, 0, 0, 0, 0, 0, 0, 0, 0, 0, 0, 0, 0, 0, 0, 0, 0, 0, 0, 0, 0, 0, 0, 0, 0, 0, 0, 0, 0, 0, 0, 0, 0, 0, 0, ...]</td>\n",
       "    </tr>\n",
       "    <tr>\n",
       "      <th>2</th>\n",
       "      <td>CN Rail Strike Begins, Threatening Canada Oil, Grain Shipments</td>\n",
       "      <td>0</td>\n",
       "      <td>cn rail strike begins threatening canada oil grain shipments</td>\n",
       "      <td>[101, 27166, 4334, 4894, 4269, 8701, 2710, 3514, 8982, 24636, 102]</td>\n",
       "      <td>[1, 1, 1, 1, 1, 1, 1, 1, 1, 1, 1, 0, 0, 0, 0, 0, 0, 0, 0, 0, 0, 0, 0, 0, 0, 0, 0, 0, 0, 0, 0, 0, 0, 0, 0, 0, 0, 0, 0, 0, 0, 0, 0, 0, 0, 0, 0, 0, 0, 0, 0, 0, 0, 0, 0, 0, 0, 0, 0, 0, 0, 0, 0, 0, 0, 0, 0, 0, 0, 0, 0, 0, 0, 0, 0, 0, 0, 0, 0, 0, 0, 0, 0, 0, 0, 0, 0, 0, 0, 0, 0, 0, 0, 0, 0, 0, 0, 0, 0, 0, ...]</td>\n",
       "    </tr>\n",
       "    <tr>\n",
       "      <th>3</th>\n",
       "      <td>Hong Kong Airlines to cut 400 jobs, ask employees to take unpaid leave: SCMP</td>\n",
       "      <td>0</td>\n",
       "      <td>hong kong airlines cut 400 jobs ask employees take unpaid leave scmp</td>\n",
       "      <td>[101, 4291, 4290, 7608, 3013, 4278, 5841, 3198, 5126, 2202, 23850, 2681, 8040, 8737, 102]</td>\n",
       "      <td>[1, 1, 1, 1, 1, 1, 1, 1, 1, 1, 1, 1, 1, 1, 1, 0, 0, 0, 0, 0, 0, 0, 0, 0, 0, 0, 0, 0, 0, 0, 0, 0, 0, 0, 0, 0, 0, 0, 0, 0, 0, 0, 0, 0, 0, 0, 0, 0, 0, 0, 0, 0, 0, 0, 0, 0, 0, 0, 0, 0, 0, 0, 0, 0, 0, 0, 0, 0, 0, 0, 0, 0, 0, 0, 0, 0, 0, 0, 0, 0, 0, 0, 0, 0, 0, 0, 0, 0, 0, 0, 0, 0, 0, 0, 0, 0, 0, 0, 0, 0, ...]</td>\n",
       "    </tr>\n",
       "    <tr>\n",
       "      <th>4</th>\n",
       "      <td>3 Top-Performing Mutual Funds to Consider for Your Retirement Portfolio- February 07, 2020</td>\n",
       "      <td>1</td>\n",
       "      <td>3 topperforming mutual funds consider retirement portfolio february 07 2020</td>\n",
       "      <td>[101, 1017, 2327, 4842, 14192, 2075, 8203, 5029, 5136, 5075, 11103, 2337, 5718, 12609, 102]</td>\n",
       "      <td>[1, 1, 1, 1, 1, 1, 1, 1, 1, 1, 1, 1, 1, 1, 1, 0, 0, 0, 0, 0, 0, 0, 0, 0, 0, 0, 0, 0, 0, 0, 0, 0, 0, 0, 0, 0, 0, 0, 0, 0, 0, 0, 0, 0, 0, 0, 0, 0, 0, 0, 0, 0, 0, 0, 0, 0, 0, 0, 0, 0, 0, 0, 0, 0, 0, 0, 0, 0, 0, 0, 0, 0, 0, 0, 0, 0, 0, 0, 0, 0, 0, 0, 0, 0, 0, 0, 0, 0, 0, 0, 0, 0, 0, 0, 0, 0, 0, 0, 0, 0, ...]</td>\n",
       "    </tr>\n",
       "    <tr>\n",
       "      <th>...</th>\n",
       "      <td>...</td>\n",
       "      <td>...</td>\n",
       "      <td>...</td>\n",
       "      <td>...</td>\n",
       "      <td>...</td>\n",
       "    </tr>\n",
       "    <tr>\n",
       "      <th>11651</th>\n",
       "      <td>A record 449,553 Illinois residents sign up for Affordable Care Act insurance, amid uncertainty over future</td>\n",
       "      <td>1</td>\n",
       "      <td>record 449553 illinois residents sign affordable care act insurance amid uncertainty future</td>\n",
       "      <td>[101, 2501, 4008, 2683, 24087, 2509, 4307, 3901, 3696, 15184, 2729, 2552, 5427, 13463, 12503, 2925, 102]</td>\n",
       "      <td>[1, 1, 1, 1, 1, 1, 1, 1, 1, 1, 1, 1, 1, 1, 1, 1, 1, 0, 0, 0, 0, 0, 0, 0, 0, 0, 0, 0, 0, 0, 0, 0, 0, 0, 0, 0, 0, 0, 0, 0, 0, 0, 0, 0, 0, 0, 0, 0, 0, 0, 0, 0, 0, 0, 0, 0, 0, 0, 0, 0, 0, 0, 0, 0, 0, 0, 0, 0, 0, 0, 0, 0, 0, 0, 0, 0, 0, 0, 0, 0, 0, 0, 0, 0, 0, 0, 0, 0, 0, 0, 0, 0, 0, 0, 0, 0, 0, 0, 0, 0, ...]</td>\n",
       "    </tr>\n",
       "    <tr>\n",
       "      <th>11652</th>\n",
       "      <td>The Los Angeles Fires Will Put California’s New Insurance Rules to the Test</td>\n",
       "      <td>1</td>\n",
       "      <td>los angeles fires put californias new insurance rules test</td>\n",
       "      <td>[101, 3050, 3349, 8769, 2404, 2662, 2015, 2047, 5427, 3513, 3231, 102]</td>\n",
       "      <td>[1, 1, 1, 1, 1, 1, 1, 1, 1, 1, 1, 1, 0, 0, 0, 0, 0, 0, 0, 0, 0, 0, 0, 0, 0, 0, 0, 0, 0, 0, 0, 0, 0, 0, 0, 0, 0, 0, 0, 0, 0, 0, 0, 0, 0, 0, 0, 0, 0, 0, 0, 0, 0, 0, 0, 0, 0, 0, 0, 0, 0, 0, 0, 0, 0, 0, 0, 0, 0, 0, 0, 0, 0, 0, 0, 0, 0, 0, 0, 0, 0, 0, 0, 0, 0, 0, 0, 0, 0, 0, 0, 0, 0, 0, 0, 0, 0, 0, 0, 0, ...]</td>\n",
       "    </tr>\n",
       "    <tr>\n",
       "      <th>11653</th>\n",
       "      <td>NexPoint Real Estate Finance, Inc. Enters into Assignment Agreement with The Ohio State Life Insurance Company</td>\n",
       "      <td>1</td>\n",
       "      <td>nexpoint real estate finance inc enters assignment agreement ohio state life insurance company</td>\n",
       "      <td>[101, 11265, 2595, 8400, 2613, 3776, 5446, 4297, 8039, 8775, 3820, 4058, 2110, 2166, 5427, 2194, 102]</td>\n",
       "      <td>[1, 1, 1, 1, 1, 1, 1, 1, 1, 1, 1, 1, 1, 1, 1, 1, 1, 0, 0, 0, 0, 0, 0, 0, 0, 0, 0, 0, 0, 0, 0, 0, 0, 0, 0, 0, 0, 0, 0, 0, 0, 0, 0, 0, 0, 0, 0, 0, 0, 0, 0, 0, 0, 0, 0, 0, 0, 0, 0, 0, 0, 0, 0, 0, 0, 0, 0, 0, 0, 0, 0, 0, 0, 0, 0, 0, 0, 0, 0, 0, 0, 0, 0, 0, 0, 0, 0, 0, 0, 0, 0, 0, 0, 0, 0, 0, 0, 0, 0, 0, ...]</td>\n",
       "    </tr>\n",
       "    <tr>\n",
       "      <th>11654</th>\n",
       "      <td>AO Buzzard Agency Introduces Financial Services with Transparent, Lifetime-Coverage Insurance Solutions</td>\n",
       "      <td>1</td>\n",
       "      <td>ao buzzard agency introduces financial services transparent lifetimecoverage insurance solutions</td>\n",
       "      <td>[101, 20118, 12610, 4232, 4034, 13999, 3361, 2578, 13338, 6480, 3597, 26061, 3351, 5427, 7300, 102]</td>\n",
       "      <td>[1, 1, 1, 1, 1, 1, 1, 1, 1, 1, 1, 1, 1, 1, 1, 1, 0, 0, 0, 0, 0, 0, 0, 0, 0, 0, 0, 0, 0, 0, 0, 0, 0, 0, 0, 0, 0, 0, 0, 0, 0, 0, 0, 0, 0, 0, 0, 0, 0, 0, 0, 0, 0, 0, 0, 0, 0, 0, 0, 0, 0, 0, 0, 0, 0, 0, 0, 0, 0, 0, 0, 0, 0, 0, 0, 0, 0, 0, 0, 0, 0, 0, 0, 0, 0, 0, 0, 0, 0, 0, 0, 0, 0, 0, 0, 0, 0, 0, 0, 0, ...]</td>\n",
       "    </tr>\n",
       "    <tr>\n",
       "      <th>11655</th>\n",
       "      <td>Pacific Palisades wildfires may spell an end to cheap homeowners’ insurance in California</td>\n",
       "      <td>1</td>\n",
       "      <td>pacific palisades wildfires may spell end cheap homeowners insurance california</td>\n",
       "      <td>[101, 3534, 28619, 3736, 6155, 3748, 26332, 2089, 6297, 2203, 10036, 2188, 12384, 2545, 5427, 2662, 102]</td>\n",
       "      <td>[1, 1, 1, 1, 1, 1, 1, 1, 1, 1, 1, 1, 1, 1, 1, 1, 1, 0, 0, 0, 0, 0, 0, 0, 0, 0, 0, 0, 0, 0, 0, 0, 0, 0, 0, 0, 0, 0, 0, 0, 0, 0, 0, 0, 0, 0, 0, 0, 0, 0, 0, 0, 0, 0, 0, 0, 0, 0, 0, 0, 0, 0, 0, 0, 0, 0, 0, 0, 0, 0, 0, 0, 0, 0, 0, 0, 0, 0, 0, 0, 0, 0, 0, 0, 0, 0, 0, 0, 0, 0, 0, 0, 0, 0, 0, 0, 0, 0, 0, 0, ...]</td>\n",
       "    </tr>\n",
       "  </tbody>\n",
       "</table>\n",
       "<p>11656 rows × 5 columns</p>\n",
       "</div>"
      ]
     },
     "execution_count": 38,
     "metadata": {},
     "output_type": "execute_result"
    }
   ],
   "execution_count": 38
  },
  {
   "cell_type": "code",
   "metadata": {
    "ExecuteTime": {
     "end_time": "2025-06-25T07:26:07.740616Z",
     "start_time": "2025-06-25T07:26:07.736670Z"
    }
   },
   "source": "",
   "outputs": [],
   "execution_count": null
  },
  {
   "cell_type": "code",
   "metadata": {
    "ExecuteTime": {
     "end_time": "2025-06-25T07:26:09.870579Z",
     "start_time": "2025-06-25T07:26:09.854145Z"
    }
   },
   "source": [
    "y = df['Label'] \n",
    "y"
   ],
   "outputs": [
    {
     "data": {
      "text/plain": [
       "0        2\n",
       "1        2\n",
       "2        0\n",
       "3        0\n",
       "4        1\n",
       "        ..\n",
       "11651    1\n",
       "11652    1\n",
       "11653    1\n",
       "11654    1\n",
       "11655    1\n",
       "Name: Label, Length: 11656, dtype: int64"
      ]
     },
     "execution_count": 39,
     "metadata": {},
     "output_type": "execute_result"
    }
   ],
   "execution_count": 39
  },
  {
   "cell_type": "code",
   "metadata": {
    "ExecuteTime": {
     "end_time": "2025-06-25T07:26:12.664169Z",
     "start_time": "2025-06-25T07:26:12.638286Z"
    }
   },
   "source": [
    "from sklearn.model_selection import train_test_split\n",
    "X_train, X_test, y_train, y_test = train_test_split(X, y, test_size = 0.4, shuffle = False)\n",
    "X_test, X_val, y_test, y_val = train_test_split(X_test, y_test, test_size = 0.5, shuffle = False)"
   ],
   "outputs": [],
   "execution_count": 40
  },
  {
   "cell_type": "code",
   "metadata": {
    "ExecuteTime": {
     "end_time": "2025-06-25T07:26:14.500954Z",
     "start_time": "2025-06-25T07:26:14.498440Z"
    }
   },
   "source": [
    "print(X_train.shape)\n",
    "print(X_test.shape)\n",
    "print(X_val.shape)\n",
    "\n",
    "print(y_train.shape)\n",
    "print(y_test.shape)\n",
    "print(y_val.shape)"
   ],
   "outputs": [
    {
     "name": "stdout",
     "output_type": "stream",
     "text": [
      "(6993, 61)\n",
      "(2331, 61)\n",
      "(2332, 61)\n",
      "(6993,)\n",
      "(2331,)\n",
      "(2332,)\n"
     ]
    }
   ],
   "execution_count": 41
  },
  {
   "cell_type": "markdown",
   "metadata": {},
   "source": [
    "# FinBERT"
   ]
  },
  {
   "cell_type": "code",
   "metadata": {
    "ExecuteTime": {
     "end_time": "2025-06-25T07:26:18.266109Z",
     "start_time": "2025-06-25T07:26:18.197661Z"
    }
   },
   "source": [
    "class FinancialNewsDataset(Dataset):\n",
    "    def __init__(self, X, attention_mask, y):\n",
    "        # ✅ 直接使用已有的 Tensor，不要再 `torch.tensor()`\n",
    "        self.X = X.clone().detach()  # 避免 UserWarning\n",
    "        self.attention_mask = attention_mask.clone().detach()  # 避免 UserWarning\n",
    "        self.y = torch.tensor(y.tolist(), dtype=torch.long)  # 这里需要转换\n",
    "\n",
    "    def __len__(self):\n",
    "        return len(self.y)\n",
    "\n",
    "    def __getitem__(self, idx):\n",
    "        return self.X[idx], self.attention_mask[idx], self.y[idx]"
   ],
   "outputs": [
    {
     "ename": "NameError",
     "evalue": "name 'Dataset' is not defined",
     "output_type": "error",
     "traceback": [
      "\u001B[0;31m---------------------------------------------------------------------------\u001B[0m",
      "\u001B[0;31mNameError\u001B[0m                                 Traceback (most recent call last)",
      "Cell \u001B[0;32mIn[42], line 1\u001B[0m\n\u001B[0;32m----> 1\u001B[0m \u001B[38;5;28;01mclass\u001B[39;00m \u001B[38;5;21;01mFinancialNewsDataset\u001B[39;00m(Dataset):\n\u001B[1;32m      2\u001B[0m     \u001B[38;5;28;01mdef\u001B[39;00m \u001B[38;5;21m__init__\u001B[39m(\u001B[38;5;28mself\u001B[39m, X, attention_mask, y):\n\u001B[1;32m      3\u001B[0m         \u001B[38;5;66;03m# ✅ 直接使用已有的 Tensor，不要再 `torch.tensor()`\u001B[39;00m\n\u001B[1;32m      4\u001B[0m         \u001B[38;5;28mself\u001B[39m\u001B[38;5;241m.\u001B[39mX \u001B[38;5;241m=\u001B[39m X\u001B[38;5;241m.\u001B[39mclone()\u001B[38;5;241m.\u001B[39mdetach()  \u001B[38;5;66;03m# 避免 UserWarning\u001B[39;00m\n",
      "\u001B[0;31mNameError\u001B[0m: name 'Dataset' is not defined"
     ]
    }
   ],
   "execution_count": 42
  },
  {
   "cell_type": "code",
   "metadata": {
    "ExecuteTime": {
     "end_time": "2025-07-03T18:29:30.136406Z",
     "start_time": "2025-07-03T18:29:29.806832Z"
    }
   },
   "source": [
    "# 【检查】创建 `FinancialNewsDataset` 数据集\n",
    "train_dataset = FinancialNewsDataset(X_train, attention_mask, y_train)\n",
    "\n",
    "# 测试 Dataset 是否返回 3 个值\n",
    "sample = train_dataset[0]  # 获取索引 0 的数据\n",
    "print(f\"Dataset sample type: {type(sample)}\")\n",
    "print(f\"Dataset sample length: {len(sample)}\")  # 期待是 3\n",
    "print(f\"X shape: {sample[0].shape}, attention_mask shape: {sample[1].shape}, y: {sample[2]}\")"
   ],
   "outputs": [
    {
     "ename": "NameError",
     "evalue": "name 'FinancialNewsDataset' is not defined",
     "output_type": "error",
     "traceback": [
      "\u001B[0;31m---------------------------------------------------------------------------\u001B[0m",
      "\u001B[0;31mNameError\u001B[0m                                 Traceback (most recent call last)",
      "Cell \u001B[0;32mIn[44], line 2\u001B[0m\n\u001B[1;32m      1\u001B[0m \u001B[38;5;66;03m# 【检查】创建 `FinancialNewsDataset` 数据集\u001B[39;00m\n\u001B[0;32m----> 2\u001B[0m train_dataset \u001B[38;5;241m=\u001B[39m FinancialNewsDataset(X_train, attention_mask, y_train)\n\u001B[1;32m      4\u001B[0m \u001B[38;5;66;03m# 测试 Dataset 是否返回 3 个值\u001B[39;00m\n\u001B[1;32m      5\u001B[0m sample \u001B[38;5;241m=\u001B[39m train_dataset[\u001B[38;5;241m0\u001B[39m]  \u001B[38;5;66;03m# 获取索引 0 的数据\u001B[39;00m\n",
      "\u001B[0;31mNameError\u001B[0m: name 'FinancialNewsDataset' is not defined"
     ]
    }
   ],
   "execution_count": 44
  },
  {
   "cell_type": "code",
   "metadata": {
    "scrolled": true,
    "ExecuteTime": {
     "end_time": "2025-07-03T18:33:15.716354Z",
     "start_time": "2025-07-03T18:33:15.652661Z"
    }
   },
   "source": [
    "# 加载预训练的 FinBERT（3 分类）\n",
    "model = AutoModelForSequenceClassification.from_pretrained(\"ProsusAI/finbert\", num_labels=3)\n",
    "tokenizer = AutoTokenizer.from_pretrained(\"ProsusAI/finbert\")\n",
    "\n",
    "device = torch.device(\"cuda\" if torch.cuda.is_available() else \"cpu\")\n",
    "model.to(device)"
   ],
   "outputs": [
    {
     "ename": "NameError",
     "evalue": "name 'AutoModelForSequenceClassification' is not defined",
     "output_type": "error",
     "traceback": [
      "\u001B[0;31m---------------------------------------------------------------------------\u001B[0m",
      "\u001B[0;31mNameError\u001B[0m                                 Traceback (most recent call last)",
      "Cell \u001B[0;32mIn[45], line 2\u001B[0m\n\u001B[1;32m      1\u001B[0m \u001B[38;5;66;03m# 加载预训练的 FinBERT（3 分类）\u001B[39;00m\n\u001B[0;32m----> 2\u001B[0m model \u001B[38;5;241m=\u001B[39m AutoModelForSequenceClassification\u001B[38;5;241m.\u001B[39mfrom_pretrained(\u001B[38;5;124m\"\u001B[39m\u001B[38;5;124mProsusAI/finbert\u001B[39m\u001B[38;5;124m\"\u001B[39m, num_labels\u001B[38;5;241m=\u001B[39m\u001B[38;5;241m3\u001B[39m)\n\u001B[1;32m      3\u001B[0m tokenizer \u001B[38;5;241m=\u001B[39m AutoTokenizer\u001B[38;5;241m.\u001B[39mfrom_pretrained(\u001B[38;5;124m\"\u001B[39m\u001B[38;5;124mProsusAI/finbert\u001B[39m\u001B[38;5;124m\"\u001B[39m)\n\u001B[1;32m      5\u001B[0m device \u001B[38;5;241m=\u001B[39m torch\u001B[38;5;241m.\u001B[39mdevice(\u001B[38;5;124m\"\u001B[39m\u001B[38;5;124mcuda\u001B[39m\u001B[38;5;124m\"\u001B[39m \u001B[38;5;28;01mif\u001B[39;00m torch\u001B[38;5;241m.\u001B[39mcuda\u001B[38;5;241m.\u001B[39mis_available() \u001B[38;5;28;01melse\u001B[39;00m \u001B[38;5;124m\"\u001B[39m\u001B[38;5;124mcpu\u001B[39m\u001B[38;5;124m\"\u001B[39m)\n",
      "\u001B[0;31mNameError\u001B[0m: name 'AutoModelForSequenceClassification' is not defined"
     ]
    }
   ],
   "execution_count": 45
  },
  {
   "cell_type": "code",
   "execution_count": 118,
   "metadata": {
    "scrolled": true
   },
   "outputs": [],
   "source": [
    "# 创建 PyTorch Dataset\n",
    "train_dataset = FinancialNewsDataset(X_train, y_train)\n",
    "test_dataset = FinancialNewsDataset(X_test, y_test)\n",
    "val_dataset = FinancialNewsDataset(X_val, y_val)\n",
    "\n",
    "# 创建 DataLoader\n",
    "train_loader = DataLoader(train_dataset, batch_size=16, shuffle=True)\n",
    "test_loader = DataLoader(test_dataset, batch_size=16, shuffle=False)\n",
    "val_loader = DataLoader(val_dataset, batch_size=16, shuffle=False)"
   ]
  },
  {
   "cell_type": "code",
   "execution_count": 120,
   "metadata": {},
   "outputs": [
    {
     "name": "stderr",
     "output_type": "stream",
     "text": [
      "/opt/anaconda3/lib/python3.12/site-packages/transformers/optimization.py:591: FutureWarning: This implementation of AdamW is deprecated and will be removed in a future version. Use the PyTorch implementation torch.optim.AdamW instead, or set `no_deprecation_warning=True` to disable this warning\n",
      "  warnings.warn(\n"
     ]
    }
   ],
   "source": [
    "optimizer = AdamW(model.parameters(), lr=2e-5, eps=1e-8)\n",
    "criterion = nn.CrossEntropyLoss()"
   ]
  },
  {
   "cell_type": "code",
   "execution_count": 148,
   "metadata": {},
   "outputs": [],
   "source": [
    "import os\n",
    "os.environ[\"TOKENIZERS_PARALLELISM\"] = \"false\""
   ]
  },
  {
   "cell_type": "code",
   "execution_count": 79,
   "metadata": {},
   "outputs": [
    {
     "ename": "NameError",
     "evalue": "name 'FinancialNewsDataset' is not defined",
     "output_type": "error",
     "traceback": [
      "\u001B[0;31m---------------------------------------------------------------------------\u001B[0m",
      "\u001B[0;31mNameError\u001B[0m                                 Traceback (most recent call last)",
      "Cell \u001B[0;32mIn[79], line 6\u001B[0m\n\u001B[1;32m      3\u001B[0m y \u001B[38;5;241m=\u001B[39m df[\u001B[38;5;124m\"\u001B[39m\u001B[38;5;124mLabel\u001B[39m\u001B[38;5;124m\"\u001B[39m]  \u001B[38;5;66;03m# 你的标签\u001B[39;00m\n\u001B[1;32m      5\u001B[0m \u001B[38;5;66;03m# 用 FinancialNewsDataset 创建 PyTorch 数据集\u001B[39;00m\n\u001B[0;32m----> 6\u001B[0m train_dataset \u001B[38;5;241m=\u001B[39m FinancialNewsDataset(X_train, attention_mask, y_train)\n\u001B[1;32m      7\u001B[0m val_dataset \u001B[38;5;241m=\u001B[39m FinancialNewsDataset(X_val, attention_mask, y_val)\n\u001B[1;32m      8\u001B[0m test_dataset \u001B[38;5;241m=\u001B[39m FinancialNewsDataset(X_test, attention_mask, y_test)\n",
      "\u001B[0;31mNameError\u001B[0m: name 'FinancialNewsDataset' is not defined"
     ]
    }
   ],
   "source": [
    "# 先获取 tokenized 数据\n",
    "X, attention_mask = tokenization_padding(df)\n",
    "y = df[\"Label\"]  # 你的标签\n",
    "\n",
    "# 用 FinancialNewsDataset 创建 PyTorch 数据集\n",
    "train_dataset = FinancialNewsDataset(X_train, attention_mask, y_train)\n",
    "val_dataset = FinancialNewsDataset(X_val, attention_mask, y_val)\n",
    "test_dataset = FinancialNewsDataset(X_test, attention_mask, y_test)\n",
    "\n",
    "# 用 DataLoader 处理批量数据\n",
    "train_loader = DataLoader(train_dataset, batch_size=16, shuffle=True)\n",
    "val_loader = DataLoader(val_dataset, batch_size=16, shuffle=False)\n",
    "test_loader = DataLoader(test_dataset, batch_size=16, shuffle=False)"
   ]
  },
  {
   "cell_type": "code",
   "execution_count": 81,
   "metadata": {},
   "outputs": [],
   "source": [
    "import transformers\n",
    "import tensorflow as tf"
   ]
  },
  {
   "cell_type": "code",
   "execution_count": 83,
   "metadata": {},
   "outputs": [
    {
     "ename": "NameError",
     "evalue": "name 'model' is not defined",
     "output_type": "error",
     "traceback": [
      "\u001B[0;31m---------------------------------------------------------------------------\u001B[0m",
      "\u001B[0;31mNameError\u001B[0m                                 Traceback (most recent call last)",
      "Cell \u001B[0;32mIn[83], line 72\u001B[0m\n\u001B[1;32m     69\u001B[0m             save_keras_model(model, output_path\u001B[38;5;241m=\u001B[39m\u001B[38;5;124m\"\u001B[39m\u001B[38;5;124mfinbert_best_model\u001B[39m\u001B[38;5;124m\"\u001B[39m)\n\u001B[1;32m     70\u001B[0m             \u001B[38;5;28mprint\u001B[39m(\u001B[38;5;124m\"\u001B[39m\u001B[38;5;124mBest model saved!\u001B[39m\u001B[38;5;124m\"\u001B[39m)\n\u001B[0;32m---> 72\u001B[0m train_model(model, train_loader, val_loader, epochs\u001B[38;5;241m=\u001B[39m\u001B[38;5;241m3\u001B[39m)\n",
      "\u001B[0;31mNameError\u001B[0m: name 'model' is not defined"
     ]
    }
   ],
   "source": [
    "def train_model(model, train_loader, val_loader, epochs=3):\n",
    "    best_val_loss = float(\"inf\")\n",
    "\n",
    "    for epoch in range(epochs):\n",
    "        print(f\"Epoch {epoch+1}/{epochs}\")\n",
    "\n",
    "        # 训练模式\n",
    "        model.train()\n",
    "        train_loss = 0\n",
    "        correct, total = 0, 0\n",
    "\n",
    "        # **🔹 调试 batch 结构**\n",
    "        for batch in train_loader:\n",
    "            print(f\"Batch length: {len(batch)}\")  # 期待是 3\n",
    "            print(f\"Batch content types: {[type(b) for b in batch]}\")  # 期待是 `torch.Tensor`\n",
    "            break  # **确保 `train_loader` 没有被重复遍历**\n",
    "        \n",
    "        for batch in tqdm(train_loader):\n",
    "            X_batch, attention_mask, y_batch = batch\n",
    "\n",
    "            # **🔹 确保 `attention_mask_batch` 传递给 GPU**\n",
    "            X_batch, attention_mask, y_batch = (\n",
    "                X_batch.to(device), attention_mask.to(device), y_batch.to(device)\n",
    "            )\n",
    "\n",
    "            optimizer.zero_grad()\n",
    "            outputs = model(input_ids=X_batch, attention_mask=attention_mask).logits\n",
    "            loss = criterion(outputs, y_batch)\n",
    "\n",
    "            loss.backward()\n",
    "            optimizer.step()\n",
    "\n",
    "            train_loss += loss.item()\n",
    "            preds = torch.argmax(outputs, dim=1)\n",
    "            correct += (preds == y_batch).sum().item()\n",
    "            total += y_batch.size(0)\n",
    "\n",
    "        avg_train_loss = train_loss / len(train_loader)\n",
    "        train_acc = correct / total\n",
    "\n",
    "        # 评估模式\n",
    "        model.eval()\n",
    "        val_loss = 0\n",
    "        correct, total = 0, 0\n",
    "        with torch.no_grad():\n",
    "            for batch in val_loader:\n",
    "                X_batch, attention_mask, y_batch = batch\n",
    "                X_batch, attention_mask, y_batch = (\n",
    "                    X_batch.to(device), attention_mask.to(device), y_batch.to(device)\n",
    "                )\n",
    "\n",
    "                outputs = model(input_ids=X_batch, attention_mask=attention_mask).logits\n",
    "                loss = criterion(outputs, y_batch)\n",
    "\n",
    "                val_loss += loss.item()\n",
    "                preds = torch.argmax(outputs, dim=1)\n",
    "                correct += (preds == y_batch).sum().item()\n",
    "                total += y_batch.size(0)\n",
    "\n",
    "        avg_val_loss = val_loss / len(val_loader)\n",
    "        val_acc = correct / total\n",
    "\n",
    "        print(f\"Train Loss: {avg_train_loss:.4f}, Train Acc: {train_acc:.4f}\")\n",
    "        print(f\"Val Loss: {avg_val_loss:.4f}, Val Acc: {val_acc:.4f}\")\n",
    "\n",
    "        # 保存最佳模型\n",
    "        if avg_val_loss < best_val_loss:\n",
    "            best_val_loss = avg_val_loss\n",
    "            save_keras_model(model, output_path=\"finbert_best_model\")\n",
    "            print(\"Best model saved!\")\n",
    "\n",
    "train_model(model, train_loader, val_loader, epochs=3)"
   ]
  },
  {
   "cell_type": "markdown",
   "metadata": {},
   "source": [
    "# TRAIN A LONG SHORT-TERM MEMORY (LSTM) NEURAL NETWORK"
   ]
  },
  {
   "cell_type": "code",
   "execution_count": 195,
   "metadata": {},
   "outputs": [],
   "source": [
    "import os\n",
    "os.environ[\"TOKENIZERS_PARALLELISM\"] = \"false\"\n",
    "import tensorflow as tf]\\\\\n",
    "from tensorflow import keras"
   ]
  },
  {
   "cell_type": "code",
   "execution_count": 197,
   "metadata": {},
   "outputs": [],
   "source": [
    "inputs = tf.keras.Input(shape = (X_train.shape[1],))\n",
    "\n",
    "\n",
    "x = tf.keras.layers.Embedding(input_dim = tokenizer.vocab_size,\n",
    "                              output_dim = 768,\n",
    "                              )(inputs)\n",
    "\n",
    "x = tf.keras.layers.LSTM(64, return_sequences = True, activation = 'tanh')(x)\n",
    "x = tf.keras.layers.Flatten()(x)\n",
    "\n",
    "outputs = tf.keras.layers.Dense(3, activation = 'softmax')(x)\n",
    "model = tf.keras.Model(inputs = inputs, outputs = outputs)\n"
   ]
  },
  {
   "cell_type": "code",
   "execution_count": 199,
   "metadata": {},
   "outputs": [],
   "source": [
    "model.compile(optimizer = 'adam', loss = 'sparse_categorical_crossentropy', metrics = ['accuracy'])"
   ]
  },
  {
   "cell_type": "code",
   "execution_count": 201,
   "metadata": {},
   "outputs": [
    {
     "data": {
      "text/html": [
       "<pre style=\"white-space:pre;overflow-x:auto;line-height:normal;font-family:Menlo,'DejaVu Sans Mono',consolas,'Courier New',monospace\"><span style=\"font-weight: bold\">Model: \"functional_3\"</span>\n",
       "</pre>\n"
      ],
      "text/plain": [
       "\u001B[1mModel: \"functional_3\"\u001B[0m\n"
      ]
     },
     "metadata": {},
     "output_type": "display_data"
    },
    {
     "data": {
      "text/html": [
       "<pre style=\"white-space:pre;overflow-x:auto;line-height:normal;font-family:Menlo,'DejaVu Sans Mono',consolas,'Courier New',monospace\">┏━━━━━━━━━━━━━━━━━━━━━━━━━━━━━━━━━┳━━━━━━━━━━━━━━━━━━━━━━━━┳━━━━━━━━━━━━━━━┓\n",
       "┃<span style=\"font-weight: bold\"> Layer (type)                    </span>┃<span style=\"font-weight: bold\"> Output Shape           </span>┃<span style=\"font-weight: bold\">       Param # </span>┃\n",
       "┡━━━━━━━━━━━━━━━━━━━━━━━━━━━━━━━━━╇━━━━━━━━━━━━━━━━━━━━━━━━╇━━━━━━━━━━━━━━━┩\n",
       "│ input_layer_3 (<span style=\"color: #0087ff; text-decoration-color: #0087ff\">InputLayer</span>)      │ (<span style=\"color: #00d7ff; text-decoration-color: #00d7ff\">None</span>, <span style=\"color: #00af00; text-decoration-color: #00af00\">61</span>)             │             <span style=\"color: #00af00; text-decoration-color: #00af00\">0</span> │\n",
       "├─────────────────────────────────┼────────────────────────┼───────────────┤\n",
       "│ embedding_3 (<span style=\"color: #0087ff; text-decoration-color: #0087ff\">Embedding</span>)         │ (<span style=\"color: #00d7ff; text-decoration-color: #00d7ff\">None</span>, <span style=\"color: #00af00; text-decoration-color: #00af00\">61</span>, <span style=\"color: #00af00; text-decoration-color: #00af00\">768</span>)        │    <span style=\"color: #00af00; text-decoration-color: #00af00\">23,440,896</span> │\n",
       "├─────────────────────────────────┼────────────────────────┼───────────────┤\n",
       "│ lstm_3 (<span style=\"color: #0087ff; text-decoration-color: #0087ff\">LSTM</span>)                   │ (<span style=\"color: #00d7ff; text-decoration-color: #00d7ff\">None</span>, <span style=\"color: #00af00; text-decoration-color: #00af00\">61</span>, <span style=\"color: #00af00; text-decoration-color: #00af00\">64</span>)         │       <span style=\"color: #00af00; text-decoration-color: #00af00\">213,248</span> │\n",
       "├─────────────────────────────────┼────────────────────────┼───────────────┤\n",
       "│ flatten_3 (<span style=\"color: #0087ff; text-decoration-color: #0087ff\">Flatten</span>)             │ (<span style=\"color: #00d7ff; text-decoration-color: #00d7ff\">None</span>, <span style=\"color: #00af00; text-decoration-color: #00af00\">3904</span>)           │             <span style=\"color: #00af00; text-decoration-color: #00af00\">0</span> │\n",
       "├─────────────────────────────────┼────────────────────────┼───────────────┤\n",
       "│ dense_3 (<span style=\"color: #0087ff; text-decoration-color: #0087ff\">Dense</span>)                 │ (<span style=\"color: #00d7ff; text-decoration-color: #00d7ff\">None</span>, <span style=\"color: #00af00; text-decoration-color: #00af00\">3</span>)              │        <span style=\"color: #00af00; text-decoration-color: #00af00\">11,715</span> │\n",
       "└─────────────────────────────────┴────────────────────────┴───────────────┘\n",
       "</pre>\n"
      ],
      "text/plain": [
       "┏━━━━━━━━━━━━━━━━━━━━━━━━━━━━━━━━━┳━━━━━━━━━━━━━━━━━━━━━━━━┳━━━━━━━━━━━━━━━┓\n",
       "┃\u001B[1m \u001B[0m\u001B[1mLayer (type)                   \u001B[0m\u001B[1m \u001B[0m┃\u001B[1m \u001B[0m\u001B[1mOutput Shape          \u001B[0m\u001B[1m \u001B[0m┃\u001B[1m \u001B[0m\u001B[1m      Param #\u001B[0m\u001B[1m \u001B[0m┃\n",
       "┡━━━━━━━━━━━━━━━━━━━━━━━━━━━━━━━━━╇━━━━━━━━━━━━━━━━━━━━━━━━╇━━━━━━━━━━━━━━━┩\n",
       "│ input_layer_3 (\u001B[38;5;33mInputLayer\u001B[0m)      │ (\u001B[38;5;45mNone\u001B[0m, \u001B[38;5;34m61\u001B[0m)             │             \u001B[38;5;34m0\u001B[0m │\n",
       "├─────────────────────────────────┼────────────────────────┼───────────────┤\n",
       "│ embedding_3 (\u001B[38;5;33mEmbedding\u001B[0m)         │ (\u001B[38;5;45mNone\u001B[0m, \u001B[38;5;34m61\u001B[0m, \u001B[38;5;34m768\u001B[0m)        │    \u001B[38;5;34m23,440,896\u001B[0m │\n",
       "├─────────────────────────────────┼────────────────────────┼───────────────┤\n",
       "│ lstm_3 (\u001B[38;5;33mLSTM\u001B[0m)                   │ (\u001B[38;5;45mNone\u001B[0m, \u001B[38;5;34m61\u001B[0m, \u001B[38;5;34m64\u001B[0m)         │       \u001B[38;5;34m213,248\u001B[0m │\n",
       "├─────────────────────────────────┼────────────────────────┼───────────────┤\n",
       "│ flatten_3 (\u001B[38;5;33mFlatten\u001B[0m)             │ (\u001B[38;5;45mNone\u001B[0m, \u001B[38;5;34m3904\u001B[0m)           │             \u001B[38;5;34m0\u001B[0m │\n",
       "├─────────────────────────────────┼────────────────────────┼───────────────┤\n",
       "│ dense_3 (\u001B[38;5;33mDense\u001B[0m)                 │ (\u001B[38;5;45mNone\u001B[0m, \u001B[38;5;34m3\u001B[0m)              │        \u001B[38;5;34m11,715\u001B[0m │\n",
       "└─────────────────────────────────┴────────────────────────┴───────────────┘\n"
      ]
     },
     "metadata": {},
     "output_type": "display_data"
    },
    {
     "data": {
      "text/html": [
       "<pre style=\"white-space:pre;overflow-x:auto;line-height:normal;font-family:Menlo,'DejaVu Sans Mono',consolas,'Courier New',monospace\"><span style=\"font-weight: bold\"> Total params: </span><span style=\"color: #00af00; text-decoration-color: #00af00\">23,665,859</span> (90.28 MB)\n",
       "</pre>\n"
      ],
      "text/plain": [
       "\u001B[1m Total params: \u001B[0m\u001B[38;5;34m23,665,859\u001B[0m (90.28 MB)\n"
      ]
     },
     "metadata": {},
     "output_type": "display_data"
    },
    {
     "data": {
      "text/html": [
       "<pre style=\"white-space:pre;overflow-x:auto;line-height:normal;font-family:Menlo,'DejaVu Sans Mono',consolas,'Courier New',monospace\"><span style=\"font-weight: bold\"> Trainable params: </span><span style=\"color: #00af00; text-decoration-color: #00af00\">23,665,859</span> (90.28 MB)\n",
       "</pre>\n"
      ],
      "text/plain": [
       "\u001B[1m Trainable params: \u001B[0m\u001B[38;5;34m23,665,859\u001B[0m (90.28 MB)\n"
      ]
     },
     "metadata": {},
     "output_type": "display_data"
    },
    {
     "data": {
      "text/html": [
       "<pre style=\"white-space:pre;overflow-x:auto;line-height:normal;font-family:Menlo,'DejaVu Sans Mono',consolas,'Courier New',monospace\"><span style=\"font-weight: bold\"> Non-trainable params: </span><span style=\"color: #00af00; text-decoration-color: #00af00\">0</span> (0.00 B)\n",
       "</pre>\n"
      ],
      "text/plain": [
       "\u001B[1m Non-trainable params: \u001B[0m\u001B[38;5;34m0\u001B[0m (0.00 B)\n"
      ]
     },
     "metadata": {},
     "output_type": "display_data"
    }
   ],
   "source": [
    "model.summary()"
   ]
  },
  {
   "cell_type": "code",
   "execution_count": 132,
   "metadata": {},
   "outputs": [
    {
     "name": "stdout",
     "output_type": "stream",
     "text": [
      "Epoch 1/3\n",
      "\u001B[1m180/180\u001B[0m \u001B[32m━━━━━━━━━━━━━━━━━━━━\u001B[0m\u001B[37m\u001B[0m \u001B[1m22s\u001B[0m 116ms/step - accuracy: 0.6716 - loss: 0.8308 - val_accuracy: 0.7597 - val_loss: 0.6156\n",
      "Epoch 2/3\n",
      "\u001B[1m180/180\u001B[0m \u001B[32m━━━━━━━━━━━━━━━━━━━━\u001B[0m\u001B[37m\u001B[0m \u001B[1m21s\u001B[0m 116ms/step - accuracy: 0.8881 - loss: 0.3131 - val_accuracy: 0.7597 - val_loss: 0.7123\n",
      "Epoch 3/3\n",
      "\u001B[1m180/180\u001B[0m \u001B[32m━━━━━━━━━━━━━━━━━━━━\u001B[0m\u001B[37m\u001B[0m \u001B[1m21s\u001B[0m 119ms/step - accuracy: 0.9721 - loss: 0.0840 - val_accuracy: 0.7571 - val_loss: 0.8839\n"
     ]
    }
   ],
   "source": [
    "history = model.fit(X_train,\n",
    "                    y_train,\n",
    "                    validation_data = (X_val, y_val),\n",
    "                    batch_size = 32,\n",
    "                    epochs = 3)"
   ]
  },
  {
   "cell_type": "code",
   "execution_count": 234,
   "metadata": {},
   "outputs": [],
   "source": [
    "model.save('lstm_model.keras')"
   ]
  },
  {
   "cell_type": "code",
   "execution_count": 203,
   "metadata": {},
   "outputs": [
    {
     "name": "stdout",
     "output_type": "stream",
     "text": [
      "<class 'keras.src.models.functional.Functional'>\n"
     ]
    }
   ],
   "source": [
    "print(type(model))  # 检查模型类型"
   ]
  },
  {
   "cell_type": "markdown",
   "metadata": {},
   "source": [
    "# Evaluating"
   ]
  },
  {
   "cell_type": "code",
   "execution_count": 217,
   "metadata": {},
   "outputs": [
    {
     "name": "stdout",
     "output_type": "stream",
     "text": [
      "\u001B[1m60/60\u001B[0m \u001B[32m━━━━━━━━━━━━━━━━━━━━\u001B[0m\u001B[37m\u001B[0m \u001B[1m1s\u001B[0m 15ms/step - accuracy: 0.6376 - loss: 1.0749\n"
     ]
    }
   ],
   "source": [
    "results = model.evaluate(X_test, y_test)"
   ]
  },
  {
   "cell_type": "code",
   "execution_count": 219,
   "metadata": {},
   "outputs": [
    {
     "name": "stdout",
     "output_type": "stream",
     "text": [
      "Test Accuracy: 64.66%\n"
     ]
    }
   ],
   "source": [
    "print(\"Test Accuracy: {:.2f}%\".format(results[1] * 100))"
   ]
  },
  {
   "cell_type": "code",
   "execution_count": 160,
   "metadata": {},
   "outputs": [
    {
     "name": "stdout",
     "output_type": "stream",
     "text": [
      "\u001B[1m60/60\u001B[0m \u001B[32m━━━━━━━━━━━━━━━━━━━━\u001B[0m\u001B[37m\u001B[0m \u001B[1m1s\u001B[0m 16ms/step\n",
      "测试集上的 F1-Score: 0.7512\n",
      "\n",
      "分类报告：\n",
      "              precision    recall  f1-score   support\n",
      "\n",
      "    Positive       0.51      0.49      0.50       277\n",
      "     Neutral       0.84      0.86      0.85      1238\n",
      "    Negative       0.64      0.61      0.63       395\n",
      "\n",
      "    accuracy                           0.75      1910\n",
      "   macro avg       0.66      0.65      0.66      1910\n",
      "weighted avg       0.75      0.75      0.75      1910\n",
      "\n"
     ]
    }
   ],
   "source": [
    "from sklearn.metrics import f1_score, classification_report\n",
    "y_pred_prob = model.predict(X_test)  \n",
    "y_pred = y_pred_prob.argmax(axis=1)  \n",
    "f1 = f1_score(y_test, y_pred, average='weighted')\n",
    "print(f\"测试集上的 F1-Score: {f1:.4f}\")\n",
    "print(\"\\n分类报告：\")\n",
    "print(classification_report(y_test, y_pred, target_names=[\"Positive\", \"Neutral\", \"Negative\"]))"
   ]
  },
  {
   "cell_type": "code",
   "execution_count": 184,
   "metadata": {},
   "outputs": [
    {
     "name": "stdout",
     "output_type": "stream",
     "text": [
      "\u001B[1m60/60\u001B[0m \u001B[32m━━━━━━━━━━━━━━━━━━━━\u001B[0m\u001B[37m\u001B[0m \u001B[1m1s\u001B[0m 16ms/step\n"
     ]
    },
    {
     "data": {
      "text/plain": [
       "array([[8.7386853e-01, 4.4876128e-02, 8.1255212e-02],\n",
       "       [4.1766246e-03, 9.9504238e-01, 7.8097294e-04],\n",
       "       [4.3300001e-04, 9.9882060e-01, 7.4637349e-04],\n",
       "       ...,\n",
       "       [2.1846138e-03, 1.7411473e-04, 9.9764132e-01],\n",
       "       [7.2429684e-05, 9.9705148e-01, 2.8761411e-03],\n",
       "       [2.0486831e-04, 9.9772316e-01, 2.0719944e-03]], dtype=float32)"
      ]
     },
     "execution_count": 184,
     "metadata": {},
     "output_type": "execute_result"
    }
   ],
   "source": [
    "predictions = model.predict(X_test)\n",
    "predictions"
   ]
  },
  {
   "cell_type": "code",
   "execution_count": 186,
   "metadata": {
    "scrolled": true
   },
   "outputs": [
    {
     "data": {
      "text/plain": [
       "[0,\n",
       " 1,\n",
       " 1,\n",
       " 1,\n",
       " 0,\n",
       " 1,\n",
       " 1,\n",
       " 1,\n",
       " 1,\n",
       " 1,\n",
       " 1,\n",
       " 1,\n",
       " 0,\n",
       " 2,\n",
       " 2,\n",
       " 1,\n",
       " 1,\n",
       " 1,\n",
       " 1,\n",
       " 2,\n",
       " 2,\n",
       " 1,\n",
       " 1,\n",
       " 1,\n",
       " 1,\n",
       " 0,\n",
       " 1,\n",
       " 2,\n",
       " 1,\n",
       " 1,\n",
       " 2,\n",
       " 1,\n",
       " 1,\n",
       " 1,\n",
       " 0,\n",
       " 1,\n",
       " 2,\n",
       " 1,\n",
       " 2,\n",
       " 1,\n",
       " 1,\n",
       " 1,\n",
       " 1,\n",
       " 2,\n",
       " 1,\n",
       " 1,\n",
       " 0,\n",
       " 2,\n",
       " 0,\n",
       " 1,\n",
       " 0,\n",
       " 1,\n",
       " 1,\n",
       " 1,\n",
       " 1,\n",
       " 1,\n",
       " 1,\n",
       " 1,\n",
       " 2,\n",
       " 1,\n",
       " 1,\n",
       " 1,\n",
       " 1,\n",
       " 1,\n",
       " 2,\n",
       " 1,\n",
       " 1,\n",
       " 0,\n",
       " 1,\n",
       " 1,\n",
       " 0,\n",
       " 1,\n",
       " 1,\n",
       " 1,\n",
       " 1,\n",
       " 2,\n",
       " 1,\n",
       " 2,\n",
       " 1,\n",
       " 2,\n",
       " 1,\n",
       " 1,\n",
       " 1,\n",
       " 1,\n",
       " 1,\n",
       " 1,\n",
       " 1,\n",
       " 0,\n",
       " 0,\n",
       " 1,\n",
       " 1,\n",
       " 1,\n",
       " 0,\n",
       " 0,\n",
       " 2,\n",
       " 1,\n",
       " 0,\n",
       " 2,\n",
       " 2,\n",
       " 2,\n",
       " 2,\n",
       " 2,\n",
       " 0,\n",
       " 1,\n",
       " 2,\n",
       " 1,\n",
       " 1,\n",
       " 2,\n",
       " 1,\n",
       " 1,\n",
       " 1,\n",
       " 1,\n",
       " 1,\n",
       " 0,\n",
       " 0,\n",
       " 2,\n",
       " 1,\n",
       " 2,\n",
       " 1,\n",
       " 2,\n",
       " 1,\n",
       " 1,\n",
       " 0,\n",
       " 1,\n",
       " 0,\n",
       " 1,\n",
       " 1,\n",
       " 2,\n",
       " 1,\n",
       " 0,\n",
       " 1,\n",
       " 2,\n",
       " 1,\n",
       " 2,\n",
       " 1,\n",
       " 0,\n",
       " 1,\n",
       " 0,\n",
       " 1,\n",
       " 1,\n",
       " 2,\n",
       " 0,\n",
       " 1,\n",
       " 1,\n",
       " 2,\n",
       " 1,\n",
       " 2,\n",
       " 1,\n",
       " 0,\n",
       " 2,\n",
       " 2,\n",
       " 2,\n",
       " 2,\n",
       " 1,\n",
       " 0,\n",
       " 1,\n",
       " 1,\n",
       " 2,\n",
       " 1,\n",
       " 2,\n",
       " 2,\n",
       " 1,\n",
       " 1,\n",
       " 1,\n",
       " 2,\n",
       " 1,\n",
       " 1,\n",
       " 1,\n",
       " 1,\n",
       " 1,\n",
       " 0,\n",
       " 0,\n",
       " 1,\n",
       " 2,\n",
       " 2,\n",
       " 2,\n",
       " 1,\n",
       " 2,\n",
       " 0,\n",
       " 1,\n",
       " 2,\n",
       " 2,\n",
       " 1,\n",
       " 1,\n",
       " 2,\n",
       " 1,\n",
       " 2,\n",
       " 1,\n",
       " 1,\n",
       " 2,\n",
       " 0,\n",
       " 1,\n",
       " 1,\n",
       " 2,\n",
       " 1,\n",
       " 2,\n",
       " 1,\n",
       " 1,\n",
       " 1,\n",
       " 0,\n",
       " 2,\n",
       " 0,\n",
       " 2,\n",
       " 1,\n",
       " 1,\n",
       " 1,\n",
       " 1,\n",
       " 1,\n",
       " 2,\n",
       " 2,\n",
       " 1,\n",
       " 1,\n",
       " 0,\n",
       " 1,\n",
       " 0,\n",
       " 1,\n",
       " 2,\n",
       " 0,\n",
       " 1,\n",
       " 1,\n",
       " 1,\n",
       " 1,\n",
       " 0,\n",
       " 1,\n",
       " 2,\n",
       " 1,\n",
       " 1,\n",
       " 1,\n",
       " 0,\n",
       " 1,\n",
       " 1,\n",
       " 1,\n",
       " 1,\n",
       " 2,\n",
       " 1,\n",
       " 1,\n",
       " 1,\n",
       " 1,\n",
       " 1,\n",
       " 1,\n",
       " 1,\n",
       " 1,\n",
       " 2,\n",
       " 1,\n",
       " 2,\n",
       " 1,\n",
       " 1,\n",
       " 1,\n",
       " 1,\n",
       " 1,\n",
       " 2,\n",
       " 0,\n",
       " 1,\n",
       " 2,\n",
       " 1,\n",
       " 1,\n",
       " 1,\n",
       " 1,\n",
       " 2,\n",
       " 0,\n",
       " 1,\n",
       " 1,\n",
       " 1,\n",
       " 0,\n",
       " 2,\n",
       " 1,\n",
       " 2,\n",
       " 1,\n",
       " 2,\n",
       " 1,\n",
       " 1,\n",
       " 1,\n",
       " 1,\n",
       " 1,\n",
       " 1,\n",
       " 1,\n",
       " 1,\n",
       " 0,\n",
       " 0,\n",
       " 1,\n",
       " 2,\n",
       " 1,\n",
       " 1,\n",
       " 1,\n",
       " 1,\n",
       " 1,\n",
       " 0,\n",
       " 1,\n",
       " 1,\n",
       " 1,\n",
       " 1,\n",
       " 1,\n",
       " 0,\n",
       " 1,\n",
       " 1,\n",
       " 1,\n",
       " 2,\n",
       " 1,\n",
       " 2,\n",
       " 1,\n",
       " 1,\n",
       " 2,\n",
       " 1,\n",
       " 2,\n",
       " 2,\n",
       " 1,\n",
       " 2,\n",
       " 1,\n",
       " 0,\n",
       " 1,\n",
       " 2,\n",
       " 1,\n",
       " 1,\n",
       " 0,\n",
       " 1,\n",
       " 1,\n",
       " 1,\n",
       " 1,\n",
       " 1,\n",
       " 0,\n",
       " 1,\n",
       " 1,\n",
       " 1,\n",
       " 1,\n",
       " 1,\n",
       " 1,\n",
       " 2,\n",
       " 1,\n",
       " 2,\n",
       " 1,\n",
       " 1,\n",
       " 1,\n",
       " 1,\n",
       " 0,\n",
       " 2,\n",
       " 0,\n",
       " 2,\n",
       " 0,\n",
       " 1,\n",
       " 1,\n",
       " 1,\n",
       " 1,\n",
       " 1,\n",
       " 1,\n",
       " 1,\n",
       " 2,\n",
       " 2,\n",
       " 0,\n",
       " 2,\n",
       " 1,\n",
       " 0,\n",
       " 1,\n",
       " 2,\n",
       " 1,\n",
       " 1,\n",
       " 1,\n",
       " 2,\n",
       " 1,\n",
       " 1,\n",
       " 0,\n",
       " 1,\n",
       " 1,\n",
       " 1,\n",
       " 1,\n",
       " 1,\n",
       " 1,\n",
       " 1,\n",
       " 1,\n",
       " 0,\n",
       " 1,\n",
       " 1,\n",
       " 1,\n",
       " 1,\n",
       " 0,\n",
       " 1,\n",
       " 2,\n",
       " 1,\n",
       " 1,\n",
       " 2,\n",
       " 2,\n",
       " 1,\n",
       " 0,\n",
       " 2,\n",
       " 0,\n",
       " 1,\n",
       " 0,\n",
       " 1,\n",
       " 1,\n",
       " 1,\n",
       " 1,\n",
       " 0,\n",
       " 1,\n",
       " 1,\n",
       " 1,\n",
       " 1,\n",
       " 1,\n",
       " 1,\n",
       " 1,\n",
       " 1,\n",
       " 1,\n",
       " 1,\n",
       " 0,\n",
       " 1,\n",
       " 1,\n",
       " 0,\n",
       " 2,\n",
       " 0,\n",
       " 2,\n",
       " 1,\n",
       " 2,\n",
       " 1,\n",
       " 1,\n",
       " 1,\n",
       " 1,\n",
       " 1,\n",
       " 0,\n",
       " 1,\n",
       " 2,\n",
       " 1,\n",
       " 1,\n",
       " 2,\n",
       " 0,\n",
       " 2,\n",
       " 1,\n",
       " 1,\n",
       " 2,\n",
       " 1,\n",
       " 2,\n",
       " 1,\n",
       " 1,\n",
       " 1,\n",
       " 1,\n",
       " 1,\n",
       " 2,\n",
       " 1,\n",
       " 1,\n",
       " 0,\n",
       " 1,\n",
       " 0,\n",
       " 1,\n",
       " 1,\n",
       " 1,\n",
       " 1,\n",
       " 0,\n",
       " 1,\n",
       " 1,\n",
       " 2,\n",
       " 1,\n",
       " 0,\n",
       " 0,\n",
       " 1,\n",
       " 1,\n",
       " 1,\n",
       " 0,\n",
       " 1,\n",
       " 0,\n",
       " 1,\n",
       " 0,\n",
       " 2,\n",
       " 1,\n",
       " 1,\n",
       " 1,\n",
       " 1,\n",
       " 1,\n",
       " 1,\n",
       " 2,\n",
       " 1,\n",
       " 2,\n",
       " 2,\n",
       " 2,\n",
       " 1,\n",
       " 2,\n",
       " 1,\n",
       " 1,\n",
       " 2,\n",
       " 1,\n",
       " 0,\n",
       " 0,\n",
       " 1,\n",
       " 1,\n",
       " 2,\n",
       " 1,\n",
       " 1,\n",
       " 2,\n",
       " 2,\n",
       " 1,\n",
       " 1,\n",
       " 1,\n",
       " 1,\n",
       " 0,\n",
       " 0,\n",
       " 2,\n",
       " 0,\n",
       " 1,\n",
       " 1,\n",
       " 1,\n",
       " 2,\n",
       " 0,\n",
       " 1,\n",
       " 1,\n",
       " 2,\n",
       " 1,\n",
       " 1,\n",
       " 2,\n",
       " 1,\n",
       " 2,\n",
       " 2,\n",
       " 2,\n",
       " 1,\n",
       " 2,\n",
       " 1,\n",
       " 1,\n",
       " 2,\n",
       " 0,\n",
       " 1,\n",
       " 1,\n",
       " 1,\n",
       " 2,\n",
       " 1,\n",
       " 1,\n",
       " 0,\n",
       " 1,\n",
       " 1,\n",
       " 1,\n",
       " 1,\n",
       " 0,\n",
       " 1,\n",
       " 1,\n",
       " 1,\n",
       " 1,\n",
       " 2,\n",
       " 2,\n",
       " 0,\n",
       " 1,\n",
       " 1,\n",
       " 1,\n",
       " 1,\n",
       " 0,\n",
       " 2,\n",
       " 1,\n",
       " 1,\n",
       " 1,\n",
       " 1,\n",
       " 1,\n",
       " 0,\n",
       " 1,\n",
       " 0,\n",
       " 0,\n",
       " 1,\n",
       " 1,\n",
       " 0,\n",
       " 2,\n",
       " 1,\n",
       " 1,\n",
       " 1,\n",
       " 0,\n",
       " 1,\n",
       " 2,\n",
       " 2,\n",
       " 1,\n",
       " 1,\n",
       " 0,\n",
       " 1,\n",
       " 0,\n",
       " 1,\n",
       " 1,\n",
       " 1,\n",
       " 2,\n",
       " 1,\n",
       " 1,\n",
       " 0,\n",
       " 1,\n",
       " 1,\n",
       " 1,\n",
       " 0,\n",
       " 1,\n",
       " 0,\n",
       " 2,\n",
       " 0,\n",
       " 1,\n",
       " 1,\n",
       " 1,\n",
       " 1,\n",
       " 1,\n",
       " 2,\n",
       " 1,\n",
       " 1,\n",
       " 1,\n",
       " 1,\n",
       " 1,\n",
       " 0,\n",
       " 2,\n",
       " 1,\n",
       " 1,\n",
       " 1,\n",
       " 1,\n",
       " 1,\n",
       " 1,\n",
       " 1,\n",
       " 1,\n",
       " 1,\n",
       " 1,\n",
       " 1,\n",
       " 2,\n",
       " 2,\n",
       " 1,\n",
       " 2,\n",
       " 2,\n",
       " 1,\n",
       " 1,\n",
       " 0,\n",
       " 2,\n",
       " 1,\n",
       " 2,\n",
       " 1,\n",
       " 1,\n",
       " 1,\n",
       " 1,\n",
       " 1,\n",
       " 1,\n",
       " 1,\n",
       " 1,\n",
       " 1,\n",
       " 1,\n",
       " 1,\n",
       " 1,\n",
       " 2,\n",
       " 1,\n",
       " 0,\n",
       " 0,\n",
       " 1,\n",
       " 1,\n",
       " 1,\n",
       " 1,\n",
       " 1,\n",
       " 1,\n",
       " 2,\n",
       " 1,\n",
       " 1,\n",
       " 1,\n",
       " 1,\n",
       " 1,\n",
       " 1,\n",
       " 2,\n",
       " 1,\n",
       " 0,\n",
       " 1,\n",
       " 1,\n",
       " 1,\n",
       " 1,\n",
       " 1,\n",
       " 2,\n",
       " 1,\n",
       " 1,\n",
       " 1,\n",
       " 1,\n",
       " 1,\n",
       " 2,\n",
       " 1,\n",
       " 0,\n",
       " 1,\n",
       " 1,\n",
       " 1,\n",
       " 1,\n",
       " 1,\n",
       " 2,\n",
       " 2,\n",
       " 1,\n",
       " 1,\n",
       " 2,\n",
       " 1,\n",
       " 2,\n",
       " 1,\n",
       " 1,\n",
       " 1,\n",
       " 2,\n",
       " 0,\n",
       " 1,\n",
       " 1,\n",
       " 1,\n",
       " 1,\n",
       " 1,\n",
       " 1,\n",
       " 1,\n",
       " 1,\n",
       " 1,\n",
       " 1,\n",
       " 1,\n",
       " 0,\n",
       " 1,\n",
       " 2,\n",
       " 1,\n",
       " 1,\n",
       " 1,\n",
       " 0,\n",
       " 1,\n",
       " 1,\n",
       " 1,\n",
       " 1,\n",
       " 2,\n",
       " 1,\n",
       " 1,\n",
       " 2,\n",
       " 1,\n",
       " 2,\n",
       " 1,\n",
       " 1,\n",
       " 1,\n",
       " 1,\n",
       " 2,\n",
       " 1,\n",
       " 1,\n",
       " 2,\n",
       " 0,\n",
       " 1,\n",
       " 1,\n",
       " 1,\n",
       " 1,\n",
       " 1,\n",
       " 1,\n",
       " 1,\n",
       " 1,\n",
       " 1,\n",
       " 1,\n",
       " 1,\n",
       " 1,\n",
       " 1,\n",
       " 1,\n",
       " 1,\n",
       " 1,\n",
       " 1,\n",
       " 1,\n",
       " 1,\n",
       " 1,\n",
       " 2,\n",
       " 2,\n",
       " 1,\n",
       " 1,\n",
       " 1,\n",
       " 1,\n",
       " 2,\n",
       " 1,\n",
       " 2,\n",
       " 1,\n",
       " 1,\n",
       " 1,\n",
       " 1,\n",
       " 1,\n",
       " 2,\n",
       " 0,\n",
       " 1,\n",
       " 2,\n",
       " 1,\n",
       " 0,\n",
       " 2,\n",
       " 2,\n",
       " 1,\n",
       " 0,\n",
       " 1,\n",
       " 2,\n",
       " 1,\n",
       " 1,\n",
       " 1,\n",
       " 0,\n",
       " 1,\n",
       " 1,\n",
       " 1,\n",
       " 2,\n",
       " 1,\n",
       " 2,\n",
       " 1,\n",
       " 2,\n",
       " 1,\n",
       " 0,\n",
       " 1,\n",
       " 0,\n",
       " 1,\n",
       " 1,\n",
       " 0,\n",
       " 1,\n",
       " 0,\n",
       " 0,\n",
       " 2,\n",
       " 1,\n",
       " 1,\n",
       " 1,\n",
       " 1,\n",
       " 2,\n",
       " 1,\n",
       " 1,\n",
       " 1,\n",
       " 0,\n",
       " 0,\n",
       " 1,\n",
       " 1,\n",
       " 1,\n",
       " 1,\n",
       " 1,\n",
       " 1,\n",
       " 2,\n",
       " 0,\n",
       " 1,\n",
       " 2,\n",
       " 2,\n",
       " 2,\n",
       " 1,\n",
       " 1,\n",
       " 2,\n",
       " 0,\n",
       " 0,\n",
       " 1,\n",
       " 2,\n",
       " 1,\n",
       " 1,\n",
       " 1,\n",
       " 1,\n",
       " 1,\n",
       " 0,\n",
       " 1,\n",
       " 1,\n",
       " 2,\n",
       " 0,\n",
       " 1,\n",
       " 1,\n",
       " 0,\n",
       " 2,\n",
       " 1,\n",
       " 1,\n",
       " 1,\n",
       " 1,\n",
       " 1,\n",
       " 1,\n",
       " 1,\n",
       " 1,\n",
       " 1,\n",
       " 0,\n",
       " 1,\n",
       " 1,\n",
       " 1,\n",
       " 1,\n",
       " 1,\n",
       " 1,\n",
       " 1,\n",
       " 2,\n",
       " 1,\n",
       " 1,\n",
       " 2,\n",
       " 2,\n",
       " 2,\n",
       " 1,\n",
       " 1,\n",
       " 2,\n",
       " 0,\n",
       " 2,\n",
       " 2,\n",
       " 2,\n",
       " 1,\n",
       " 0,\n",
       " 0,\n",
       " 1,\n",
       " 1,\n",
       " 1,\n",
       " 1,\n",
       " 1,\n",
       " 0,\n",
       " 0,\n",
       " 1,\n",
       " 2,\n",
       " 1,\n",
       " 1,\n",
       " 1,\n",
       " 1,\n",
       " 2,\n",
       " 1,\n",
       " 2,\n",
       " 0,\n",
       " 1,\n",
       " 1,\n",
       " 1,\n",
       " 1,\n",
       " 1,\n",
       " 2,\n",
       " 1,\n",
       " 1,\n",
       " 1,\n",
       " 2,\n",
       " 0,\n",
       " 2,\n",
       " 1,\n",
       " 1,\n",
       " 1,\n",
       " 1,\n",
       " 1,\n",
       " 1,\n",
       " 1,\n",
       " 2,\n",
       " 1,\n",
       " 1,\n",
       " 1,\n",
       " 2,\n",
       " 0,\n",
       " 0,\n",
       " 2,\n",
       " 1,\n",
       " 1,\n",
       " 1,\n",
       " 1,\n",
       " 2,\n",
       " 1,\n",
       " 2,\n",
       " 1,\n",
       " 2,\n",
       " 1,\n",
       " 1,\n",
       " 1,\n",
       " 2,\n",
       " 1,\n",
       " 1,\n",
       " 0,\n",
       " 1,\n",
       " 2,\n",
       " 1,\n",
       " 1,\n",
       " 1,\n",
       " 1,\n",
       " 1,\n",
       " 1,\n",
       " 1,\n",
       " 1,\n",
       " 1,\n",
       " 1,\n",
       " 1,\n",
       " 2,\n",
       " 1,\n",
       " 1,\n",
       " 2,\n",
       " 1,\n",
       " 1,\n",
       " 1,\n",
       " 0,\n",
       " 1,\n",
       " 2,\n",
       " 1,\n",
       " 0,\n",
       " 2,\n",
       " 1,\n",
       " 1,\n",
       " 1,\n",
       " 0,\n",
       " 1,\n",
       " 1,\n",
       " 1,\n",
       " 1,\n",
       " 2,\n",
       " 1,\n",
       " 1,\n",
       " 1,\n",
       " 1,\n",
       " 1,\n",
       " 1,\n",
       " 0,\n",
       " 2,\n",
       " 1,\n",
       " 1,\n",
       " 2,\n",
       " 1,\n",
       " 1,\n",
       " 1,\n",
       " 1,\n",
       " 2,\n",
       " 0,\n",
       " 2,\n",
       " 0,\n",
       " 0,\n",
       " 2,\n",
       " 1,\n",
       " 1,\n",
       " 2,\n",
       " 0,\n",
       " 1,\n",
       " 1,\n",
       " 0,\n",
       " 1,\n",
       " 1,\n",
       " 1,\n",
       " 1,\n",
       " 2,\n",
       " 2,\n",
       " 1,\n",
       " 1,\n",
       " 2,\n",
       " 1,\n",
       " 2,\n",
       " 1,\n",
       " 2,\n",
       " 1,\n",
       " 1,\n",
       " 2,\n",
       " 1,\n",
       " 1,\n",
       " ...]"
      ]
     },
     "execution_count": 186,
     "metadata": {},
     "output_type": "execute_result"
    }
   ],
   "source": [
    "import numpy as np\n",
    "y_predict = []\n",
    "for i in predictions:\n",
    "  y_predict.append(np.argmax(i))\n",
    "y_predict"
   ]
  },
  {
   "cell_type": "code",
   "execution_count": 238,
   "metadata": {},
   "outputs": [
    {
     "name": "stdout",
     "output_type": "stream",
     "text": [
      "ROC data has been saved to 'roc_data.npz'\n"
     ]
    }
   ],
   "source": [
    "import numpy as np\n",
    "\n",
    "# 保存为 NumPy 格式文件\n",
    "np.savez('lstm_roc_data.npz', fpr=fpr, tpr=tpr, roc_auc=roc_auc)\n",
    "\n",
    "print(\"ROC data has been saved to 'roc_data.npz'\")"
   ]
  },
  {
   "cell_type": "code",
   "execution_count": 188,
   "metadata": {},
   "outputs": [
    {
     "data": {
      "image/png": "[encoded data removed]",
      "text/plain": [
       "<Figure size 800x600 with 1 Axes>"
      ]
     },
     "metadata": {},
     "output_type": "display_data"
    }
   ],
   "source": [
    "#lstm roc图\n",
    "from sklearn.preprocessing import label_binarize\n",
    "\n",
    "# 将真实标签二值化\n",
    "y_test_binarized = label_binarize(y_test, classes=[0, 1, 2]) \n",
    "n_classes = y_test_binarized.shape[1]  # 类别数\n",
    "from sklearn.metrics import roc_curve, auc\n",
    "\n",
    "# 初始化变量\n",
    "fpr = dict()  # 假正率\n",
    "tpr = dict()  # 真正率\n",
    "roc_auc = dict()  # AUC 值\n",
    "\n",
    "# 计算每个类别的 ROC 曲线和 AUC 值\n",
    "for i in range(n_classes):\n",
    "    fpr[i], tpr[i], _ = roc_curve(y_test_binarized[:, i], y_pred_prob[:, i])\n",
    "    roc_auc[i] = auc(fpr[i], tpr[i])\n",
    "    \n",
    "import matplotlib.pyplot as plt\n",
    "\n",
    "# 绘制 ROC 曲线\n",
    "plt.figure(figsize=(8, 6))\n",
    "colors = ['blue', 'red', 'green']  # 每个类别的颜色\n",
    "class_names = ['Positive', 'Neutral', 'Negative']  # 类别名称\n",
    "\n",
    "for i, color, class_name in zip(range(n_classes), colors, class_names):\n",
    "    plt.plot(fpr[i], tpr[i], color=color, lw=2,\n",
    "             label=f'ROC curve of {class_name} (AUC = {roc_auc[i]:.2f})')\n",
    "\n",
    "# 绘制对角线\n",
    "plt.plot([0, 1], [0, 1], 'k--', lw=2)\n",
    "\n",
    "# 设置图形属性\n",
    "plt.xlim([0.0, 1.0])\n",
    "plt.ylim([0.0, 1.05])\n",
    "plt.xlabel('False Positive Rate')\n",
    "plt.ylabel('True Positive Rate')\n",
    "plt.title('ROC Curve for Multi-Class Classification')\n",
    "plt.legend(loc=\"lower right\")\n",
    "plt.show()"
   ]
  },
  {
   "cell_type": "code",
   "execution_count": 110,
   "metadata": {},
   "outputs": [
    {
     "data": {
      "text/plain": [
       "5729    2\n",
       "5730    2\n",
       "5731    2\n",
       "5732    2\n",
       "5733    0\n",
       "       ..\n",
       "7634    0\n",
       "7635    0\n",
       "7636    0\n",
       "7637    2\n",
       "7638    1\n",
       "Name: Encoded Label, Length: 1910, dtype: int64"
      ]
     },
     "execution_count": 110,
     "metadata": {},
     "output_type": "execute_result"
    }
   ],
   "source": [
    "y_test"
   ]
  },
  {
   "cell_type": "code",
   "execution_count": 112,
   "metadata": {},
   "outputs": [
    {
     "name": "stdout",
     "output_type": "stream",
     "text": [
      "Collecting seaborn\n",
      "  Downloading seaborn-0.13.2-py3-none-any.whl.metadata (5.4 kB)\n",
      "Requirement already satisfied: numpy!=1.24.0,>=1.20 in /opt/anaconda3/lib/python3.12/site-packages (from seaborn) (1.26.4)\n",
      "Requirement already satisfied: pandas>=1.2 in /opt/anaconda3/lib/python3.12/site-packages (from seaborn) (2.2.2)\n",
      "Requirement already satisfied: matplotlib!=3.6.1,>=3.4 in /opt/anaconda3/lib/python3.12/site-packages (from seaborn) (3.10.0)\n",
      "Requirement already satisfied: contourpy>=1.0.1 in /opt/anaconda3/lib/python3.12/site-packages (from matplotlib!=3.6.1,>=3.4->seaborn) (1.2.0)\n",
      "Requirement already satisfied: cycler>=0.10 in /opt/anaconda3/lib/python3.12/site-packages (from matplotlib!=3.6.1,>=3.4->seaborn) (0.12.1)\n",
      "Requirement already satisfied: fonttools>=4.22.0 in /opt/anaconda3/lib/python3.12/site-packages (from matplotlib!=3.6.1,>=3.4->seaborn) (4.55.3)\n",
      "Requirement already satisfied: kiwisolver>=1.3.1 in /opt/anaconda3/lib/python3.12/site-packages (from matplotlib!=3.6.1,>=3.4->seaborn) (1.4.7)\n",
      "Requirement already satisfied: packaging>=20.0 in /opt/anaconda3/lib/python3.12/site-packages (from matplotlib!=3.6.1,>=3.4->seaborn) (23.2)\n",
      "Requirement already satisfied: pillow>=8 in /opt/anaconda3/lib/python3.12/site-packages (from matplotlib!=3.6.1,>=3.4->seaborn) (10.3.0)\n",
      "Requirement already satisfied: pyparsing>=2.3.1 in /opt/anaconda3/lib/python3.12/site-packages (from matplotlib!=3.6.1,>=3.4->seaborn) (3.2.0)\n",
      "Requirement already satisfied: python-dateutil>=2.7 in /opt/anaconda3/lib/python3.12/site-packages (from matplotlib!=3.6.1,>=3.4->seaborn) (2.9.0.post0)\n",
      "Requirement already satisfied: pytz>=2020.1 in /opt/anaconda3/lib/python3.12/site-packages (from pandas>=1.2->seaborn) (2024.1)\n",
      "Requirement already satisfied: tzdata>=2022.7 in /opt/anaconda3/lib/python3.12/site-packages (from pandas>=1.2->seaborn) (2023.3)\n",
      "Requirement already satisfied: six>=1.5 in /opt/anaconda3/lib/python3.12/site-packages (from python-dateutil>=2.7->matplotlib!=3.6.1,>=3.4->seaborn) (1.16.0)\n",
      "Downloading seaborn-0.13.2-py3-none-any.whl (294 kB)\n",
      "\u001B[2K   \u001B[90m━━━━━━━━━━━━━━━━━━━━━━━━━━━━━━━━━━━━━━━━\u001B[0m \u001B[32m294.9/294.9 kB\u001B[0m \u001B[31m1.7 MB/s\u001B[0m eta \u001B[36m0:00:00\u001B[0ma \u001B[36m0:00:01\u001B[0mm\n",
      "\u001B[?25hInstalling collected packages: seaborn\n",
      "Successfully installed seaborn-0.13.2\n"
     ]
    }
   ],
   "source": [
    "import seaborn as sns"
   ]
  },
  {
   "cell_type": "code",
   "execution_count": 218,
   "metadata": {},
   "outputs": [
    {
     "data": {
      "text/plain": [
       "<Axes: >"
      ]
     },
     "execution_count": 218,
     "metadata": {},
     "output_type": "execute_result"
    },
    {
     "data": {
      "image/png": "[encoded data removed]",
      "text/plain": [
       "<Figure size 640x480 with 2 Axes>"
      ]
     },
     "metadata": {},
     "output_type": "display_data"
    }
   ],
   "source": [
    "from sklearn.metrics import confusion_matrix\n",
    "cm = confusion_matrix(y_test, y_predict)\n",
    "sns.heatmap(cm, fmt = 'd', annot = True)"
   ]
  },
  {
   "cell_type": "code",
   "execution_count": 258,
   "metadata": {},
   "outputs": [
    {
     "data": {
      "image/png": "[encoded data removed]",
      "text/plain": [
       "<Figure size 800x600 with 2 Axes>"
      ]
     },
     "metadata": {},
     "output_type": "display_data"
    }
   ],
   "source": [
    "plt.figure(figsize=(8, 6))\n",
    "sns.heatmap(cm, annot=True, fmt='d',\n",
    "            xticklabels=[\"Positive\", \"Negative\", \"Neutral\"],\n",
    "            yticklabels=[\"Positive\", \"Negative\", \"Neutral\"])\n",
    "\n",
    "plt.title(\"\")\n",
    "plt.xlabel(\"Predicted Label\")\n",
    "plt.ylabel(\"True Label\")\n",
    "plt.show()"
   ]
  },
  {
   "cell_type": "code",
   "execution_count": 138,
   "metadata": {},
   "outputs": [
    {
     "data": {
      "image/png": "[encoded data removed]",
      "text/plain": [
       "<Figure size 800x600 with 2 Axes>"
      ]
     },
     "metadata": {},
     "output_type": "display_data"
    }
   ],
   "source": [
    "#lstm混淆矩阵\n",
    "confusion_matrix = np.array([\n",
    "    [166, 82, 90],  # 第一行：实际为 Positive（0）的分类结果\n",
    "    [122, 1299, 90],  # 第二行：实际为 Negative（1）的分类结果\n",
    "    [37, 165, 294]    # 第三行：实际为 Neutral（2）的分类结果\n",
    "])\n",
    "labels = ['Positive', 'Neutral', 'Negative']\n",
    "plt.figure(figsize=(8, 6))\n",
    "sns.heatmap(confusion_matrix, annot=True, fmt='d', xticklabels=labels, yticklabels=labels)\n",
    "plt.title('')\n",
    "plt.xlabel('Predicted Labels')\n",
    "plt.ylabel('Actual Labels')\n",
    "plt.show()"
   ]
  },
  {
   "cell_type": "code",
   "execution_count": 223,
   "metadata": {},
   "outputs": [
    {
     "name": "stdout",
     "output_type": "stream",
     "text": [
      "              precision    recall  f1-score   support\n",
      "\n",
      "           0       0.51      0.49      0.50       277\n",
      "           1       0.84      0.86      0.85      1238\n",
      "           2       0.64      0.61      0.63       395\n",
      "\n",
      "    accuracy                           0.75      1910\n",
      "   macro avg       0.66      0.65      0.66      1910\n",
      "weighted avg       0.75      0.75      0.75      1910\n",
      "\n"
     ]
    }
   ],
   "source": [
    "from sklearn.metrics import classification_report\n",
    "print(classification_report(y_test, y_predict))"
   ]
  },
  {
   "cell_type": "code",
   "execution_count": null,
   "metadata": {},
   "outputs": [],
   "source": []
  },
  {
   "cell_type": "code",
   "execution_count": 168,
   "metadata": {},
   "outputs": [
    {
     "name": "stderr",
     "output_type": "stream",
     "text": [
      "Hardware accelerator e.g. GPU is available in the environment, but no `device` argument is passed to the `Pipeline` object. Model will be on CPU.\n"
     ]
    }
   ],
   "source": [
    "from transformers import AutoTokenizer, pipeline\n",
    "tokenizer = AutoTokenizer.from_pretrained(\"ProsusAI/finbert\")\n",
    "sentiment_pipeline = pipeline(\"sentiment-analysis\", model = \"ProsusAI/finbert\", tokenizer = tokenizer)"
   ]
  },
  {
   "cell_type": "code",
   "execution_count": 166,
   "metadata": {
    "scrolled": true
   },
   "outputs": [
    {
     "data": {
      "text/html": [
       "<div>\n",
       "<style scoped>\n",
       "    .dataframe tbody tr th:only-of-type {\n",
       "        vertical-align: middle;\n",
       "    }\n",
       "\n",
       "    .dataframe tbody tr th {\n",
       "        vertical-align: top;\n",
       "    }\n",
       "\n",
       "    .dataframe thead th {\n",
       "        text-align: right;\n",
       "    }\n",
       "</style>\n",
       "<table border=\"1\" class=\"dataframe\">\n",
       "  <thead>\n",
       "    <tr style=\"text-align: right;\">\n",
       "      <th></th>\n",
       "      <th>Text</th>\n",
       "      <th>Label</th>\n",
       "      <th>Cleaned Text</th>\n",
       "      <th>Encoded Text</th>\n",
       "      <th>Encoded Label</th>\n",
       "    </tr>\n",
       "  </thead>\n",
       "  <tbody>\n",
       "    <tr>\n",
       "      <th>0</th>\n",
       "      <td>Amazon to create 500 new jobs in Mississippi a...</td>\n",
       "      <td>2</td>\n",
       "      <td>amazon create 500 new jobs mississippi builds ...</td>\n",
       "      <td>[101, 9733, 3443, 3156, 2047, 5841, 5900, 1647...</td>\n",
       "      <td>positive</td>\n",
       "    </tr>\n",
       "    <tr>\n",
       "      <th>1</th>\n",
       "      <td>GE's stock rises 1% premarket, set to trade ab...</td>\n",
       "      <td>2</td>\n",
       "      <td>ges stock rises 1 premarket set trade 13 1st t...</td>\n",
       "      <td>[101, 16216, 2015, 4518, 9466, 1015, 26563, 17...</td>\n",
       "      <td>positive</td>\n",
       "    </tr>\n",
       "    <tr>\n",
       "      <th>2</th>\n",
       "      <td>CN Rail Strike Begins, Threatening Canada Oil,...</td>\n",
       "      <td>0</td>\n",
       "      <td>cn rail strike begins threatening canada oil g...</td>\n",
       "      <td>[101, 27166, 4334, 4894, 4269, 8701, 2710, 351...</td>\n",
       "      <td>negative</td>\n",
       "    </tr>\n",
       "    <tr>\n",
       "      <th>3</th>\n",
       "      <td>Hong Kong Airlines to cut 400 jobs, ask employ...</td>\n",
       "      <td>0</td>\n",
       "      <td>hong kong airlines cut 400 jobs ask employees ...</td>\n",
       "      <td>[101, 4291, 4290, 7608, 3013, 4278, 5841, 3198...</td>\n",
       "      <td>negative</td>\n",
       "    </tr>\n",
       "    <tr>\n",
       "      <th>4</th>\n",
       "      <td>3 Top-Performing Mutual Funds to Consider for ...</td>\n",
       "      <td>1</td>\n",
       "      <td>3 topperforming mutual funds consider retireme...</td>\n",
       "      <td>[101, 1017, 2327, 4842, 14192, 2075, 8203, 502...</td>\n",
       "      <td>neutral</td>\n",
       "    </tr>\n",
       "    <tr>\n",
       "      <th>...</th>\n",
       "      <td>...</td>\n",
       "      <td>...</td>\n",
       "      <td>...</td>\n",
       "      <td>...</td>\n",
       "      <td>...</td>\n",
       "    </tr>\n",
       "    <tr>\n",
       "      <th>11651</th>\n",
       "      <td>A record 449,553 Illinois residents sign up fo...</td>\n",
       "      <td>1</td>\n",
       "      <td>record 449553 illinois residents sign affordab...</td>\n",
       "      <td>[101, 2501, 4008, 2683, 24087, 2509, 4307, 390...</td>\n",
       "      <td>neutral</td>\n",
       "    </tr>\n",
       "    <tr>\n",
       "      <th>11652</th>\n",
       "      <td>The Los Angeles Fires Will Put California’s Ne...</td>\n",
       "      <td>1</td>\n",
       "      <td>los angeles fires put californias new insuranc...</td>\n",
       "      <td>[101, 3050, 3349, 8769, 2404, 2662, 2015, 2047...</td>\n",
       "      <td>neutral</td>\n",
       "    </tr>\n",
       "    <tr>\n",
       "      <th>11653</th>\n",
       "      <td>NexPoint Real Estate Finance, Inc. Enters into...</td>\n",
       "      <td>1</td>\n",
       "      <td>nexpoint real estate finance inc enters assign...</td>\n",
       "      <td>[101, 11265, 2595, 8400, 2613, 3776, 5446, 429...</td>\n",
       "      <td>neutral</td>\n",
       "    </tr>\n",
       "    <tr>\n",
       "      <th>11654</th>\n",
       "      <td>AO Buzzard Agency Introduces Financial Service...</td>\n",
       "      <td>1</td>\n",
       "      <td>ao buzzard agency introduces financial service...</td>\n",
       "      <td>[101, 20118, 12610, 4232, 4034, 13999, 3361, 2...</td>\n",
       "      <td>neutral</td>\n",
       "    </tr>\n",
       "    <tr>\n",
       "      <th>11655</th>\n",
       "      <td>Pacific Palisades wildfires may spell an end t...</td>\n",
       "      <td>1</td>\n",
       "      <td>pacific palisades wildfires may spell end chea...</td>\n",
       "      <td>[101, 3534, 28619, 3736, 6155, 3748, 26332, 20...</td>\n",
       "      <td>neutral</td>\n",
       "    </tr>\n",
       "  </tbody>\n",
       "</table>\n",
       "<p>11656 rows × 5 columns</p>\n",
       "</div>"
      ],
      "text/plain": [
       "                                                    Text  Label  \\\n",
       "0      Amazon to create 500 new jobs in Mississippi a...      2   \n",
       "1      GE's stock rises 1% premarket, set to trade ab...      2   \n",
       "2      CN Rail Strike Begins, Threatening Canada Oil,...      0   \n",
       "3      Hong Kong Airlines to cut 400 jobs, ask employ...      0   \n",
       "4      3 Top-Performing Mutual Funds to Consider for ...      1   \n",
       "...                                                  ...    ...   \n",
       "11651  A record 449,553 Illinois residents sign up fo...      1   \n",
       "11652  The Los Angeles Fires Will Put California’s Ne...      1   \n",
       "11653  NexPoint Real Estate Finance, Inc. Enters into...      1   \n",
       "11654  AO Buzzard Agency Introduces Financial Service...      1   \n",
       "11655  Pacific Palisades wildfires may spell an end t...      1   \n",
       "\n",
       "                                            Cleaned Text  \\\n",
       "0      amazon create 500 new jobs mississippi builds ...   \n",
       "1      ges stock rises 1 premarket set trade 13 1st t...   \n",
       "2      cn rail strike begins threatening canada oil g...   \n",
       "3      hong kong airlines cut 400 jobs ask employees ...   \n",
       "4      3 topperforming mutual funds consider retireme...   \n",
       "...                                                  ...   \n",
       "11651  record 449553 illinois residents sign affordab...   \n",
       "11652  los angeles fires put californias new insuranc...   \n",
       "11653  nexpoint real estate finance inc enters assign...   \n",
       "11654  ao buzzard agency introduces financial service...   \n",
       "11655  pacific palisades wildfires may spell end chea...   \n",
       "\n",
       "                                            Encoded Text Encoded Label  \n",
       "0      [101, 9733, 3443, 3156, 2047, 5841, 5900, 1647...      positive  \n",
       "1      [101, 16216, 2015, 4518, 9466, 1015, 26563, 17...      positive  \n",
       "2      [101, 27166, 4334, 4894, 4269, 8701, 2710, 351...      negative  \n",
       "3      [101, 4291, 4290, 7608, 3013, 4278, 5841, 3198...      negative  \n",
       "4      [101, 1017, 2327, 4842, 14192, 2075, 8203, 502...       neutral  \n",
       "...                                                  ...           ...  \n",
       "11651  [101, 2501, 4008, 2683, 24087, 2509, 4307, 390...       neutral  \n",
       "11652  [101, 3050, 3349, 8769, 2404, 2662, 2015, 2047...       neutral  \n",
       "11653  [101, 11265, 2595, 8400, 2613, 3776, 5446, 429...       neutral  \n",
       "11654  [101, 20118, 12610, 4232, 4034, 13999, 3361, 2...       neutral  \n",
       "11655  [101, 3534, 28619, 3736, 6155, 3748, 26332, 20...       neutral  \n",
       "\n",
       "[11656 rows x 5 columns]"
      ]
     },
     "execution_count": 166,
     "metadata": {},
     "output_type": "execute_result"
    }
   ],
   "source": [
    "df"
   ]
  },
  {
   "cell_type": "code",
   "execution_count": 170,
   "metadata": {},
   "outputs": [
    {
     "data": {
      "text/plain": [
       "[{'label': 'positive', 'score': 0.8323641419410706}]"
      ]
     },
     "execution_count": 170,
     "metadata": {},
     "output_type": "execute_result"
    }
   ],
   "source": [
    "sentiment_pipeline(df['Text'].tolist()[0])"
   ]
  },
  {
   "cell_type": "code",
   "execution_count": 66,
   "metadata": {},
   "outputs": [],
   "source": [
    "y = df['Label'] "
   ]
  },
  {
   "cell_type": "code",
   "execution_count": 68,
   "metadata": {},
   "outputs": [],
   "source": [
    "from sklearn.model_selection import train_test_split\n",
    "X_train, X_test, y_train, y_test = train_test_split(X, y, test_size = 0.4, shuffle = False)\n",
    "X_test, X_val, y_test, y_val = train_test_split(X_test, y_test, test_size = 0.5, shuffle = False)"
   ]
  },
  {
   "cell_type": "code",
   "execution_count": 87,
   "metadata": {},
   "outputs": [
    {
     "data": {
      "text/plain": [
       "(6993, 61)"
      ]
     },
     "execution_count": 87,
     "metadata": {},
     "output_type": "execute_result"
    }
   ],
   "source": [
    "X_train.shape"
   ]
  },
  {
   "cell_type": "code",
   "execution_count": 81,
   "metadata": {},
   "outputs": [
    {
     "data": {
      "text/html": [
       "<div>\n",
       "<style scoped>\n",
       "    .dataframe tbody tr th:only-of-type {\n",
       "        vertical-align: middle;\n",
       "    }\n",
       "\n",
       "    .dataframe tbody tr th {\n",
       "        vertical-align: top;\n",
       "    }\n",
       "\n",
       "    .dataframe thead th {\n",
       "        text-align: right;\n",
       "    }\n",
       "</style>\n",
       "<table border=\"1\" class=\"dataframe\">\n",
       "  <thead>\n",
       "    <tr style=\"text-align: right;\">\n",
       "      <th></th>\n",
       "      <th>Text</th>\n",
       "      <th>Label</th>\n",
       "      <th>Cleaned Text</th>\n",
       "      <th>Encoded Text</th>\n",
       "    </tr>\n",
       "  </thead>\n",
       "  <tbody>\n",
       "    <tr>\n",
       "      <th>9325</th>\n",
       "      <td>$INPX is gaining some great momentum and volum...</td>\n",
       "      <td>2</td>\n",
       "      <td>inpx gaining great momentum volume last tradin...</td>\n",
       "      <td>[101, 1999, 2361, 2595, 8550, 2307, 11071, 387...</td>\n",
       "    </tr>\n",
       "    <tr>\n",
       "      <th>9326</th>\n",
       "      <td>Molina Healthcare stock price target raised to...</td>\n",
       "      <td>2</td>\n",
       "      <td>molina healthcare stock price target raised 16...</td>\n",
       "      <td>[101, 25601, 9871, 4518, 3976, 4539, 2992, 139...</td>\n",
       "    </tr>\n",
       "    <tr>\n",
       "      <th>9327</th>\n",
       "      <td>What Is Investors Real Estate Trust's (NYSE:IR...</td>\n",
       "      <td>1</td>\n",
       "      <td>investors real estate trusts nyseiret share price</td>\n",
       "      <td>[101, 9387, 2613, 3776, 20278, 6396, 20240, 13...</td>\n",
       "    </tr>\n",
       "    <tr>\n",
       "      <th>9328</th>\n",
       "      <td>Edited Transcript of EROS earnings conference ...</td>\n",
       "      <td>1</td>\n",
       "      <td>edited transcript eros earnings conference cal...</td>\n",
       "      <td>[101, 5493, 24051, 9413, 2891, 16565, 3034, 26...</td>\n",
       "    </tr>\n",
       "    <tr>\n",
       "      <th>9329</th>\n",
       "      <td>Stock-index futures pare gains after report of...</td>\n",
       "      <td>0</td>\n",
       "      <td>stockindex futures pare gains report china con...</td>\n",
       "      <td>[101, 4518, 22254, 10288, 17795, 11968, 2063, ...</td>\n",
       "    </tr>\n",
       "    <tr>\n",
       "      <th>...</th>\n",
       "      <td>...</td>\n",
       "      <td>...</td>\n",
       "      <td>...</td>\n",
       "      <td>...</td>\n",
       "    </tr>\n",
       "    <tr>\n",
       "      <th>11651</th>\n",
       "      <td>A record 449,553 Illinois residents sign up fo...</td>\n",
       "      <td>1</td>\n",
       "      <td>record 449553 illinois residents sign affordab...</td>\n",
       "      <td>[101, 2501, 4008, 2683, 24087, 2509, 4307, 390...</td>\n",
       "    </tr>\n",
       "    <tr>\n",
       "      <th>11652</th>\n",
       "      <td>The Los Angeles Fires Will Put California’s Ne...</td>\n",
       "      <td>1</td>\n",
       "      <td>los angeles fires put californias new insuranc...</td>\n",
       "      <td>[101, 3050, 3349, 8769, 2404, 2662, 2015, 2047...</td>\n",
       "    </tr>\n",
       "    <tr>\n",
       "      <th>11653</th>\n",
       "      <td>NexPoint Real Estate Finance, Inc. Enters into...</td>\n",
       "      <td>1</td>\n",
       "      <td>nexpoint real estate finance inc enters assign...</td>\n",
       "      <td>[101, 11265, 2595, 8400, 2613, 3776, 5446, 429...</td>\n",
       "    </tr>\n",
       "    <tr>\n",
       "      <th>11654</th>\n",
       "      <td>AO Buzzard Agency Introduces Financial Service...</td>\n",
       "      <td>1</td>\n",
       "      <td>ao buzzard agency introduces financial service...</td>\n",
       "      <td>[101, 20118, 12610, 4232, 4034, 13999, 3361, 2...</td>\n",
       "    </tr>\n",
       "    <tr>\n",
       "      <th>11655</th>\n",
       "      <td>Pacific Palisades wildfires may spell an end t...</td>\n",
       "      <td>1</td>\n",
       "      <td>pacific palisades wildfires may spell end chea...</td>\n",
       "      <td>[101, 3534, 28619, 3736, 6155, 3748, 26332, 20...</td>\n",
       "    </tr>\n",
       "  </tbody>\n",
       "</table>\n",
       "<p>2331 rows × 4 columns</p>\n",
       "</div>"
      ],
      "text/plain": [
       "                                                    Text  Label  \\\n",
       "9325   $INPX is gaining some great momentum and volum...      2   \n",
       "9326   Molina Healthcare stock price target raised to...      2   \n",
       "9327   What Is Investors Real Estate Trust's (NYSE:IR...      1   \n",
       "9328   Edited Transcript of EROS earnings conference ...      1   \n",
       "9329   Stock-index futures pare gains after report of...      0   \n",
       "...                                                  ...    ...   \n",
       "11651  A record 449,553 Illinois residents sign up fo...      1   \n",
       "11652  The Los Angeles Fires Will Put California’s Ne...      1   \n",
       "11653  NexPoint Real Estate Finance, Inc. Enters into...      1   \n",
       "11654  AO Buzzard Agency Introduces Financial Service...      1   \n",
       "11655  Pacific Palisades wildfires may spell an end t...      1   \n",
       "\n",
       "                                            Cleaned Text  \\\n",
       "9325   inpx gaining great momentum volume last tradin...   \n",
       "9326   molina healthcare stock price target raised 16...   \n",
       "9327   investors real estate trusts nyseiret share price   \n",
       "9328   edited transcript eros earnings conference cal...   \n",
       "9329   stockindex futures pare gains report china con...   \n",
       "...                                                  ...   \n",
       "11651  record 449553 illinois residents sign affordab...   \n",
       "11652  los angeles fires put californias new insuranc...   \n",
       "11653  nexpoint real estate finance inc enters assign...   \n",
       "11654  ao buzzard agency introduces financial service...   \n",
       "11655  pacific palisades wildfires may spell end chea...   \n",
       "\n",
       "                                            Encoded Text  \n",
       "9325   [101, 1999, 2361, 2595, 8550, 2307, 11071, 387...  \n",
       "9326   [101, 25601, 9871, 4518, 3976, 4539, 2992, 139...  \n",
       "9327   [101, 9387, 2613, 3776, 20278, 6396, 20240, 13...  \n",
       "9328   [101, 5493, 24051, 9413, 2891, 16565, 3034, 26...  \n",
       "9329   [101, 4518, 22254, 10288, 17795, 11968, 2063, ...  \n",
       "...                                                  ...  \n",
       "11651  [101, 2501, 4008, 2683, 24087, 2509, 4307, 390...  \n",
       "11652  [101, 3050, 3349, 8769, 2404, 2662, 2015, 2047...  \n",
       "11653  [101, 11265, 2595, 8400, 2613, 3776, 5446, 429...  \n",
       "11654  [101, 20118, 12610, 4232, 4034, 13999, 3361, 2...  \n",
       "11655  [101, 3534, 28619, 3736, 6155, 3748, 26332, 20...  \n",
       "\n",
       "[2331 rows x 4 columns]"
      ]
     },
     "execution_count": 81,
     "metadata": {},
     "output_type": "execute_result"
    }
   ],
   "source": [
    "test_df = df[X_train.shape[0] + X_val.shape[0]:].copy()\n",
    "test_df"
   ]
  },
  {
   "cell_type": "code",
   "execution_count": 267,
   "metadata": {},
   "outputs": [
    {
     "name": "stdout",
     "output_type": "stream",
     "text": [
      "每个样本概率之和（应接近 1）：\n",
      "[1. 1. 1. 1. 1. 1. 1. 1. 1. 1.]\n"
     ]
    }
   ],
   "source": [
    "print(\"每个样本概率之和（应接近 1）：\")\n",
    "print(y_prob.sum(axis=1)[:10])"
   ]
  },
  {
   "cell_type": "code",
   "execution_count": 83,
   "metadata": {},
   "outputs": [
    {
     "name": "stdout",
     "output_type": "stream",
     "text": [
      "类别分布统计：\n",
      "Label\n",
      "1    2033\n",
      "2     156\n",
      "0     142\n",
      "Name: count, dtype: int64\n"
     ]
    }
   ],
   "source": [
    "print(\"类别分布统计：\")\n",
    "print(test_df['Label'].value_counts())"
   ]
  },
  {
   "cell_type": "code",
   "execution_count": 271,
   "metadata": {},
   "outputs": [
    {
     "name": "stdout",
     "output_type": "stream",
     "text": [
      "真实标签示例: 7639    0\n",
      "7640    2\n",
      "7641    2\n",
      "7642    0\n",
      "7643    2\n",
      "Name: Label, dtype: int64\n",
      "预测概率示例: [[1. 0. 0.]\n",
      " [0. 1. 0.]\n",
      " [0. 0. 1.]\n",
      " [1. 0. 0.]\n",
      " [0. 0. 1.]]\n"
     ]
    }
   ],
   "source": [
    "print(\"真实标签示例:\", y_true[:5])\n",
    "print(\"预测概率示例:\", y_prob[:5])"
   ]
  },
  {
   "cell_type": "code",
   "execution_count": 225,
   "metadata": {},
   "outputs": [
    {
     "name": "stdout",
     "output_type": "stream",
     "text": [
      "[{'label': 'positive', 'score': 0.6763842701911926}]\n"
     ]
    }
   ],
   "source": [
    "sample_text = test_df['Text'].iloc[0]\n",
    "print(sentiment_pipeline(sample_text))"
   ]
  },
  {
   "cell_type": "code",
   "execution_count": 144,
   "metadata": {
    "scrolled": true
   },
   "outputs": [
    {
     "data": {
      "text/html": [
       "<div>\n",
       "<style scoped>\n",
       "    .dataframe tbody tr th:only-of-type {\n",
       "        vertical-align: middle;\n",
       "    }\n",
       "\n",
       "    .dataframe tbody tr th {\n",
       "        vertical-align: top;\n",
       "    }\n",
       "\n",
       "    .dataframe thead th {\n",
       "        text-align: right;\n",
       "    }\n",
       "</style>\n",
       "<table border=\"1\" class=\"dataframe\">\n",
       "  <thead>\n",
       "    <tr style=\"text-align: right;\">\n",
       "      <th></th>\n",
       "      <th>Text</th>\n",
       "      <th>Label</th>\n",
       "      <th>Cleaned Text</th>\n",
       "      <th>Encoded Text</th>\n",
       "      <th>pretrained_model_prediction</th>\n",
       "      <th>Encoded Label</th>\n",
       "    </tr>\n",
       "  </thead>\n",
       "  <tbody>\n",
       "    <tr>\n",
       "      <th>9325</th>\n",
       "      <td>$INPX is gaining some great momentum and volum...</td>\n",
       "      <td>2</td>\n",
       "      <td>inpx gaining great momentum volume last tradin...</td>\n",
       "      <td>[101, 1999, 2361, 2595, 8550, 2307, 11071, 387...</td>\n",
       "      <td>positive</td>\n",
       "      <td>positive</td>\n",
       "    </tr>\n",
       "    <tr>\n",
       "      <th>9326</th>\n",
       "      <td>Molina Healthcare stock price target raised to...</td>\n",
       "      <td>2</td>\n",
       "      <td>molina healthcare stock price target raised 16...</td>\n",
       "      <td>[101, 25601, 9871, 4518, 3976, 4539, 2992, 139...</td>\n",
       "      <td>positive</td>\n",
       "      <td>positive</td>\n",
       "    </tr>\n",
       "    <tr>\n",
       "      <th>9327</th>\n",
       "      <td>What Is Investors Real Estate Trust's (NYSE:IR...</td>\n",
       "      <td>1</td>\n",
       "      <td>investors real estate trusts nyseiret share price</td>\n",
       "      <td>[101, 9387, 2613, 3776, 20278, 6396, 20240, 13...</td>\n",
       "      <td>neutral</td>\n",
       "      <td>neutral</td>\n",
       "    </tr>\n",
       "    <tr>\n",
       "      <th>9328</th>\n",
       "      <td>Edited Transcript of EROS earnings conference ...</td>\n",
       "      <td>1</td>\n",
       "      <td>edited transcript eros earnings conference cal...</td>\n",
       "      <td>[101, 5493, 24051, 9413, 2891, 16565, 3034, 26...</td>\n",
       "      <td>neutral</td>\n",
       "      <td>neutral</td>\n",
       "    </tr>\n",
       "    <tr>\n",
       "      <th>9329</th>\n",
       "      <td>Stock-index futures pare gains after report of...</td>\n",
       "      <td>0</td>\n",
       "      <td>stockindex futures pare gains report china con...</td>\n",
       "      <td>[101, 4518, 22254, 10288, 17795, 11968, 2063, ...</td>\n",
       "      <td>negative</td>\n",
       "      <td>negative</td>\n",
       "    </tr>\n",
       "    <tr>\n",
       "      <th>...</th>\n",
       "      <td>...</td>\n",
       "      <td>...</td>\n",
       "      <td>...</td>\n",
       "      <td>...</td>\n",
       "      <td>...</td>\n",
       "      <td>...</td>\n",
       "    </tr>\n",
       "    <tr>\n",
       "      <th>11651</th>\n",
       "      <td>A record 449,553 Illinois residents sign up fo...</td>\n",
       "      <td>1</td>\n",
       "      <td>record 449553 illinois residents sign affordab...</td>\n",
       "      <td>[101, 2501, 4008, 2683, 24087, 2509, 4307, 390...</td>\n",
       "      <td>positive</td>\n",
       "      <td>neutral</td>\n",
       "    </tr>\n",
       "    <tr>\n",
       "      <th>11652</th>\n",
       "      <td>The Los Angeles Fires Will Put California’s Ne...</td>\n",
       "      <td>1</td>\n",
       "      <td>los angeles fires put californias new insuranc...</td>\n",
       "      <td>[101, 3050, 3349, 8769, 2404, 2662, 2015, 2047...</td>\n",
       "      <td>neutral</td>\n",
       "      <td>neutral</td>\n",
       "    </tr>\n",
       "    <tr>\n",
       "      <th>11653</th>\n",
       "      <td>NexPoint Real Estate Finance, Inc. Enters into...</td>\n",
       "      <td>1</td>\n",
       "      <td>nexpoint real estate finance inc enters assign...</td>\n",
       "      <td>[101, 11265, 2595, 8400, 2613, 3776, 5446, 429...</td>\n",
       "      <td>positive</td>\n",
       "      <td>neutral</td>\n",
       "    </tr>\n",
       "    <tr>\n",
       "      <th>11654</th>\n",
       "      <td>AO Buzzard Agency Introduces Financial Service...</td>\n",
       "      <td>1</td>\n",
       "      <td>ao buzzard agency introduces financial service...</td>\n",
       "      <td>[101, 20118, 12610, 4232, 4034, 13999, 3361, 2...</td>\n",
       "      <td>neutral</td>\n",
       "      <td>neutral</td>\n",
       "    </tr>\n",
       "    <tr>\n",
       "      <th>11655</th>\n",
       "      <td>Pacific Palisades wildfires may spell an end t...</td>\n",
       "      <td>1</td>\n",
       "      <td>pacific palisades wildfires may spell end chea...</td>\n",
       "      <td>[101, 3534, 28619, 3736, 6155, 3748, 26332, 20...</td>\n",
       "      <td>negative</td>\n",
       "      <td>neutral</td>\n",
       "    </tr>\n",
       "  </tbody>\n",
       "</table>\n",
       "<p>2331 rows × 6 columns</p>\n",
       "</div>"
      ],
      "text/plain": [
       "                                                    Text  Label  \\\n",
       "9325   $INPX is gaining some great momentum and volum...      2   \n",
       "9326   Molina Healthcare stock price target raised to...      2   \n",
       "9327   What Is Investors Real Estate Trust's (NYSE:IR...      1   \n",
       "9328   Edited Transcript of EROS earnings conference ...      1   \n",
       "9329   Stock-index futures pare gains after report of...      0   \n",
       "...                                                  ...    ...   \n",
       "11651  A record 449,553 Illinois residents sign up fo...      1   \n",
       "11652  The Los Angeles Fires Will Put California’s Ne...      1   \n",
       "11653  NexPoint Real Estate Finance, Inc. Enters into...      1   \n",
       "11654  AO Buzzard Agency Introduces Financial Service...      1   \n",
       "11655  Pacific Palisades wildfires may spell an end t...      1   \n",
       "\n",
       "                                            Cleaned Text  \\\n",
       "9325   inpx gaining great momentum volume last tradin...   \n",
       "9326   molina healthcare stock price target raised 16...   \n",
       "9327   investors real estate trusts nyseiret share price   \n",
       "9328   edited transcript eros earnings conference cal...   \n",
       "9329   stockindex futures pare gains report china con...   \n",
       "...                                                  ...   \n",
       "11651  record 449553 illinois residents sign affordab...   \n",
       "11652  los angeles fires put californias new insuranc...   \n",
       "11653  nexpoint real estate finance inc enters assign...   \n",
       "11654  ao buzzard agency introduces financial service...   \n",
       "11655  pacific palisades wildfires may spell end chea...   \n",
       "\n",
       "                                            Encoded Text  \\\n",
       "9325   [101, 1999, 2361, 2595, 8550, 2307, 11071, 387...   \n",
       "9326   [101, 25601, 9871, 4518, 3976, 4539, 2992, 139...   \n",
       "9327   [101, 9387, 2613, 3776, 20278, 6396, 20240, 13...   \n",
       "9328   [101, 5493, 24051, 9413, 2891, 16565, 3034, 26...   \n",
       "9329   [101, 4518, 22254, 10288, 17795, 11968, 2063, ...   \n",
       "...                                                  ...   \n",
       "11651  [101, 2501, 4008, 2683, 24087, 2509, 4307, 390...   \n",
       "11652  [101, 3050, 3349, 8769, 2404, 2662, 2015, 2047...   \n",
       "11653  [101, 11265, 2595, 8400, 2613, 3776, 5446, 429...   \n",
       "11654  [101, 20118, 12610, 4232, 4034, 13999, 3361, 2...   \n",
       "11655  [101, 3534, 28619, 3736, 6155, 3748, 26332, 20...   \n",
       "\n",
       "      pretrained_model_prediction Encoded Label  \n",
       "9325                     positive      positive  \n",
       "9326                     positive      positive  \n",
       "9327                      neutral       neutral  \n",
       "9328                      neutral       neutral  \n",
       "9329                     negative      negative  \n",
       "...                           ...           ...  \n",
       "11651                    positive       neutral  \n",
       "11652                     neutral       neutral  \n",
       "11653                    positive       neutral  \n",
       "11654                     neutral       neutral  \n",
       "11655                    negative       neutral  \n",
       "\n",
       "[2331 rows x 6 columns]"
      ]
     },
     "execution_count": 144,
     "metadata": {},
     "output_type": "execute_result"
    }
   ],
   "source": [
    "test_df"
   ]
  },
  {
   "cell_type": "code",
   "execution_count": 146,
   "metadata": {},
   "outputs": [],
   "source": [
    "# Let's generate sentiment using the testing text news dataset\n",
    "test_df['pretrained_model_prediction'] = test_df['Text'].apply(lambda x: sentiment_pipeline(x)[0]['label'])"
   ]
  },
  {
   "cell_type": "code",
   "execution_count": 107,
   "metadata": {},
   "outputs": [],
   "source": [
    "pd.set_option('future.no_silent_downcasting', True)\n",
    "test_df['Encoded Label'] = df['Label'].replace(0, 'negative').replace(1, 'neutral').replace(2, 'positive')"
   ]
  },
  {
   "cell_type": "code",
   "execution_count": 111,
   "metadata": {},
   "outputs": [
    {
     "name": "stdout",
     "output_type": "stream",
     "text": [
      "Test Accuracy: 72.50%\n"
     ]
    }
   ],
   "source": [
    "from sklearn.metrics import accuracy_score\n",
    "print(\"Test Accuracy: {:.2f}%\".format(accuracy_score(test_df['Encoded Label'], test_df['pretrained_model_prediction']) * 100))"
   ]
  },
  {
   "cell_type": "code",
   "execution_count": 150,
   "metadata": {},
   "outputs": [
    {
     "data": {
      "text/html": [
       "<div>\n",
       "<style scoped>\n",
       "    .dataframe tbody tr th:only-of-type {\n",
       "        vertical-align: middle;\n",
       "    }\n",
       "\n",
       "    .dataframe tbody tr th {\n",
       "        vertical-align: top;\n",
       "    }\n",
       "\n",
       "    .dataframe thead th {\n",
       "        text-align: right;\n",
       "    }\n",
       "</style>\n",
       "<table border=\"1\" class=\"dataframe\">\n",
       "  <thead>\n",
       "    <tr style=\"text-align: right;\">\n",
       "      <th></th>\n",
       "      <th>Text</th>\n",
       "      <th>Label</th>\n",
       "      <th>Cleaned Text</th>\n",
       "      <th>Encoded Text</th>\n",
       "      <th>pretrained_model_prediction</th>\n",
       "      <th>Encoded Label</th>\n",
       "    </tr>\n",
       "  </thead>\n",
       "  <tbody>\n",
       "    <tr>\n",
       "      <th>9325</th>\n",
       "      <td>$INPX is gaining some great momentum and volum...</td>\n",
       "      <td>2</td>\n",
       "      <td>inpx gaining great momentum volume last tradin...</td>\n",
       "      <td>[101, 1999, 2361, 2595, 8550, 2307, 11071, 387...</td>\n",
       "      <td>positive</td>\n",
       "      <td>positive</td>\n",
       "    </tr>\n",
       "    <tr>\n",
       "      <th>9326</th>\n",
       "      <td>Molina Healthcare stock price target raised to...</td>\n",
       "      <td>2</td>\n",
       "      <td>molina healthcare stock price target raised 16...</td>\n",
       "      <td>[101, 25601, 9871, 4518, 3976, 4539, 2992, 139...</td>\n",
       "      <td>positive</td>\n",
       "      <td>positive</td>\n",
       "    </tr>\n",
       "    <tr>\n",
       "      <th>9327</th>\n",
       "      <td>What Is Investors Real Estate Trust's (NYSE:IR...</td>\n",
       "      <td>1</td>\n",
       "      <td>investors real estate trusts nyseiret share price</td>\n",
       "      <td>[101, 9387, 2613, 3776, 20278, 6396, 20240, 13...</td>\n",
       "      <td>neutral</td>\n",
       "      <td>neutral</td>\n",
       "    </tr>\n",
       "    <tr>\n",
       "      <th>9328</th>\n",
       "      <td>Edited Transcript of EROS earnings conference ...</td>\n",
       "      <td>1</td>\n",
       "      <td>edited transcript eros earnings conference cal...</td>\n",
       "      <td>[101, 5493, 24051, 9413, 2891, 16565, 3034, 26...</td>\n",
       "      <td>neutral</td>\n",
       "      <td>neutral</td>\n",
       "    </tr>\n",
       "    <tr>\n",
       "      <th>9329</th>\n",
       "      <td>Stock-index futures pare gains after report of...</td>\n",
       "      <td>0</td>\n",
       "      <td>stockindex futures pare gains report china con...</td>\n",
       "      <td>[101, 4518, 22254, 10288, 17795, 11968, 2063, ...</td>\n",
       "      <td>negative</td>\n",
       "      <td>negative</td>\n",
       "    </tr>\n",
       "    <tr>\n",
       "      <th>...</th>\n",
       "      <td>...</td>\n",
       "      <td>...</td>\n",
       "      <td>...</td>\n",
       "      <td>...</td>\n",
       "      <td>...</td>\n",
       "      <td>...</td>\n",
       "    </tr>\n",
       "    <tr>\n",
       "      <th>11651</th>\n",
       "      <td>A record 449,553 Illinois residents sign up fo...</td>\n",
       "      <td>1</td>\n",
       "      <td>record 449553 illinois residents sign affordab...</td>\n",
       "      <td>[101, 2501, 4008, 2683, 24087, 2509, 4307, 390...</td>\n",
       "      <td>positive</td>\n",
       "      <td>neutral</td>\n",
       "    </tr>\n",
       "    <tr>\n",
       "      <th>11652</th>\n",
       "      <td>The Los Angeles Fires Will Put California’s Ne...</td>\n",
       "      <td>1</td>\n",
       "      <td>los angeles fires put californias new insuranc...</td>\n",
       "      <td>[101, 3050, 3349, 8769, 2404, 2662, 2015, 2047...</td>\n",
       "      <td>neutral</td>\n",
       "      <td>neutral</td>\n",
       "    </tr>\n",
       "    <tr>\n",
       "      <th>11653</th>\n",
       "      <td>NexPoint Real Estate Finance, Inc. Enters into...</td>\n",
       "      <td>1</td>\n",
       "      <td>nexpoint real estate finance inc enters assign...</td>\n",
       "      <td>[101, 11265, 2595, 8400, 2613, 3776, 5446, 429...</td>\n",
       "      <td>positive</td>\n",
       "      <td>neutral</td>\n",
       "    </tr>\n",
       "    <tr>\n",
       "      <th>11654</th>\n",
       "      <td>AO Buzzard Agency Introduces Financial Service...</td>\n",
       "      <td>1</td>\n",
       "      <td>ao buzzard agency introduces financial service...</td>\n",
       "      <td>[101, 20118, 12610, 4232, 4034, 13999, 3361, 2...</td>\n",
       "      <td>neutral</td>\n",
       "      <td>neutral</td>\n",
       "    </tr>\n",
       "    <tr>\n",
       "      <th>11655</th>\n",
       "      <td>Pacific Palisades wildfires may spell an end t...</td>\n",
       "      <td>1</td>\n",
       "      <td>pacific palisades wildfires may spell end chea...</td>\n",
       "      <td>[101, 3534, 28619, 3736, 6155, 3748, 26332, 20...</td>\n",
       "      <td>negative</td>\n",
       "      <td>neutral</td>\n",
       "    </tr>\n",
       "  </tbody>\n",
       "</table>\n",
       "<p>2331 rows × 6 columns</p>\n",
       "</div>"
      ],
      "text/plain": [
       "                                                    Text  Label  \\\n",
       "9325   $INPX is gaining some great momentum and volum...      2   \n",
       "9326   Molina Healthcare stock price target raised to...      2   \n",
       "9327   What Is Investors Real Estate Trust's (NYSE:IR...      1   \n",
       "9328   Edited Transcript of EROS earnings conference ...      1   \n",
       "9329   Stock-index futures pare gains after report of...      0   \n",
       "...                                                  ...    ...   \n",
       "11651  A record 449,553 Illinois residents sign up fo...      1   \n",
       "11652  The Los Angeles Fires Will Put California’s Ne...      1   \n",
       "11653  NexPoint Real Estate Finance, Inc. Enters into...      1   \n",
       "11654  AO Buzzard Agency Introduces Financial Service...      1   \n",
       "11655  Pacific Palisades wildfires may spell an end t...      1   \n",
       "\n",
       "                                            Cleaned Text  \\\n",
       "9325   inpx gaining great momentum volume last tradin...   \n",
       "9326   molina healthcare stock price target raised 16...   \n",
       "9327   investors real estate trusts nyseiret share price   \n",
       "9328   edited transcript eros earnings conference cal...   \n",
       "9329   stockindex futures pare gains report china con...   \n",
       "...                                                  ...   \n",
       "11651  record 449553 illinois residents sign affordab...   \n",
       "11652  los angeles fires put californias new insuranc...   \n",
       "11653  nexpoint real estate finance inc enters assign...   \n",
       "11654  ao buzzard agency introduces financial service...   \n",
       "11655  pacific palisades wildfires may spell end chea...   \n",
       "\n",
       "                                            Encoded Text  \\\n",
       "9325   [101, 1999, 2361, 2595, 8550, 2307, 11071, 387...   \n",
       "9326   [101, 25601, 9871, 4518, 3976, 4539, 2992, 139...   \n",
       "9327   [101, 9387, 2613, 3776, 20278, 6396, 20240, 13...   \n",
       "9328   [101, 5493, 24051, 9413, 2891, 16565, 3034, 26...   \n",
       "9329   [101, 4518, 22254, 10288, 17795, 11968, 2063, ...   \n",
       "...                                                  ...   \n",
       "11651  [101, 2501, 4008, 2683, 24087, 2509, 4307, 390...   \n",
       "11652  [101, 3050, 3349, 8769, 2404, 2662, 2015, 2047...   \n",
       "11653  [101, 11265, 2595, 8400, 2613, 3776, 5446, 429...   \n",
       "11654  [101, 20118, 12610, 4232, 4034, 13999, 3361, 2...   \n",
       "11655  [101, 3534, 28619, 3736, 6155, 3748, 26332, 20...   \n",
       "\n",
       "      pretrained_model_prediction Encoded Label  \n",
       "9325                     positive      positive  \n",
       "9326                     positive      positive  \n",
       "9327                      neutral       neutral  \n",
       "9328                      neutral       neutral  \n",
       "9329                     negative      negative  \n",
       "...                           ...           ...  \n",
       "11651                    positive       neutral  \n",
       "11652                     neutral       neutral  \n",
       "11653                    positive       neutral  \n",
       "11654                     neutral       neutral  \n",
       "11655                    negative       neutral  \n",
       "\n",
       "[2331 rows x 6 columns]"
      ]
     },
     "execution_count": 150,
     "metadata": {},
     "output_type": "execute_result"
    }
   ],
   "source": [
    "test_df"
   ]
  },
  {
   "cell_type": "code",
   "execution_count": 115,
   "metadata": {},
   "outputs": [
    {
     "name": "stdout",
     "output_type": "stream",
     "text": [
      "FinBERT 模型的混淆矩阵：\n",
      " [[ 129    7    6]\n",
      " [ 411 1435  187]\n",
      " [  12   18  126]]\n"
     ]
    },
    {
     "data": {
      "image/png": "[encoded data removed]",
      "text/plain": [
       "<Figure size 800x600 with 2 Axes>"
      ]
     },
     "metadata": {},
     "output_type": "display_data"
    },
    {
     "name": "stdout",
     "output_type": "stream",
     "text": [
      "测试集上的 F1-Score: 0.7748\n",
      "\n",
      "分类报告：\n",
      "               precision    recall  f1-score   support\n",
      "\n",
      "    Positive       0.23      0.91      0.37       142\n",
      "    Negative       0.98      0.71      0.82      2033\n",
      "     Neutral       0.39      0.81      0.53       156\n",
      "\n",
      "    accuracy                           0.73      2331\n",
      "   macro avg       0.54      0.81      0.57      2331\n",
      "weighted avg       0.90      0.73      0.77      2331\n",
      "\n"
     ]
    }
   ],
   "source": [
    "#Finbert 混淆矩阵\n",
    "from sklearn.metrics import confusion_matrix, f1_score, classification_report, ConfusionMatrixDisplay\n",
    "import seaborn as sns\n",
    "import matplotlib.pyplot as plt\n",
    "y_true = test_df['Encoded Label']\n",
    "y_pred = test_df['pretrained_model_prediction']\n",
    "cm = confusion_matrix(y_true, y_pred)\n",
    "print(\"FinBERT 模型的混淆矩阵：\\n\", cm)\n",
    "plt.figure(figsize=(8, 6))\n",
    "sns.heatmap(cm, annot=True, fmt='d', xticklabels=[\"Positive\", \"Neutral\", \"Negative\"],\n",
    "            yticklabels=[\"Positive\", \"Neutral\", \"Negative\"])\n",
    "plt.title(\"\")\n",
    "plt.xlabel(\"Predicted Label\")\n",
    "plt.ylabel(\"True Label\")\n",
    "plt.show()\n",
    "f1 = f1_score(y_true, y_pred, average='weighted')\n",
    "print(f\"测试集上的 F1-Score: {f1:.4f}\\n\")\n",
    "print(\"分类报告：\\n\", classification_report(y_true, y_pred, target_names=[\"Positive\", \"Negative\", \"Neutral\"]))"
   ]
  },
  {
   "cell_type": "code",
   "execution_count": 178,
   "metadata": {},
   "outputs": [
    {
     "name": "stderr",
     "output_type": "stream",
     "text": [
      "Hardware accelerator e.g. GPU is available in the environment, but no `device` argument is passed to the `Pipeline` object. Model will be on CPU.\n",
      "/opt/anaconda3/lib/python3.12/site-packages/transformers/pipelines/text_classification.py:106: UserWarning: `return_all_scores` is now deprecated,  if want a similar functionality use `top_k=None` instead of `return_all_scores=True` or `top_k=1` instead of `return_all_scores=False`.\n",
      "  warnings.warn(\n"
     ]
    },
    {
     "data": {
      "image/png": "[encoded data removed]",
      "text/plain": [
       "<Figure size 800x600 with 1 Axes>"
      ]
     },
     "metadata": {},
     "output_type": "display_data"
    }
   ],
   "source": [
    "import numpy as np\n",
    "import pandas as pd\n",
    "import matplotlib.pyplot as plt\n",
    "from sklearn.metrics import roc_curve, auc\n",
    "from transformers import AutoTokenizer, pipeline\n",
    "\n",
    "# 加载 FinBERT 预训练模型\n",
    "tokenizer = AutoTokenizer.from_pretrained(\"ProsusAI/finbert\")\n",
    "sentiment_pipeline = pipeline(\"sentiment-analysis\", model=\"ProsusAI/finbert\", tokenizer=tokenizer, return_all_scores=True)\n",
    "\n",
    "# 获取测试集的概率预测\n",
    "def get_sentiment_probs(text):\n",
    "    \"\"\" 返回 FinBERT 预测的所有类别概率 \"\"\"\n",
    "    scores = sentiment_pipeline(text)  # 返回 [{label, score}, {label, score}, {label, score}]\n",
    "    scores_dict = {s['label']: s['score'] for s in scores[0]}  # 转换为 {'positive': 0.9, 'neutral': 0.08, 'negative': 0.02}\n",
    "    return [scores_dict[label] for label in ['negative', 'neutral', 'positive']]  # 按固定顺序返回概率值\n",
    "\n",
    "# 计算概率并存入 DataFrame\n",
    "test_df['FinBERT_probs'] = test_df['Text'].apply(get_sentiment_probs)\n",
    "probs = np.vstack(test_df['FinBERT_probs'].values)  # 转换为 NumPy 矩阵\n",
    "\n",
    "# 真实标签 (Label) 是数值型（0,1,2）\n",
    "y_test = test_df['Label'].values  # 直接取数值标签\n",
    "\n",
    "# 初始化变量\n",
    "fpr, tpr, roc_auc = {}, {}, {}\n",
    "colors = ['blue', 'red', 'green']  # 颜色\n",
    "class_names = ['Negative', 'Neutral', 'Positive']  # 类别名称\n",
    "\n",
    "# 计算 ROC 曲线和 AUC\n",
    "for i in range(3):\n",
    "    y_true = (y_test == i).astype(int)  # 真实标签二值化\n",
    "    fpr[i], tpr[i], _ = roc_curve(y_true, probs[:, i])\n",
    "    roc_auc[i] = auc(fpr[i], tpr[i])\n",
    "\n",
    "# 绘制 ROC 曲线\n",
    "plt.figure(figsize=(8, 6))\n",
    "for i, color, class_name in zip(range(3), colors, class_names):\n",
    "    plt.plot(fpr[i], tpr[i], color=color, lw=2,  # 线条粗细调整为2\n",
    "             label=f'ROC curve of {class_name} (AUC = {roc_auc[i]:.2f})')\n",
    "\n",
    "# 绘制对角线\n",
    "plt.plot([0, 1], [0, 1], 'k--', lw=2)  # 线条调整为2\n",
    "\n",
    "# 设置图形属性\n",
    "plt.xlim([0.0, 1.0])\n",
    "plt.ylim([0.0, 1.05])\n",
    "plt.xlabel('False Positive Rate')\n",
    "plt.ylabel('True Positive Rate')\n",
    "plt.title('ROC Curve for FinBERT Sentiment Analysis')\n",
    "plt.legend(loc=\"lower right\")\n",
    "plt.show()"
   ]
  },
  {
   "cell_type": "code",
   "execution_count": null,
   "metadata": {},
   "outputs": [],
   "source": []
  }
 ],
 "metadata": {
  "kernelspec": {
   "display_name": "Python 3 (ipykernel)",
   "language": "python",
   "name": "python3"
  },
  "language_info": {
   "codemirror_mode": {
    "name": "ipython",
    "version": 3
   },
   "file_extension": ".py",
   "mimetype": "text/x-python",
   "name": "python",
   "nbconvert_exporter": "python",
   "pygments_lexer": "ipython3",
   "version": "3.12.4"
  },
  "vscode": {
   "interpreter": {
    "hash": "9ae89fe6e1987fa73f493ccde8a2eba4a46378c75f2c970e080b813196a22225"
   }
  }
 },
 "nbformat": 4,
 "nbformat_minor": 4
}
