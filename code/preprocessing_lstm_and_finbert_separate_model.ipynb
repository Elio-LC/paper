{
 "cells": [
  {
   "cell_type": "markdown",
   "metadata": {},
   "source": "# PREPROCESSING"
  },
  {
   "cell_type": "code",
   "metadata": {
    "ExecuteTime": {
     "end_time": "2025-07-31T15:17:48.202872Z",
     "start_time": "2025-07-31T15:17:48.197460Z"
    }
   },
   "source": [
    "import pandas as pd "
   ],
   "outputs": [],
   "execution_count": 74
  },
  {
   "cell_type": "code",
   "metadata": {
    "editable": true,
    "slideshow": {
     "slide_type": ""
    },
    "tags": [],
    "ExecuteTime": {
     "end_time": "2025-07-31T15:17:48.213206Z",
     "start_time": "2025-07-31T15:17:48.211373Z"
    }
   },
   "source": [
    "import nltk"
   ],
   "outputs": [],
   "execution_count": 75
  },
  {
   "cell_type": "code",
   "metadata": {
    "ExecuteTime": {
     "end_time": "2025-07-31T15:17:48.269108Z",
     "start_time": "2025-07-31T15:17:48.239808Z"
    }
   },
   "source": "df = pd.read_csv('../raw_data/news_all.csv')",
   "outputs": [],
   "execution_count": 76
  },
  {
   "cell_type": "code",
   "metadata": {
    "ExecuteTime": {
     "end_time": "2025-07-31T15:17:48.293213Z",
     "start_time": "2025-07-31T15:17:48.288104Z"
    }
   },
   "source": [
    "df.head()"
   ],
   "outputs": [
    {
     "data": {
      "text/plain": [
       "                                                                                                             Text  \\\n",
       "0                                Amazon to create 500 new jobs in Mississippi as it builds new fulfillment center   \n",
       "1  GE's stock rises 1% premarket, set to trade above $13 for 1st time in regular-session hours since October 2018   \n",
       "2                                                  CN Rail Strike Begins, Threatening Canada Oil, Grain Shipments   \n",
       "3                                    Hong Kong Airlines to cut 400 jobs, ask employees to take unpaid leave: SCMP   \n",
       "4                      3 Top-Performing Mutual Funds to Consider for Your Retirement Portfolio- February 07, 2020   \n",
       "\n",
       "   Label  \n",
       "0      2  \n",
       "1      2  \n",
       "2      0  \n",
       "3      0  \n",
       "4      1  "
      ],
      "text/html": [
       "<div>\n",
       "<style scoped>\n",
       "    .dataframe tbody tr th:only-of-type {\n",
       "        vertical-align: middle;\n",
       "    }\n",
       "\n",
       "    .dataframe tbody tr th {\n",
       "        vertical-align: top;\n",
       "    }\n",
       "\n",
       "    .dataframe thead th {\n",
       "        text-align: right;\n",
       "    }\n",
       "</style>\n",
       "<table border=\"1\" class=\"dataframe\">\n",
       "  <thead>\n",
       "    <tr style=\"text-align: right;\">\n",
       "      <th></th>\n",
       "      <th>Text</th>\n",
       "      <th>Label</th>\n",
       "    </tr>\n",
       "  </thead>\n",
       "  <tbody>\n",
       "    <tr>\n",
       "      <th>0</th>\n",
       "      <td>Amazon to create 500 new jobs in Mississippi as it builds new fulfillment center</td>\n",
       "      <td>2</td>\n",
       "    </tr>\n",
       "    <tr>\n",
       "      <th>1</th>\n",
       "      <td>GE's stock rises 1% premarket, set to trade above $13 for 1st time in regular-session hours since October 2018</td>\n",
       "      <td>2</td>\n",
       "    </tr>\n",
       "    <tr>\n",
       "      <th>2</th>\n",
       "      <td>CN Rail Strike Begins, Threatening Canada Oil, Grain Shipments</td>\n",
       "      <td>0</td>\n",
       "    </tr>\n",
       "    <tr>\n",
       "      <th>3</th>\n",
       "      <td>Hong Kong Airlines to cut 400 jobs, ask employees to take unpaid leave: SCMP</td>\n",
       "      <td>0</td>\n",
       "    </tr>\n",
       "    <tr>\n",
       "      <th>4</th>\n",
       "      <td>3 Top-Performing Mutual Funds to Consider for Your Retirement Portfolio- February 07, 2020</td>\n",
       "      <td>1</td>\n",
       "    </tr>\n",
       "  </tbody>\n",
       "</table>\n",
       "</div>"
      ]
     },
     "execution_count": 77,
     "metadata": {},
     "output_type": "execute_result"
    }
   ],
   "execution_count": 77
  },
  {
   "cell_type": "code",
   "metadata": {
    "ExecuteTime": {
     "end_time": "2025-07-31T15:17:48.331035Z",
     "start_time": "2025-07-31T15:17:48.326995Z"
    }
   },
   "source": [
    "df.shape"
   ],
   "outputs": [
    {
     "data": {
      "text/plain": [
       "(11656, 2)"
      ]
     },
     "execution_count": 78,
     "metadata": {},
     "output_type": "execute_result"
    }
   ],
   "execution_count": 78
  },
  {
   "cell_type": "code",
   "metadata": {
    "ExecuteTime": {
     "end_time": "2025-07-31T15:17:48.406737Z",
     "start_time": "2025-07-31T15:17:48.392398Z"
    }
   },
   "source": "df['Label'].value_counts()",
   "outputs": [
    {
     "data": {
      "text/plain": [
       "Label\n",
       "1    8077\n",
       "2    2033\n",
       "0    1546\n",
       "Name: count, dtype: int64"
      ]
     },
     "execution_count": 79,
     "metadata": {},
     "output_type": "execute_result"
    }
   ],
   "execution_count": 79
  },
  {
   "cell_type": "code",
   "metadata": {
    "ExecuteTime": {
     "end_time": "2025-07-31T15:17:48.467931Z",
     "start_time": "2025-07-31T15:17:48.465254Z"
    }
   },
   "source": [
    "df.iloc[0]"
   ],
   "outputs": [
    {
     "data": {
      "text/plain": [
       "Text     Amazon to create 500 new jobs in Mississippi as it builds new fulfillment center\n",
       "Label                                                                                   2\n",
       "Name: 0, dtype: object"
      ]
     },
     "execution_count": 80,
     "metadata": {},
     "output_type": "execute_result"
    }
   ],
   "execution_count": 80
  },
  {
   "cell_type": "code",
   "metadata": {
    "ExecuteTime": {
     "end_time": "2025-07-31T15:17:48.535709Z",
     "start_time": "2025-07-31T15:17:48.530296Z"
    }
   },
   "source": [
    "for i in range(5):\n",
    "    print('Data: {}'.format(df.iloc[i]['Text']))\n",
    "    print('Label: {}'.format(df.iloc[i]['Label']))     \n",
    "    print('\\n')"
   ],
   "outputs": [
    {
     "name": "stdout",
     "output_type": "stream",
     "text": [
      "Data: Amazon to create 500 new jobs in Mississippi as it builds new fulfillment center\n",
      "Label: 2\n",
      "\n",
      "\n",
      "Data: GE's stock rises 1% premarket, set to trade above $13 for 1st time in regular-session hours since October 2018\n",
      "Label: 2\n",
      "\n",
      "\n",
      "Data: CN Rail Strike Begins, Threatening Canada Oil, Grain Shipments\n",
      "Label: 0\n",
      "\n",
      "\n",
      "Data: Hong Kong Airlines to cut 400 jobs, ask employees to take unpaid leave: SCMP\n",
      "Label: 0\n",
      "\n",
      "\n",
      "Data: 3 Top-Performing Mutual Funds to Consider for Your Retirement Portfolio- February 07, 2020\n",
      "Label: 1\n",
      "\n",
      "\n"
     ]
    }
   ],
   "execution_count": 81
  },
  {
   "cell_type": "code",
   "metadata": {
    "ExecuteTime": {
     "end_time": "2025-07-31T15:17:48.642749Z",
     "start_time": "2025-07-31T15:17:48.617074Z"
    }
   },
   "source": [
    "df.info()"
   ],
   "outputs": [
    {
     "name": "stdout",
     "output_type": "stream",
     "text": [
      "<class 'pandas.core.frame.DataFrame'>\n",
      "RangeIndex: 11656 entries, 0 to 11655\n",
      "Data columns (total 2 columns):\n",
      " #   Column  Non-Null Count  Dtype \n",
      "---  ------  --------------  ----- \n",
      " 0   Text    11656 non-null  object\n",
      " 1   Label   11656 non-null  int64 \n",
      "dtypes: int64(1), object(1)\n",
      "memory usage: 182.3+ KB\n"
     ]
    }
   ],
   "execution_count": 82
  },
  {
   "cell_type": "code",
   "metadata": {
    "ExecuteTime": {
     "end_time": "2025-07-31T15:17:48.694065Z",
     "start_time": "2025-07-31T15:17:48.692064Z"
    }
   },
   "source": [
    "import re"
   ],
   "outputs": [],
   "execution_count": 83
  },
  {
   "cell_type": "code",
   "metadata": {
    "scrolled": true,
    "ExecuteTime": {
     "end_time": "2025-07-31T15:17:48.721623Z",
     "start_time": "2025-07-31T15:17:48.714914Z"
    }
   },
   "source": [
    "from nltk.corpus import stopwords\n",
    "set(stopwords.words('english'))"
   ],
   "outputs": [
    {
     "data": {
      "text/plain": [
       "{'a',\n",
       " 'about',\n",
       " 'above',\n",
       " 'after',\n",
       " 'again',\n",
       " 'against',\n",
       " 'ain',\n",
       " 'all',\n",
       " 'am',\n",
       " 'an',\n",
       " 'and',\n",
       " 'any',\n",
       " 'are',\n",
       " 'aren',\n",
       " \"aren't\",\n",
       " 'as',\n",
       " 'at',\n",
       " 'be',\n",
       " 'because',\n",
       " 'been',\n",
       " 'before',\n",
       " 'being',\n",
       " 'below',\n",
       " 'between',\n",
       " 'both',\n",
       " 'but',\n",
       " 'by',\n",
       " 'can',\n",
       " 'couldn',\n",
       " \"couldn't\",\n",
       " 'd',\n",
       " 'did',\n",
       " 'didn',\n",
       " \"didn't\",\n",
       " 'do',\n",
       " 'does',\n",
       " 'doesn',\n",
       " \"doesn't\",\n",
       " 'doing',\n",
       " 'don',\n",
       " \"don't\",\n",
       " 'down',\n",
       " 'during',\n",
       " 'each',\n",
       " 'few',\n",
       " 'for',\n",
       " 'from',\n",
       " 'further',\n",
       " 'had',\n",
       " 'hadn',\n",
       " \"hadn't\",\n",
       " 'has',\n",
       " 'hasn',\n",
       " \"hasn't\",\n",
       " 'have',\n",
       " 'haven',\n",
       " \"haven't\",\n",
       " 'having',\n",
       " 'he',\n",
       " 'her',\n",
       " 'here',\n",
       " 'hers',\n",
       " 'herself',\n",
       " 'him',\n",
       " 'himself',\n",
       " 'his',\n",
       " 'how',\n",
       " 'i',\n",
       " 'if',\n",
       " 'in',\n",
       " 'into',\n",
       " 'is',\n",
       " 'isn',\n",
       " \"isn't\",\n",
       " 'it',\n",
       " \"it's\",\n",
       " 'its',\n",
       " 'itself',\n",
       " 'just',\n",
       " 'll',\n",
       " 'm',\n",
       " 'ma',\n",
       " 'me',\n",
       " 'mightn',\n",
       " \"mightn't\",\n",
       " 'more',\n",
       " 'most',\n",
       " 'mustn',\n",
       " \"mustn't\",\n",
       " 'my',\n",
       " 'myself',\n",
       " 'needn',\n",
       " \"needn't\",\n",
       " 'no',\n",
       " 'nor',\n",
       " 'not',\n",
       " 'now',\n",
       " 'o',\n",
       " 'of',\n",
       " 'off',\n",
       " 'on',\n",
       " 'once',\n",
       " 'only',\n",
       " 'or',\n",
       " 'other',\n",
       " 'our',\n",
       " 'ours',\n",
       " 'ourselves',\n",
       " 'out',\n",
       " 'over',\n",
       " 'own',\n",
       " 're',\n",
       " 's',\n",
       " 'same',\n",
       " 'shan',\n",
       " \"shan't\",\n",
       " 'she',\n",
       " \"she's\",\n",
       " 'should',\n",
       " \"should've\",\n",
       " 'shouldn',\n",
       " \"shouldn't\",\n",
       " 'so',\n",
       " 'some',\n",
       " 'such',\n",
       " 't',\n",
       " 'than',\n",
       " 'that',\n",
       " \"that'll\",\n",
       " 'the',\n",
       " 'their',\n",
       " 'theirs',\n",
       " 'them',\n",
       " 'themselves',\n",
       " 'then',\n",
       " 'there',\n",
       " 'these',\n",
       " 'they',\n",
       " 'this',\n",
       " 'those',\n",
       " 'through',\n",
       " 'to',\n",
       " 'too',\n",
       " 'under',\n",
       " 'until',\n",
       " 'up',\n",
       " 've',\n",
       " 'very',\n",
       " 'was',\n",
       " 'wasn',\n",
       " \"wasn't\",\n",
       " 'we',\n",
       " 'were',\n",
       " 'weren',\n",
       " \"weren't\",\n",
       " 'what',\n",
       " 'when',\n",
       " 'where',\n",
       " 'which',\n",
       " 'while',\n",
       " 'who',\n",
       " 'whom',\n",
       " 'why',\n",
       " 'will',\n",
       " 'with',\n",
       " 'won',\n",
       " \"won't\",\n",
       " 'wouldn',\n",
       " \"wouldn't\",\n",
       " 'y',\n",
       " 'you',\n",
       " \"you'd\",\n",
       " \"you'll\",\n",
       " \"you're\",\n",
       " \"you've\",\n",
       " 'your',\n",
       " 'yours',\n",
       " 'yourself',\n",
       " 'yourselves'}"
      ]
     },
     "execution_count": 84,
     "metadata": {},
     "output_type": "execute_result"
    }
   ],
   "execution_count": 84
  },
  {
   "cell_type": "code",
   "metadata": {
    "ExecuteTime": {
     "end_time": "2025-07-31T15:17:48.752130Z",
     "start_time": "2025-07-31T15:17:48.748984Z"
    }
   },
   "source": [
    "def clean_text(text):\n",
    "\n",
    "    text = re.sub(r'[^a-zA-Z0-9\\s]', '', text)\n",
    "    text = text.lower()\n",
    "    stop_words = set(stopwords.words('english'))\n",
    "    words = text.split()\n",
    "    words = [word for word in words if word not in stop_words]\n",
    "    cleaned_text = ' '.join(words)\n",
    "\n",
    "    return cleaned_text"
   ],
   "outputs": [],
   "execution_count": 85
  },
  {
   "cell_type": "code",
   "metadata": {
    "ExecuteTime": {
     "end_time": "2025-07-31T15:17:48.781150Z",
     "start_time": "2025-07-31T15:17:48.777466Z"
    }
   },
   "source": [
    "clean_text('WELCOME to this practical skills module!!')"
   ],
   "outputs": [
    {
     "data": {
      "text/plain": [
       "'welcome practical skills module'"
      ]
     },
     "execution_count": 86,
     "metadata": {},
     "output_type": "execute_result"
    }
   ],
   "execution_count": 86
  },
  {
   "cell_type": "code",
   "metadata": {
    "ExecuteTime": {
     "end_time": "2025-07-31T15:17:49.522360Z",
     "start_time": "2025-07-31T15:17:48.791756Z"
    }
   },
   "source": [
    "df['Cleaned Text'] = df['Text'].apply(clean_text)"
   ],
   "outputs": [],
   "execution_count": 87
  },
  {
   "cell_type": "code",
   "metadata": {
    "ExecuteTime": {
     "end_time": "2025-07-31T15:17:49.567379Z",
     "start_time": "2025-07-31T15:17:49.559393Z"
    }
   },
   "source": [
    "df"
   ],
   "outputs": [
    {
     "data": {
      "text/plain": [
       "                                                                                                                 Text  \\\n",
       "0                                    Amazon to create 500 new jobs in Mississippi as it builds new fulfillment center   \n",
       "1      GE's stock rises 1% premarket, set to trade above $13 for 1st time in regular-session hours since October 2018   \n",
       "2                                                      CN Rail Strike Begins, Threatening Canada Oil, Grain Shipments   \n",
       "3                                        Hong Kong Airlines to cut 400 jobs, ask employees to take unpaid leave: SCMP   \n",
       "4                          3 Top-Performing Mutual Funds to Consider for Your Retirement Portfolio- February 07, 2020   \n",
       "...                                                                                                               ...   \n",
       "11651     A record 449,553 Illinois residents sign up for Affordable Care Act insurance, amid uncertainty over future   \n",
       "11652                                     The Los Angeles Fires Will Put California’s New Insurance Rules to the Test   \n",
       "11653  NexPoint Real Estate Finance, Inc. Enters into Assignment Agreement with The Ohio State Life Insurance Company   \n",
       "11654         AO Buzzard Agency Introduces Financial Services with Transparent, Lifetime-Coverage Insurance Solutions   \n",
       "11655                       Pacific Palisades wildfires may spell an end to cheap homeowners’ insurance in California   \n",
       "\n",
       "       Label  \\\n",
       "0          2   \n",
       "1          2   \n",
       "2          0   \n",
       "3          0   \n",
       "4          1   \n",
       "...      ...   \n",
       "11651      1   \n",
       "11652      1   \n",
       "11653      1   \n",
       "11654      1   \n",
       "11655      1   \n",
       "\n",
       "                                                                                           Cleaned Text  \n",
       "0                                  amazon create 500 new jobs mississippi builds new fulfillment center  \n",
       "1             ges stock rises 1 premarket set trade 13 1st time regularsession hours since october 2018  \n",
       "2                                          cn rail strike begins threatening canada oil grain shipments  \n",
       "3                                  hong kong airlines cut 400 jobs ask employees take unpaid leave scmp  \n",
       "4                           3 topperforming mutual funds consider retirement portfolio february 07 2020  \n",
       "...                                                                                                 ...  \n",
       "11651       record 449553 illinois residents sign affordable care act insurance amid uncertainty future  \n",
       "11652                                        los angeles fires put californias new insurance rules test  \n",
       "11653    nexpoint real estate finance inc enters assignment agreement ohio state life insurance company  \n",
       "11654  ao buzzard agency introduces financial services transparent lifetimecoverage insurance solutions  \n",
       "11655                   pacific palisades wildfires may spell end cheap homeowners insurance california  \n",
       "\n",
       "[11656 rows x 3 columns]"
      ],
      "text/html": [
       "<div>\n",
       "<style scoped>\n",
       "    .dataframe tbody tr th:only-of-type {\n",
       "        vertical-align: middle;\n",
       "    }\n",
       "\n",
       "    .dataframe tbody tr th {\n",
       "        vertical-align: top;\n",
       "    }\n",
       "\n",
       "    .dataframe thead th {\n",
       "        text-align: right;\n",
       "    }\n",
       "</style>\n",
       "<table border=\"1\" class=\"dataframe\">\n",
       "  <thead>\n",
       "    <tr style=\"text-align: right;\">\n",
       "      <th></th>\n",
       "      <th>Text</th>\n",
       "      <th>Label</th>\n",
       "      <th>Cleaned Text</th>\n",
       "    </tr>\n",
       "  </thead>\n",
       "  <tbody>\n",
       "    <tr>\n",
       "      <th>0</th>\n",
       "      <td>Amazon to create 500 new jobs in Mississippi as it builds new fulfillment center</td>\n",
       "      <td>2</td>\n",
       "      <td>amazon create 500 new jobs mississippi builds new fulfillment center</td>\n",
       "    </tr>\n",
       "    <tr>\n",
       "      <th>1</th>\n",
       "      <td>GE's stock rises 1% premarket, set to trade above $13 for 1st time in regular-session hours since October 2018</td>\n",
       "      <td>2</td>\n",
       "      <td>ges stock rises 1 premarket set trade 13 1st time regularsession hours since october 2018</td>\n",
       "    </tr>\n",
       "    <tr>\n",
       "      <th>2</th>\n",
       "      <td>CN Rail Strike Begins, Threatening Canada Oil, Grain Shipments</td>\n",
       "      <td>0</td>\n",
       "      <td>cn rail strike begins threatening canada oil grain shipments</td>\n",
       "    </tr>\n",
       "    <tr>\n",
       "      <th>3</th>\n",
       "      <td>Hong Kong Airlines to cut 400 jobs, ask employees to take unpaid leave: SCMP</td>\n",
       "      <td>0</td>\n",
       "      <td>hong kong airlines cut 400 jobs ask employees take unpaid leave scmp</td>\n",
       "    </tr>\n",
       "    <tr>\n",
       "      <th>4</th>\n",
       "      <td>3 Top-Performing Mutual Funds to Consider for Your Retirement Portfolio- February 07, 2020</td>\n",
       "      <td>1</td>\n",
       "      <td>3 topperforming mutual funds consider retirement portfolio february 07 2020</td>\n",
       "    </tr>\n",
       "    <tr>\n",
       "      <th>...</th>\n",
       "      <td>...</td>\n",
       "      <td>...</td>\n",
       "      <td>...</td>\n",
       "    </tr>\n",
       "    <tr>\n",
       "      <th>11651</th>\n",
       "      <td>A record 449,553 Illinois residents sign up for Affordable Care Act insurance, amid uncertainty over future</td>\n",
       "      <td>1</td>\n",
       "      <td>record 449553 illinois residents sign affordable care act insurance amid uncertainty future</td>\n",
       "    </tr>\n",
       "    <tr>\n",
       "      <th>11652</th>\n",
       "      <td>The Los Angeles Fires Will Put California’s New Insurance Rules to the Test</td>\n",
       "      <td>1</td>\n",
       "      <td>los angeles fires put californias new insurance rules test</td>\n",
       "    </tr>\n",
       "    <tr>\n",
       "      <th>11653</th>\n",
       "      <td>NexPoint Real Estate Finance, Inc. Enters into Assignment Agreement with The Ohio State Life Insurance Company</td>\n",
       "      <td>1</td>\n",
       "      <td>nexpoint real estate finance inc enters assignment agreement ohio state life insurance company</td>\n",
       "    </tr>\n",
       "    <tr>\n",
       "      <th>11654</th>\n",
       "      <td>AO Buzzard Agency Introduces Financial Services with Transparent, Lifetime-Coverage Insurance Solutions</td>\n",
       "      <td>1</td>\n",
       "      <td>ao buzzard agency introduces financial services transparent lifetimecoverage insurance solutions</td>\n",
       "    </tr>\n",
       "    <tr>\n",
       "      <th>11655</th>\n",
       "      <td>Pacific Palisades wildfires may spell an end to cheap homeowners’ insurance in California</td>\n",
       "      <td>1</td>\n",
       "      <td>pacific palisades wildfires may spell end cheap homeowners insurance california</td>\n",
       "    </tr>\n",
       "  </tbody>\n",
       "</table>\n",
       "<p>11656 rows × 3 columns</p>\n",
       "</div>"
      ]
     },
     "execution_count": 88,
     "metadata": {},
     "output_type": "execute_result"
    }
   ],
   "execution_count": 88
  },
  {
   "cell_type": "code",
   "metadata": {
    "ExecuteTime": {
     "end_time": "2025-07-31T15:17:49.626838Z",
     "start_time": "2025-07-31T15:17:49.618665Z"
    }
   },
   "source": [
    "from wordcloud import WordCloud, STOPWORDS\n",
    "import matplotlib.pyplot as plt\n",
    "\n",
    "def generate_word_cloud(text):\n",
    "    custom_stopwords = {\"http\", \"china\", \"us\", \"united states\", \"political\", \"politics\",\"stock\",\"stocks\", \"trump\"}\n",
    "    stopwords = set(STOPWORDS)\n",
    "    stopwords.update(custom_stopwords)\n",
    "    wordcloud = WordCloud(width = 1600, height = 800, stopwords = stopwords, min_font_size = 10).generate(text)\n",
    "    plt.figure(figsize = (12, 12))\n",
    "    plt.imshow(wordcloud)\n",
    "    plt.axis(\"off\")\n",
    "    plt.show()"
   ],
   "outputs": [],
   "execution_count": 89
  },
  {
   "cell_type": "code",
   "metadata": {
    "scrolled": true,
    "ExecuteTime": {
     "end_time": "2025-07-31T15:17:49.748364Z",
     "start_time": "2025-07-31T15:17:49.683810Z"
    }
   },
   "source": [
    "from transformers import AutoTokenizer\n",
    "tokenizer = AutoTokenizer.from_pretrained(\"ProsusAI/finbert\")"
   ],
   "outputs": [],
   "execution_count": 90
  },
  {
   "cell_type": "code",
   "metadata": {
    "ExecuteTime": {
     "end_time": "2025-07-31T15:17:49.784519Z",
     "start_time": "2025-07-31T15:17:49.782105Z"
    }
   },
   "source": [
    "news_1 = \"Hong Kong stocks increased 4% as China relaxes virus rules\"\n",
    "news_2 = \"Novo Nordisk stock increased by 2% in today's trading session\"\n",
    "news_3 = \"Amazon stock lost half its value this year as tech stocks got crushed and recession fears grew\""
   ],
   "outputs": [],
   "execution_count": 91
  },
  {
   "cell_type": "code",
   "metadata": {
    "ExecuteTime": {
     "end_time": "2025-07-31T15:17:49.803651Z",
     "start_time": "2025-07-31T15:17:49.798110Z"
    }
   },
   "source": [
    "encoded_news_1 = tokenizer.encode(news_1)\n",
    "print(encoded_news_1)"
   ],
   "outputs": [
    {
     "name": "stdout",
     "output_type": "stream",
     "text": [
      "[101, 4291, 4290, 15768, 3445, 1018, 1003, 2004, 2859, 9483, 2229, 7865, 3513, 102]\n"
     ]
    }
   ],
   "execution_count": 92
  },
  {
   "cell_type": "code",
   "metadata": {
    "ExecuteTime": {
     "end_time": "2025-07-31T15:17:49.824721Z",
     "start_time": "2025-07-31T15:17:49.821628Z"
    }
   },
   "source": [
    "encoded_news_2 = tokenizer.encode(news_2)\n",
    "print(encoded_news_2)"
   ],
   "outputs": [
    {
     "name": "stdout",
     "output_type": "stream",
     "text": [
      "[101, 24576, 13926, 20573, 4518, 3445, 2011, 1016, 1003, 1999, 2651, 1005, 1055, 6202, 5219, 102]\n"
     ]
    }
   ],
   "execution_count": 93
  },
  {
   "cell_type": "code",
   "metadata": {
    "ExecuteTime": {
     "end_time": "2025-07-31T15:17:49.855668Z",
     "start_time": "2025-07-31T15:17:49.851530Z"
    }
   },
   "source": [
    "encoded_news_3 = tokenizer.encode(news_3)\n",
    "print(encoded_news_3)"
   ],
   "outputs": [
    {
     "name": "stdout",
     "output_type": "stream",
     "text": [
      "[101, 9733, 4518, 2439, 2431, 2049, 3643, 2023, 2095, 2004, 6627, 15768, 2288, 10560, 1998, 19396, 10069, 3473, 102]\n"
     ]
    }
   ],
   "execution_count": 94
  },
  {
   "cell_type": "code",
   "metadata": {
    "ExecuteTime": {
     "end_time": "2025-07-31T15:17:49.879853Z",
     "start_time": "2025-07-31T15:17:49.877091Z"
    }
   },
   "source": [
    "print(encoded_news_1)\n",
    "len(encoded_news_1)"
   ],
   "outputs": [
    {
     "name": "stdout",
     "output_type": "stream",
     "text": [
      "[101, 4291, 4290, 15768, 3445, 1018, 1003, 2004, 2859, 9483, 2229, 7865, 3513, 102]\n"
     ]
    },
    {
     "data": {
      "text/plain": [
       "14"
      ]
     },
     "execution_count": 95,
     "metadata": {},
     "output_type": "execute_result"
    }
   ],
   "execution_count": 95
  },
  {
   "cell_type": "code",
   "metadata": {
    "ExecuteTime": {
     "end_time": "2025-07-31T15:17:49.914284Z",
     "start_time": "2025-07-31T15:17:49.911193Z"
    }
   },
   "source": [
    "print(encoded_news_2)\n",
    "len(encoded_news_2)"
   ],
   "outputs": [
    {
     "name": "stdout",
     "output_type": "stream",
     "text": [
      "[101, 24576, 13926, 20573, 4518, 3445, 2011, 1016, 1003, 1999, 2651, 1005, 1055, 6202, 5219, 102]\n"
     ]
    },
    {
     "data": {
      "text/plain": [
       "16"
      ]
     },
     "execution_count": 96,
     "metadata": {},
     "output_type": "execute_result"
    }
   ],
   "execution_count": 96
  },
  {
   "cell_type": "code",
   "metadata": {
    "ExecuteTime": {
     "end_time": "2025-07-31T15:17:49.947515Z",
     "start_time": "2025-07-31T15:17:49.943696Z"
    }
   },
   "source": [
    "print(encoded_news_3)\n",
    "len(encoded_news_3)"
   ],
   "outputs": [
    {
     "name": "stdout",
     "output_type": "stream",
     "text": [
      "[101, 9733, 4518, 2439, 2431, 2049, 3643, 2023, 2095, 2004, 6627, 15768, 2288, 10560, 1998, 19396, 10069, 3473, 102]\n"
     ]
    },
    {
     "data": {
      "text/plain": [
       "19"
      ]
     },
     "execution_count": 97,
     "metadata": {},
     "output_type": "execute_result"
    }
   ],
   "execution_count": 97
  },
  {
   "cell_type": "code",
   "metadata": {
    "ExecuteTime": {
     "end_time": "2025-07-31T15:17:49.984658Z",
     "start_time": "2025-07-31T15:17:49.982593Z"
    }
   },
   "source": [
    "import torch\n",
    "from torch.nn.utils.rnn import pad_sequence"
   ],
   "outputs": [],
   "execution_count": 98
  },
  {
   "cell_type": "code",
   "metadata": {
    "ExecuteTime": {
     "end_time": "2025-07-31T15:17:50.067066Z",
     "start_time": "2025-07-31T15:17:50.030797Z"
    }
   },
   "source": [
    "from transformers import AutoTokenizer\n",
    "\n",
    "tokenizer = AutoTokenizer.from_pretrained(\"ProsusAI/finbert\")\n",
    "\n",
    "def tokenization_padding(df):\n",
    "    # 使用 tokenizer 批量处理文本，返回 `input_ids` 和 `attention_mask`\n",
    "    encoded_inputs = tokenizer(\n",
    "        df[\"Cleaned Text\"].tolist(), \n",
    "        truncation=True,         # 截断到最大长度\n",
    "        padding=\"max_length\",            # 自动填充\n",
    "        max_length=512,          # FinBERT 最大支持 512 tokens\n",
    "        return_tensors=\"pt\",     # 返回 PyTorch 张量\n",
    "        return_attention_mask=True  # 生成 attention mask\n",
    "    )\n",
    "\n",
    "    df[\"Encoded Text\"] = encoded_inputs[\"input_ids\"].tolist()  # 转换为列表存入 DataFrame\n",
    "    df[\"Attention Mask\"] = encoded_inputs[\"attention_mask\"].tolist()  # 存 attention_mask\n",
    "    \n",
    "    return encoded_inputs[\"input_ids\"], encoded_inputs[\"attention_mask\"]\n"
   ],
   "outputs": [],
   "execution_count": 99
  },
  {
   "cell_type": "code",
   "metadata": {
    "ExecuteTime": {
     "end_time": "2025-07-31T15:17:53.379076Z",
     "start_time": "2025-07-31T15:17:50.073745Z"
    }
   },
   "source": [
    "X, attention_mask = tokenization_padding(df)\n",
    "X"
   ],
   "outputs": [
    {
     "data": {
      "text/plain": [
       "tensor([[  101,  9733,  3443,  ...,     0,     0,     0],\n",
       "        [  101, 16216,  2015,  ...,     0,     0,     0],\n",
       "        [  101, 27166,  4334,  ...,     0,     0,     0],\n",
       "        ...,\n",
       "        [  101, 11265,  2595,  ...,     0,     0,     0],\n",
       "        [  101, 20118, 12610,  ...,     0,     0,     0],\n",
       "        [  101,  3534, 28619,  ...,     0,     0,     0]])"
      ]
     },
     "execution_count": 100,
     "metadata": {},
     "output_type": "execute_result"
    }
   ],
   "execution_count": 100
  },
  {
   "cell_type": "code",
   "metadata": {
    "ExecuteTime": {
     "end_time": "2025-07-31T15:17:53.469729Z",
     "start_time": "2025-07-31T15:17:53.467247Z"
    }
   },
   "source": [
    "X.shape"
   ],
   "outputs": [
    {
     "data": {
      "text/plain": [
       "torch.Size([11656, 512])"
      ]
     },
     "execution_count": 101,
     "metadata": {},
     "output_type": "execute_result"
    }
   ],
   "execution_count": 101
  },
  {
   "cell_type": "code",
   "metadata": {
    "ExecuteTime": {
     "end_time": "2025-07-31T15:17:53.500112Z",
     "start_time": "2025-07-31T15:17:53.495410Z"
    }
   },
   "source": [
    "# Let's define a Python Function that performs tokenization and padding to text data in DataFrames\n",
    "def tokenization_padding(df):\n",
    "\n",
    "    # Use Python List Comprehension to tokenize every row in the Pandas DataFrame \"df\" \n",
    "    df['Encoded Text'] = [tokenizer.encode(news) for news in df['Cleaned Text'].tolist()]\n",
    "\n",
    "    # Convert data into tensors using List Comprehension and then perform Zero-Padding to ensure that data has the same length\n",
    "    encoded_news_tensor = [torch.tensor(encoded_news) for encoded_news in df['Encoded Text'].tolist()]\n",
    "    padded_sequence = pad_sequence(encoded_news_tensor, batch_first = True, padding_value = 0).numpy()\n",
    "\n",
    "    return padded_sequence"
   ],
   "outputs": [],
   "execution_count": 102
  },
  {
   "cell_type": "code",
   "metadata": {
    "ExecuteTime": {
     "end_time": "2025-07-31T15:17:54.196121Z",
     "start_time": "2025-07-31T15:17:53.598398Z"
    }
   },
   "source": [
    "X = tokenization_padding(df)\n",
    "X"
   ],
   "outputs": [
    {
     "data": {
      "text/plain": [
       "array([[  101,  9733,  3443, ...,     0,     0,     0],\n",
       "       [  101, 16216,  2015, ...,     0,     0,     0],\n",
       "       [  101, 27166,  4334, ...,     0,     0,     0],\n",
       "       ...,\n",
       "       [  101, 11265,  2595, ...,     0,     0,     0],\n",
       "       [  101, 20118, 12610, ...,     0,     0,     0],\n",
       "       [  101,  3534, 28619, ...,     0,     0,     0]])"
      ]
     },
     "execution_count": 103,
     "metadata": {},
     "output_type": "execute_result"
    }
   ],
   "execution_count": 103
  },
  {
   "cell_type": "code",
   "metadata": {
    "ExecuteTime": {
     "end_time": "2025-07-31T15:17:54.229708Z",
     "start_time": "2025-07-31T15:17:54.227510Z"
    }
   },
   "source": [
    "# X, attention_mask = tokenization_padding(df)  # 确保这里是正确的\n",
    "# print(f\"X shape: {X.shape}, attention_mask shape: {attention_mask.shape}\")"
   ],
   "outputs": [],
   "execution_count": 104
  },
  {
   "cell_type": "code",
   "metadata": {
    "ExecuteTime": {
     "end_time": "2025-07-31T15:17:54.272519Z",
     "start_time": "2025-07-31T15:17:54.261017Z"
    }
   },
   "source": [
    "df"
   ],
   "outputs": [
    {
     "data": {
      "text/plain": [
       "                                                                                                                 Text  \\\n",
       "0                                    Amazon to create 500 new jobs in Mississippi as it builds new fulfillment center   \n",
       "1      GE's stock rises 1% premarket, set to trade above $13 for 1st time in regular-session hours since October 2018   \n",
       "2                                                      CN Rail Strike Begins, Threatening Canada Oil, Grain Shipments   \n",
       "3                                        Hong Kong Airlines to cut 400 jobs, ask employees to take unpaid leave: SCMP   \n",
       "4                          3 Top-Performing Mutual Funds to Consider for Your Retirement Portfolio- February 07, 2020   \n",
       "...                                                                                                               ...   \n",
       "11651     A record 449,553 Illinois residents sign up for Affordable Care Act insurance, amid uncertainty over future   \n",
       "11652                                     The Los Angeles Fires Will Put California’s New Insurance Rules to the Test   \n",
       "11653  NexPoint Real Estate Finance, Inc. Enters into Assignment Agreement with The Ohio State Life Insurance Company   \n",
       "11654         AO Buzzard Agency Introduces Financial Services with Transparent, Lifetime-Coverage Insurance Solutions   \n",
       "11655                       Pacific Palisades wildfires may spell an end to cheap homeowners’ insurance in California   \n",
       "\n",
       "       Label  \\\n",
       "0          2   \n",
       "1          2   \n",
       "2          0   \n",
       "3          0   \n",
       "4          1   \n",
       "...      ...   \n",
       "11651      1   \n",
       "11652      1   \n",
       "11653      1   \n",
       "11654      1   \n",
       "11655      1   \n",
       "\n",
       "                                                                                           Cleaned Text  \\\n",
       "0                                  amazon create 500 new jobs mississippi builds new fulfillment center   \n",
       "1             ges stock rises 1 premarket set trade 13 1st time regularsession hours since october 2018   \n",
       "2                                          cn rail strike begins threatening canada oil grain shipments   \n",
       "3                                  hong kong airlines cut 400 jobs ask employees take unpaid leave scmp   \n",
       "4                           3 topperforming mutual funds consider retirement portfolio february 07 2020   \n",
       "...                                                                                                 ...   \n",
       "11651       record 449553 illinois residents sign affordable care act insurance amid uncertainty future   \n",
       "11652                                        los angeles fires put californias new insurance rules test   \n",
       "11653    nexpoint real estate finance inc enters assignment agreement ohio state life insurance company   \n",
       "11654  ao buzzard agency introduces financial services transparent lifetimecoverage insurance solutions   \n",
       "11655                   pacific palisades wildfires may spell end cheap homeowners insurance california   \n",
       "\n",
       "                                                                                                                                 Encoded Text  \\\n",
       "0                                                                    [101, 9733, 3443, 3156, 2047, 5841, 5900, 16473, 2047, 29362, 2415, 102]   \n",
       "1      [101, 16216, 2015, 4518, 9466, 1015, 26563, 17007, 3388, 2275, 3119, 2410, 3083, 2051, 24945, 7971, 3258, 2847, 2144, 2255, 2760, 102]   \n",
       "2                                                                          [101, 27166, 4334, 4894, 4269, 8701, 2710, 3514, 8982, 24636, 102]   \n",
       "3                                                   [101, 4291, 4290, 7608, 3013, 4278, 5841, 3198, 5126, 2202, 23850, 2681, 8040, 8737, 102]   \n",
       "4                                                 [101, 1017, 2327, 4842, 14192, 2075, 8203, 5029, 5136, 5075, 11103, 2337, 5718, 12609, 102]   \n",
       "...                                                                                                                                       ...   \n",
       "11651                                [101, 2501, 4008, 2683, 24087, 2509, 4307, 3901, 3696, 15184, 2729, 2552, 5427, 13463, 12503, 2925, 102]   \n",
       "11652                                                                  [101, 3050, 3349, 8769, 2404, 2662, 2015, 2047, 5427, 3513, 3231, 102]   \n",
       "11653                                   [101, 11265, 2595, 8400, 2613, 3776, 5446, 4297, 8039, 8775, 3820, 4058, 2110, 2166, 5427, 2194, 102]   \n",
       "11654                                     [101, 20118, 12610, 4232, 4034, 13999, 3361, 2578, 13338, 6480, 3597, 26061, 3351, 5427, 7300, 102]   \n",
       "11655                                [101, 3534, 28619, 3736, 6155, 3748, 26332, 2089, 6297, 2203, 10036, 2188, 12384, 2545, 5427, 2662, 102]   \n",
       "\n",
       "                                                                                                                                                                                                                                                                                                          Attention Mask  \n",
       "0      [1, 1, 1, 1, 1, 1, 1, 1, 1, 1, 1, 1, 0, 0, 0, 0, 0, 0, 0, 0, 0, 0, 0, 0, 0, 0, 0, 0, 0, 0, 0, 0, 0, 0, 0, 0, 0, 0, 0, 0, 0, 0, 0, 0, 0, 0, 0, 0, 0, 0, 0, 0, 0, 0, 0, 0, 0, 0, 0, 0, 0, 0, 0, 0, 0, 0, 0, 0, 0, 0, 0, 0, 0, 0, 0, 0, 0, 0, 0, 0, 0, 0, 0, 0, 0, 0, 0, 0, 0, 0, 0, 0, 0, 0, 0, 0, 0, 0, 0, 0, ...]  \n",
       "1      [1, 1, 1, 1, 1, 1, 1, 1, 1, 1, 1, 1, 1, 1, 1, 1, 1, 1, 1, 1, 1, 1, 0, 0, 0, 0, 0, 0, 0, 0, 0, 0, 0, 0, 0, 0, 0, 0, 0, 0, 0, 0, 0, 0, 0, 0, 0, 0, 0, 0, 0, 0, 0, 0, 0, 0, 0, 0, 0, 0, 0, 0, 0, 0, 0, 0, 0, 0, 0, 0, 0, 0, 0, 0, 0, 0, 0, 0, 0, 0, 0, 0, 0, 0, 0, 0, 0, 0, 0, 0, 0, 0, 0, 0, 0, 0, 0, 0, 0, 0, ...]  \n",
       "2      [1, 1, 1, 1, 1, 1, 1, 1, 1, 1, 1, 0, 0, 0, 0, 0, 0, 0, 0, 0, 0, 0, 0, 0, 0, 0, 0, 0, 0, 0, 0, 0, 0, 0, 0, 0, 0, 0, 0, 0, 0, 0, 0, 0, 0, 0, 0, 0, 0, 0, 0, 0, 0, 0, 0, 0, 0, 0, 0, 0, 0, 0, 0, 0, 0, 0, 0, 0, 0, 0, 0, 0, 0, 0, 0, 0, 0, 0, 0, 0, 0, 0, 0, 0, 0, 0, 0, 0, 0, 0, 0, 0, 0, 0, 0, 0, 0, 0, 0, 0, ...]  \n",
       "3      [1, 1, 1, 1, 1, 1, 1, 1, 1, 1, 1, 1, 1, 1, 1, 0, 0, 0, 0, 0, 0, 0, 0, 0, 0, 0, 0, 0, 0, 0, 0, 0, 0, 0, 0, 0, 0, 0, 0, 0, 0, 0, 0, 0, 0, 0, 0, 0, 0, 0, 0, 0, 0, 0, 0, 0, 0, 0, 0, 0, 0, 0, 0, 0, 0, 0, 0, 0, 0, 0, 0, 0, 0, 0, 0, 0, 0, 0, 0, 0, 0, 0, 0, 0, 0, 0, 0, 0, 0, 0, 0, 0, 0, 0, 0, 0, 0, 0, 0, 0, ...]  \n",
       "4      [1, 1, 1, 1, 1, 1, 1, 1, 1, 1, 1, 1, 1, 1, 1, 0, 0, 0, 0, 0, 0, 0, 0, 0, 0, 0, 0, 0, 0, 0, 0, 0, 0, 0, 0, 0, 0, 0, 0, 0, 0, 0, 0, 0, 0, 0, 0, 0, 0, 0, 0, 0, 0, 0, 0, 0, 0, 0, 0, 0, 0, 0, 0, 0, 0, 0, 0, 0, 0, 0, 0, 0, 0, 0, 0, 0, 0, 0, 0, 0, 0, 0, 0, 0, 0, 0, 0, 0, 0, 0, 0, 0, 0, 0, 0, 0, 0, 0, 0, 0, ...]  \n",
       "...                                                                                                                                                                                                                                                                                                                  ...  \n",
       "11651  [1, 1, 1, 1, 1, 1, 1, 1, 1, 1, 1, 1, 1, 1, 1, 1, 1, 0, 0, 0, 0, 0, 0, 0, 0, 0, 0, 0, 0, 0, 0, 0, 0, 0, 0, 0, 0, 0, 0, 0, 0, 0, 0, 0, 0, 0, 0, 0, 0, 0, 0, 0, 0, 0, 0, 0, 0, 0, 0, 0, 0, 0, 0, 0, 0, 0, 0, 0, 0, 0, 0, 0, 0, 0, 0, 0, 0, 0, 0, 0, 0, 0, 0, 0, 0, 0, 0, 0, 0, 0, 0, 0, 0, 0, 0, 0, 0, 0, 0, 0, ...]  \n",
       "11652  [1, 1, 1, 1, 1, 1, 1, 1, 1, 1, 1, 1, 0, 0, 0, 0, 0, 0, 0, 0, 0, 0, 0, 0, 0, 0, 0, 0, 0, 0, 0, 0, 0, 0, 0, 0, 0, 0, 0, 0, 0, 0, 0, 0, 0, 0, 0, 0, 0, 0, 0, 0, 0, 0, 0, 0, 0, 0, 0, 0, 0, 0, 0, 0, 0, 0, 0, 0, 0, 0, 0, 0, 0, 0, 0, 0, 0, 0, 0, 0, 0, 0, 0, 0, 0, 0, 0, 0, 0, 0, 0, 0, 0, 0, 0, 0, 0, 0, 0, 0, ...]  \n",
       "11653  [1, 1, 1, 1, 1, 1, 1, 1, 1, 1, 1, 1, 1, 1, 1, 1, 1, 0, 0, 0, 0, 0, 0, 0, 0, 0, 0, 0, 0, 0, 0, 0, 0, 0, 0, 0, 0, 0, 0, 0, 0, 0, 0, 0, 0, 0, 0, 0, 0, 0, 0, 0, 0, 0, 0, 0, 0, 0, 0, 0, 0, 0, 0, 0, 0, 0, 0, 0, 0, 0, 0, 0, 0, 0, 0, 0, 0, 0, 0, 0, 0, 0, 0, 0, 0, 0, 0, 0, 0, 0, 0, 0, 0, 0, 0, 0, 0, 0, 0, 0, ...]  \n",
       "11654  [1, 1, 1, 1, 1, 1, 1, 1, 1, 1, 1, 1, 1, 1, 1, 1, 0, 0, 0, 0, 0, 0, 0, 0, 0, 0, 0, 0, 0, 0, 0, 0, 0, 0, 0, 0, 0, 0, 0, 0, 0, 0, 0, 0, 0, 0, 0, 0, 0, 0, 0, 0, 0, 0, 0, 0, 0, 0, 0, 0, 0, 0, 0, 0, 0, 0, 0, 0, 0, 0, 0, 0, 0, 0, 0, 0, 0, 0, 0, 0, 0, 0, 0, 0, 0, 0, 0, 0, 0, 0, 0, 0, 0, 0, 0, 0, 0, 0, 0, 0, ...]  \n",
       "11655  [1, 1, 1, 1, 1, 1, 1, 1, 1, 1, 1, 1, 1, 1, 1, 1, 1, 0, 0, 0, 0, 0, 0, 0, 0, 0, 0, 0, 0, 0, 0, 0, 0, 0, 0, 0, 0, 0, 0, 0, 0, 0, 0, 0, 0, 0, 0, 0, 0, 0, 0, 0, 0, 0, 0, 0, 0, 0, 0, 0, 0, 0, 0, 0, 0, 0, 0, 0, 0, 0, 0, 0, 0, 0, 0, 0, 0, 0, 0, 0, 0, 0, 0, 0, 0, 0, 0, 0, 0, 0, 0, 0, 0, 0, 0, 0, 0, 0, 0, 0, ...]  \n",
       "\n",
       "[11656 rows x 5 columns]"
      ],
      "text/html": [
       "<div>\n",
       "<style scoped>\n",
       "    .dataframe tbody tr th:only-of-type {\n",
       "        vertical-align: middle;\n",
       "    }\n",
       "\n",
       "    .dataframe tbody tr th {\n",
       "        vertical-align: top;\n",
       "    }\n",
       "\n",
       "    .dataframe thead th {\n",
       "        text-align: right;\n",
       "    }\n",
       "</style>\n",
       "<table border=\"1\" class=\"dataframe\">\n",
       "  <thead>\n",
       "    <tr style=\"text-align: right;\">\n",
       "      <th></th>\n",
       "      <th>Text</th>\n",
       "      <th>Label</th>\n",
       "      <th>Cleaned Text</th>\n",
       "      <th>Encoded Text</th>\n",
       "      <th>Attention Mask</th>\n",
       "    </tr>\n",
       "  </thead>\n",
       "  <tbody>\n",
       "    <tr>\n",
       "      <th>0</th>\n",
       "      <td>Amazon to create 500 new jobs in Mississippi as it builds new fulfillment center</td>\n",
       "      <td>2</td>\n",
       "      <td>amazon create 500 new jobs mississippi builds new fulfillment center</td>\n",
       "      <td>[101, 9733, 3443, 3156, 2047, 5841, 5900, 16473, 2047, 29362, 2415, 102]</td>\n",
       "      <td>[1, 1, 1, 1, 1, 1, 1, 1, 1, 1, 1, 1, 0, 0, 0, 0, 0, 0, 0, 0, 0, 0, 0, 0, 0, 0, 0, 0, 0, 0, 0, 0, 0, 0, 0, 0, 0, 0, 0, 0, 0, 0, 0, 0, 0, 0, 0, 0, 0, 0, 0, 0, 0, 0, 0, 0, 0, 0, 0, 0, 0, 0, 0, 0, 0, 0, 0, 0, 0, 0, 0, 0, 0, 0, 0, 0, 0, 0, 0, 0, 0, 0, 0, 0, 0, 0, 0, 0, 0, 0, 0, 0, 0, 0, 0, 0, 0, 0, 0, 0, ...]</td>\n",
       "    </tr>\n",
       "    <tr>\n",
       "      <th>1</th>\n",
       "      <td>GE's stock rises 1% premarket, set to trade above $13 for 1st time in regular-session hours since October 2018</td>\n",
       "      <td>2</td>\n",
       "      <td>ges stock rises 1 premarket set trade 13 1st time regularsession hours since october 2018</td>\n",
       "      <td>[101, 16216, 2015, 4518, 9466, 1015, 26563, 17007, 3388, 2275, 3119, 2410, 3083, 2051, 24945, 7971, 3258, 2847, 2144, 2255, 2760, 102]</td>\n",
       "      <td>[1, 1, 1, 1, 1, 1, 1, 1, 1, 1, 1, 1, 1, 1, 1, 1, 1, 1, 1, 1, 1, 1, 0, 0, 0, 0, 0, 0, 0, 0, 0, 0, 0, 0, 0, 0, 0, 0, 0, 0, 0, 0, 0, 0, 0, 0, 0, 0, 0, 0, 0, 0, 0, 0, 0, 0, 0, 0, 0, 0, 0, 0, 0, 0, 0, 0, 0, 0, 0, 0, 0, 0, 0, 0, 0, 0, 0, 0, 0, 0, 0, 0, 0, 0, 0, 0, 0, 0, 0, 0, 0, 0, 0, 0, 0, 0, 0, 0, 0, 0, ...]</td>\n",
       "    </tr>\n",
       "    <tr>\n",
       "      <th>2</th>\n",
       "      <td>CN Rail Strike Begins, Threatening Canada Oil, Grain Shipments</td>\n",
       "      <td>0</td>\n",
       "      <td>cn rail strike begins threatening canada oil grain shipments</td>\n",
       "      <td>[101, 27166, 4334, 4894, 4269, 8701, 2710, 3514, 8982, 24636, 102]</td>\n",
       "      <td>[1, 1, 1, 1, 1, 1, 1, 1, 1, 1, 1, 0, 0, 0, 0, 0, 0, 0, 0, 0, 0, 0, 0, 0, 0, 0, 0, 0, 0, 0, 0, 0, 0, 0, 0, 0, 0, 0, 0, 0, 0, 0, 0, 0, 0, 0, 0, 0, 0, 0, 0, 0, 0, 0, 0, 0, 0, 0, 0, 0, 0, 0, 0, 0, 0, 0, 0, 0, 0, 0, 0, 0, 0, 0, 0, 0, 0, 0, 0, 0, 0, 0, 0, 0, 0, 0, 0, 0, 0, 0, 0, 0, 0, 0, 0, 0, 0, 0, 0, 0, ...]</td>\n",
       "    </tr>\n",
       "    <tr>\n",
       "      <th>3</th>\n",
       "      <td>Hong Kong Airlines to cut 400 jobs, ask employees to take unpaid leave: SCMP</td>\n",
       "      <td>0</td>\n",
       "      <td>hong kong airlines cut 400 jobs ask employees take unpaid leave scmp</td>\n",
       "      <td>[101, 4291, 4290, 7608, 3013, 4278, 5841, 3198, 5126, 2202, 23850, 2681, 8040, 8737, 102]</td>\n",
       "      <td>[1, 1, 1, 1, 1, 1, 1, 1, 1, 1, 1, 1, 1, 1, 1, 0, 0, 0, 0, 0, 0, 0, 0, 0, 0, 0, 0, 0, 0, 0, 0, 0, 0, 0, 0, 0, 0, 0, 0, 0, 0, 0, 0, 0, 0, 0, 0, 0, 0, 0, 0, 0, 0, 0, 0, 0, 0, 0, 0, 0, 0, 0, 0, 0, 0, 0, 0, 0, 0, 0, 0, 0, 0, 0, 0, 0, 0, 0, 0, 0, 0, 0, 0, 0, 0, 0, 0, 0, 0, 0, 0, 0, 0, 0, 0, 0, 0, 0, 0, 0, ...]</td>\n",
       "    </tr>\n",
       "    <tr>\n",
       "      <th>4</th>\n",
       "      <td>3 Top-Performing Mutual Funds to Consider for Your Retirement Portfolio- February 07, 2020</td>\n",
       "      <td>1</td>\n",
       "      <td>3 topperforming mutual funds consider retirement portfolio february 07 2020</td>\n",
       "      <td>[101, 1017, 2327, 4842, 14192, 2075, 8203, 5029, 5136, 5075, 11103, 2337, 5718, 12609, 102]</td>\n",
       "      <td>[1, 1, 1, 1, 1, 1, 1, 1, 1, 1, 1, 1, 1, 1, 1, 0, 0, 0, 0, 0, 0, 0, 0, 0, 0, 0, 0, 0, 0, 0, 0, 0, 0, 0, 0, 0, 0, 0, 0, 0, 0, 0, 0, 0, 0, 0, 0, 0, 0, 0, 0, 0, 0, 0, 0, 0, 0, 0, 0, 0, 0, 0, 0, 0, 0, 0, 0, 0, 0, 0, 0, 0, 0, 0, 0, 0, 0, 0, 0, 0, 0, 0, 0, 0, 0, 0, 0, 0, 0, 0, 0, 0, 0, 0, 0, 0, 0, 0, 0, 0, ...]</td>\n",
       "    </tr>\n",
       "    <tr>\n",
       "      <th>...</th>\n",
       "      <td>...</td>\n",
       "      <td>...</td>\n",
       "      <td>...</td>\n",
       "      <td>...</td>\n",
       "      <td>...</td>\n",
       "    </tr>\n",
       "    <tr>\n",
       "      <th>11651</th>\n",
       "      <td>A record 449,553 Illinois residents sign up for Affordable Care Act insurance, amid uncertainty over future</td>\n",
       "      <td>1</td>\n",
       "      <td>record 449553 illinois residents sign affordable care act insurance amid uncertainty future</td>\n",
       "      <td>[101, 2501, 4008, 2683, 24087, 2509, 4307, 3901, 3696, 15184, 2729, 2552, 5427, 13463, 12503, 2925, 102]</td>\n",
       "      <td>[1, 1, 1, 1, 1, 1, 1, 1, 1, 1, 1, 1, 1, 1, 1, 1, 1, 0, 0, 0, 0, 0, 0, 0, 0, 0, 0, 0, 0, 0, 0, 0, 0, 0, 0, 0, 0, 0, 0, 0, 0, 0, 0, 0, 0, 0, 0, 0, 0, 0, 0, 0, 0, 0, 0, 0, 0, 0, 0, 0, 0, 0, 0, 0, 0, 0, 0, 0, 0, 0, 0, 0, 0, 0, 0, 0, 0, 0, 0, 0, 0, 0, 0, 0, 0, 0, 0, 0, 0, 0, 0, 0, 0, 0, 0, 0, 0, 0, 0, 0, ...]</td>\n",
       "    </tr>\n",
       "    <tr>\n",
       "      <th>11652</th>\n",
       "      <td>The Los Angeles Fires Will Put California’s New Insurance Rules to the Test</td>\n",
       "      <td>1</td>\n",
       "      <td>los angeles fires put californias new insurance rules test</td>\n",
       "      <td>[101, 3050, 3349, 8769, 2404, 2662, 2015, 2047, 5427, 3513, 3231, 102]</td>\n",
       "      <td>[1, 1, 1, 1, 1, 1, 1, 1, 1, 1, 1, 1, 0, 0, 0, 0, 0, 0, 0, 0, 0, 0, 0, 0, 0, 0, 0, 0, 0, 0, 0, 0, 0, 0, 0, 0, 0, 0, 0, 0, 0, 0, 0, 0, 0, 0, 0, 0, 0, 0, 0, 0, 0, 0, 0, 0, 0, 0, 0, 0, 0, 0, 0, 0, 0, 0, 0, 0, 0, 0, 0, 0, 0, 0, 0, 0, 0, 0, 0, 0, 0, 0, 0, 0, 0, 0, 0, 0, 0, 0, 0, 0, 0, 0, 0, 0, 0, 0, 0, 0, ...]</td>\n",
       "    </tr>\n",
       "    <tr>\n",
       "      <th>11653</th>\n",
       "      <td>NexPoint Real Estate Finance, Inc. Enters into Assignment Agreement with The Ohio State Life Insurance Company</td>\n",
       "      <td>1</td>\n",
       "      <td>nexpoint real estate finance inc enters assignment agreement ohio state life insurance company</td>\n",
       "      <td>[101, 11265, 2595, 8400, 2613, 3776, 5446, 4297, 8039, 8775, 3820, 4058, 2110, 2166, 5427, 2194, 102]</td>\n",
       "      <td>[1, 1, 1, 1, 1, 1, 1, 1, 1, 1, 1, 1, 1, 1, 1, 1, 1, 0, 0, 0, 0, 0, 0, 0, 0, 0, 0, 0, 0, 0, 0, 0, 0, 0, 0, 0, 0, 0, 0, 0, 0, 0, 0, 0, 0, 0, 0, 0, 0, 0, 0, 0, 0, 0, 0, 0, 0, 0, 0, 0, 0, 0, 0, 0, 0, 0, 0, 0, 0, 0, 0, 0, 0, 0, 0, 0, 0, 0, 0, 0, 0, 0, 0, 0, 0, 0, 0, 0, 0, 0, 0, 0, 0, 0, 0, 0, 0, 0, 0, 0, ...]</td>\n",
       "    </tr>\n",
       "    <tr>\n",
       "      <th>11654</th>\n",
       "      <td>AO Buzzard Agency Introduces Financial Services with Transparent, Lifetime-Coverage Insurance Solutions</td>\n",
       "      <td>1</td>\n",
       "      <td>ao buzzard agency introduces financial services transparent lifetimecoverage insurance solutions</td>\n",
       "      <td>[101, 20118, 12610, 4232, 4034, 13999, 3361, 2578, 13338, 6480, 3597, 26061, 3351, 5427, 7300, 102]</td>\n",
       "      <td>[1, 1, 1, 1, 1, 1, 1, 1, 1, 1, 1, 1, 1, 1, 1, 1, 0, 0, 0, 0, 0, 0, 0, 0, 0, 0, 0, 0, 0, 0, 0, 0, 0, 0, 0, 0, 0, 0, 0, 0, 0, 0, 0, 0, 0, 0, 0, 0, 0, 0, 0, 0, 0, 0, 0, 0, 0, 0, 0, 0, 0, 0, 0, 0, 0, 0, 0, 0, 0, 0, 0, 0, 0, 0, 0, 0, 0, 0, 0, 0, 0, 0, 0, 0, 0, 0, 0, 0, 0, 0, 0, 0, 0, 0, 0, 0, 0, 0, 0, 0, ...]</td>\n",
       "    </tr>\n",
       "    <tr>\n",
       "      <th>11655</th>\n",
       "      <td>Pacific Palisades wildfires may spell an end to cheap homeowners’ insurance in California</td>\n",
       "      <td>1</td>\n",
       "      <td>pacific palisades wildfires may spell end cheap homeowners insurance california</td>\n",
       "      <td>[101, 3534, 28619, 3736, 6155, 3748, 26332, 2089, 6297, 2203, 10036, 2188, 12384, 2545, 5427, 2662, 102]</td>\n",
       "      <td>[1, 1, 1, 1, 1, 1, 1, 1, 1, 1, 1, 1, 1, 1, 1, 1, 1, 0, 0, 0, 0, 0, 0, 0, 0, 0, 0, 0, 0, 0, 0, 0, 0, 0, 0, 0, 0, 0, 0, 0, 0, 0, 0, 0, 0, 0, 0, 0, 0, 0, 0, 0, 0, 0, 0, 0, 0, 0, 0, 0, 0, 0, 0, 0, 0, 0, 0, 0, 0, 0, 0, 0, 0, 0, 0, 0, 0, 0, 0, 0, 0, 0, 0, 0, 0, 0, 0, 0, 0, 0, 0, 0, 0, 0, 0, 0, 0, 0, 0, 0, ...]</td>\n",
       "    </tr>\n",
       "  </tbody>\n",
       "</table>\n",
       "<p>11656 rows × 5 columns</p>\n",
       "</div>"
      ]
     },
     "execution_count": 105,
     "metadata": {},
     "output_type": "execute_result"
    }
   ],
   "execution_count": 105
  },
  {
   "cell_type": "code",
   "metadata": {
    "ExecuteTime": {
     "end_time": "2025-07-31T15:17:54.343119Z",
     "start_time": "2025-07-31T15:17:54.339036Z"
    }
   },
   "source": [
    "y = df['Label'] \n",
    "y"
   ],
   "outputs": [
    {
     "data": {
      "text/plain": [
       "0        2\n",
       "1        2\n",
       "2        0\n",
       "3        0\n",
       "4        1\n",
       "        ..\n",
       "11651    1\n",
       "11652    1\n",
       "11653    1\n",
       "11654    1\n",
       "11655    1\n",
       "Name: Label, Length: 11656, dtype: int64"
      ]
     },
     "execution_count": 106,
     "metadata": {},
     "output_type": "execute_result"
    }
   ],
   "execution_count": 106
  },
  {
   "cell_type": "code",
   "metadata": {
    "ExecuteTime": {
     "end_time": "2025-07-31T15:17:54.415783Z",
     "start_time": "2025-07-31T15:17:54.407432Z"
    }
   },
   "source": [
    "from sklearn.model_selection import train_test_split\n",
    "X_train, X_test, y_train, y_test = train_test_split(X, y, test_size = 0.4, shuffle = False)\n",
    "X_test, X_val, y_test, y_val = train_test_split(X_test, y_test, test_size = 0.5, shuffle = False)"
   ],
   "outputs": [],
   "execution_count": 107
  },
  {
   "cell_type": "code",
   "metadata": {
    "ExecuteTime": {
     "end_time": "2025-07-31T15:17:54.492102Z",
     "start_time": "2025-07-31T15:17:54.489690Z"
    }
   },
   "source": [
    "print(X_train.shape)\n",
    "print(X_test.shape)\n",
    "print(X_val.shape)\n",
    "\n",
    "print(y_train.shape)\n",
    "print(y_test.shape)\n",
    "print(y_val.shape)"
   ],
   "outputs": [
    {
     "name": "stdout",
     "output_type": "stream",
     "text": [
      "(6993, 61)\n",
      "(2331, 61)\n",
      "(2332, 61)\n",
      "(6993,)\n",
      "(2331,)\n",
      "(2332,)\n"
     ]
    }
   ],
   "execution_count": 108
  },
  {
   "metadata": {},
   "cell_type": "code",
   "outputs": [],
   "execution_count": null,
   "source": ""
  },
  {
   "metadata": {},
   "cell_type": "markdown",
   "source": "# TEST USING FinBERT MODEL"
  },
  {
   "metadata": {
    "ExecuteTime": {
     "end_time": "2025-07-31T14:06:42.350768Z",
     "start_time": "2025-07-31T14:06:42.295420Z"
    }
   },
   "cell_type": "code",
   "source": [
    "# 序列长度统计\n",
    "df[\"len_ids\"]  = df[\"Encoded Text\"].apply(lambda x: len(ast.literal_eval(x)) if isinstance(x, str) else len(x))\n",
    "df[\"len_mask\"] = df[\"Attention Mask\"].apply(lambda x: len(ast.literal_eval(x)) if isinstance(x, str) else len(x))\n",
    "print(df[[\"len_ids\", \"len_mask\"]].describe())\n"
   ],
   "outputs": [
    {
     "name": "stdout",
     "output_type": "stream",
     "text": [
      "            len_ids  len_mask\n",
      "count  11656.000000   11656.0\n",
      "mean      17.772735     512.0\n",
      "std        7.995575       0.0\n",
      "min        2.000000     512.0\n",
      "25%       11.000000     512.0\n",
      "50%       16.000000     512.0\n",
      "75%       24.000000     512.0\n",
      "max       61.000000     512.0\n"
     ]
    }
   ],
   "execution_count": 68
  },
  {
   "metadata": {
    "ExecuteTime": {
     "end_time": "2025-07-31T16:48:43.222623Z",
     "start_time": "2025-07-31T16:43:44.239476Z"
    }
   },
   "cell_type": "code",
   "source": [
    "from dotenv import load_dotenv\n",
    "import os\n",
    "load_dotenv()  # 默认读取 .env 文件\n",
    "\n",
    "import torch, pandas as pd\n",
    "from transformers import AutoTokenizer, AutoModelForSequenceClassification\n",
    "\n",
    "# ========= 1. 加载本地模型 & 分词器 =========\n",
    "MODEL_DIR = os.getenv(\"MODEL_DIR\")    # ← 换成你的绝对路径\n",
    "device    = torch.device(\"cuda\" if torch.cuda.is_available() else \"cpu\")\n",
    "\n",
    "tokenizer = AutoTokenizer.from_pretrained(MODEL_DIR, local_files_only=True)\n",
    "model     = AutoModelForSequenceClassification.from_pretrained(\n",
    "    MODEL_DIR, local_files_only=True\n",
    ").to(device).eval()\n",
    "\n",
    "id2label = {2: \"positive\", 1: \"neutral\", 0: \"negative\"}\n",
    "\n",
    "# ========= 2. 推理函数 =========\n",
    "@torch.no_grad()\n",
    "def finbert_predict_from_text(\n",
    "    df: pd.DataFrame,\n",
    "    text_col: str = \"Text\",        # 原始文本列名\n",
    "    batch_size: int = 32,\n",
    "    max_len: int = 128,            # 保险起见，可调到 512\n",
    "):\n",
    "    \"\"\"在 df 中新增 finbert_pred / finbert_pred_label 两列并返回 df\"\"\"\n",
    "    # --- 编码 ---\n",
    "    enc = tokenizer(\n",
    "        df[text_col].tolist(),\n",
    "        padding=True,\n",
    "        truncation=True,\n",
    "        max_length=max_len,\n",
    "        return_tensors=\"pt\",\n",
    "    )\n",
    "\n",
    "    # --- DataLoader ---\n",
    "    dataset = torch.utils.data.TensorDataset(enc[\"input_ids\"], enc[\"attention_mask\"])\n",
    "    loader  = torch.utils.data.DataLoader(dataset, batch_size=batch_size)\n",
    "\n",
    "    preds = []\n",
    "    for input_ids, attention_mask in loader:\n",
    "        input_ids, attention_mask = input_ids.to(device), attention_mask.to(device)\n",
    "        logits = model(input_ids=input_ids, attention_mask=attention_mask).logits\n",
    "        preds.extend(logits.argmax(dim=-1).cpu().tolist())\n",
    "\n",
    "    # --- 写回结果 ---\n",
    "    df[\"finbert_pred\"]       = preds\n",
    "    df[\"finbert_pred_label\"] = df[\"finbert_pred\"].map(id2label)\n",
    "    return df\n",
    "\n",
    "# ========= 3. 例子 =========\n",
    "\n",
    "    # ⚠️ 这里只做演示：自行替换为你的 DataFrame\n",
    "if __name__ == \"__main__\":\n",
    "    # 这里不再造 demo，直接使用已存在的 df\n",
    "    # 确保 df 已经加载且包含 'text' 列\n",
    "    df = finbert_predict_from_text(df, text_col=\"Text\")\n",
    "\n"
   ],
   "outputs": [],
   "execution_count": 118
  },
  {
   "metadata": {
    "ExecuteTime": {
     "end_time": "2025-07-31T16:49:07.240937Z",
     "start_time": "2025-07-31T16:49:07.210836Z"
    }
   },
   "cell_type": "code",
   "source": "df",
   "outputs": [
    {
     "data": {
      "text/plain": [
       "                                                                                                                 Text  \\\n",
       "0                                    Amazon to create 500 new jobs in Mississippi as it builds new fulfillment center   \n",
       "1      GE's stock rises 1% premarket, set to trade above $13 for 1st time in regular-session hours since October 2018   \n",
       "2                                                      CN Rail Strike Begins, Threatening Canada Oil, Grain Shipments   \n",
       "3                                        Hong Kong Airlines to cut 400 jobs, ask employees to take unpaid leave: SCMP   \n",
       "4                          3 Top-Performing Mutual Funds to Consider for Your Retirement Portfolio- February 07, 2020   \n",
       "...                                                                                                               ...   \n",
       "11651     A record 449,553 Illinois residents sign up for Affordable Care Act insurance, amid uncertainty over future   \n",
       "11652                                     The Los Angeles Fires Will Put California’s New Insurance Rules to the Test   \n",
       "11653  NexPoint Real Estate Finance, Inc. Enters into Assignment Agreement with The Ohio State Life Insurance Company   \n",
       "11654         AO Buzzard Agency Introduces Financial Services with Transparent, Lifetime-Coverage Insurance Solutions   \n",
       "11655                       Pacific Palisades wildfires may spell an end to cheap homeowners’ insurance in California   \n",
       "\n",
       "       Label  \\\n",
       "0          2   \n",
       "1          2   \n",
       "2          0   \n",
       "3          0   \n",
       "4          1   \n",
       "...      ...   \n",
       "11651      1   \n",
       "11652      1   \n",
       "11653      1   \n",
       "11654      1   \n",
       "11655      1   \n",
       "\n",
       "                                                                                           Cleaned Text  \\\n",
       "0                                  amazon create 500 new jobs mississippi builds new fulfillment center   \n",
       "1             ges stock rises 1 premarket set trade 13 1st time regularsession hours since october 2018   \n",
       "2                                          cn rail strike begins threatening canada oil grain shipments   \n",
       "3                                  hong kong airlines cut 400 jobs ask employees take unpaid leave scmp   \n",
       "4                           3 topperforming mutual funds consider retirement portfolio february 07 2020   \n",
       "...                                                                                                 ...   \n",
       "11651       record 449553 illinois residents sign affordable care act insurance amid uncertainty future   \n",
       "11652                                        los angeles fires put californias new insurance rules test   \n",
       "11653    nexpoint real estate finance inc enters assignment agreement ohio state life insurance company   \n",
       "11654  ao buzzard agency introduces financial services transparent lifetimecoverage insurance solutions   \n",
       "11655                   pacific palisades wildfires may spell end cheap homeowners insurance california   \n",
       "\n",
       "                                                                                                                                 Encoded Text  \\\n",
       "0                                                                    [101, 9733, 3443, 3156, 2047, 5841, 5900, 16473, 2047, 29362, 2415, 102]   \n",
       "1      [101, 16216, 2015, 4518, 9466, 1015, 26563, 17007, 3388, 2275, 3119, 2410, 3083, 2051, 24945, 7971, 3258, 2847, 2144, 2255, 2760, 102]   \n",
       "2                                                                          [101, 27166, 4334, 4894, 4269, 8701, 2710, 3514, 8982, 24636, 102]   \n",
       "3                                                   [101, 4291, 4290, 7608, 3013, 4278, 5841, 3198, 5126, 2202, 23850, 2681, 8040, 8737, 102]   \n",
       "4                                                 [101, 1017, 2327, 4842, 14192, 2075, 8203, 5029, 5136, 5075, 11103, 2337, 5718, 12609, 102]   \n",
       "...                                                                                                                                       ...   \n",
       "11651                                [101, 2501, 4008, 2683, 24087, 2509, 4307, 3901, 3696, 15184, 2729, 2552, 5427, 13463, 12503, 2925, 102]   \n",
       "11652                                                                  [101, 3050, 3349, 8769, 2404, 2662, 2015, 2047, 5427, 3513, 3231, 102]   \n",
       "11653                                   [101, 11265, 2595, 8400, 2613, 3776, 5446, 4297, 8039, 8775, 3820, 4058, 2110, 2166, 5427, 2194, 102]   \n",
       "11654                                     [101, 20118, 12610, 4232, 4034, 13999, 3361, 2578, 13338, 6480, 3597, 26061, 3351, 5427, 7300, 102]   \n",
       "11655                                [101, 3534, 28619, 3736, 6155, 3748, 26332, 2089, 6297, 2203, 10036, 2188, 12384, 2545, 5427, 2662, 102]   \n",
       "\n",
       "                                                                                                                                                                                                                                                                                                          Attention Mask  \\\n",
       "0      [1, 1, 1, 1, 1, 1, 1, 1, 1, 1, 1, 1, 0, 0, 0, 0, 0, 0, 0, 0, 0, 0, 0, 0, 0, 0, 0, 0, 0, 0, 0, 0, 0, 0, 0, 0, 0, 0, 0, 0, 0, 0, 0, 0, 0, 0, 0, 0, 0, 0, 0, 0, 0, 0, 0, 0, 0, 0, 0, 0, 0, 0, 0, 0, 0, 0, 0, 0, 0, 0, 0, 0, 0, 0, 0, 0, 0, 0, 0, 0, 0, 0, 0, 0, 0, 0, 0, 0, 0, 0, 0, 0, 0, 0, 0, 0, 0, 0, 0, 0, ...]   \n",
       "1      [1, 1, 1, 1, 1, 1, 1, 1, 1, 1, 1, 1, 1, 1, 1, 1, 1, 1, 1, 1, 1, 1, 0, 0, 0, 0, 0, 0, 0, 0, 0, 0, 0, 0, 0, 0, 0, 0, 0, 0, 0, 0, 0, 0, 0, 0, 0, 0, 0, 0, 0, 0, 0, 0, 0, 0, 0, 0, 0, 0, 0, 0, 0, 0, 0, 0, 0, 0, 0, 0, 0, 0, 0, 0, 0, 0, 0, 0, 0, 0, 0, 0, 0, 0, 0, 0, 0, 0, 0, 0, 0, 0, 0, 0, 0, 0, 0, 0, 0, 0, ...]   \n",
       "2      [1, 1, 1, 1, 1, 1, 1, 1, 1, 1, 1, 0, 0, 0, 0, 0, 0, 0, 0, 0, 0, 0, 0, 0, 0, 0, 0, 0, 0, 0, 0, 0, 0, 0, 0, 0, 0, 0, 0, 0, 0, 0, 0, 0, 0, 0, 0, 0, 0, 0, 0, 0, 0, 0, 0, 0, 0, 0, 0, 0, 0, 0, 0, 0, 0, 0, 0, 0, 0, 0, 0, 0, 0, 0, 0, 0, 0, 0, 0, 0, 0, 0, 0, 0, 0, 0, 0, 0, 0, 0, 0, 0, 0, 0, 0, 0, 0, 0, 0, 0, ...]   \n",
       "3      [1, 1, 1, 1, 1, 1, 1, 1, 1, 1, 1, 1, 1, 1, 1, 0, 0, 0, 0, 0, 0, 0, 0, 0, 0, 0, 0, 0, 0, 0, 0, 0, 0, 0, 0, 0, 0, 0, 0, 0, 0, 0, 0, 0, 0, 0, 0, 0, 0, 0, 0, 0, 0, 0, 0, 0, 0, 0, 0, 0, 0, 0, 0, 0, 0, 0, 0, 0, 0, 0, 0, 0, 0, 0, 0, 0, 0, 0, 0, 0, 0, 0, 0, 0, 0, 0, 0, 0, 0, 0, 0, 0, 0, 0, 0, 0, 0, 0, 0, 0, ...]   \n",
       "4      [1, 1, 1, 1, 1, 1, 1, 1, 1, 1, 1, 1, 1, 1, 1, 0, 0, 0, 0, 0, 0, 0, 0, 0, 0, 0, 0, 0, 0, 0, 0, 0, 0, 0, 0, 0, 0, 0, 0, 0, 0, 0, 0, 0, 0, 0, 0, 0, 0, 0, 0, 0, 0, 0, 0, 0, 0, 0, 0, 0, 0, 0, 0, 0, 0, 0, 0, 0, 0, 0, 0, 0, 0, 0, 0, 0, 0, 0, 0, 0, 0, 0, 0, 0, 0, 0, 0, 0, 0, 0, 0, 0, 0, 0, 0, 0, 0, 0, 0, 0, ...]   \n",
       "...                                                                                                                                                                                                                                                                                                                  ...   \n",
       "11651  [1, 1, 1, 1, 1, 1, 1, 1, 1, 1, 1, 1, 1, 1, 1, 1, 1, 0, 0, 0, 0, 0, 0, 0, 0, 0, 0, 0, 0, 0, 0, 0, 0, 0, 0, 0, 0, 0, 0, 0, 0, 0, 0, 0, 0, 0, 0, 0, 0, 0, 0, 0, 0, 0, 0, 0, 0, 0, 0, 0, 0, 0, 0, 0, 0, 0, 0, 0, 0, 0, 0, 0, 0, 0, 0, 0, 0, 0, 0, 0, 0, 0, 0, 0, 0, 0, 0, 0, 0, 0, 0, 0, 0, 0, 0, 0, 0, 0, 0, 0, ...]   \n",
       "11652  [1, 1, 1, 1, 1, 1, 1, 1, 1, 1, 1, 1, 0, 0, 0, 0, 0, 0, 0, 0, 0, 0, 0, 0, 0, 0, 0, 0, 0, 0, 0, 0, 0, 0, 0, 0, 0, 0, 0, 0, 0, 0, 0, 0, 0, 0, 0, 0, 0, 0, 0, 0, 0, 0, 0, 0, 0, 0, 0, 0, 0, 0, 0, 0, 0, 0, 0, 0, 0, 0, 0, 0, 0, 0, 0, 0, 0, 0, 0, 0, 0, 0, 0, 0, 0, 0, 0, 0, 0, 0, 0, 0, 0, 0, 0, 0, 0, 0, 0, 0, ...]   \n",
       "11653  [1, 1, 1, 1, 1, 1, 1, 1, 1, 1, 1, 1, 1, 1, 1, 1, 1, 0, 0, 0, 0, 0, 0, 0, 0, 0, 0, 0, 0, 0, 0, 0, 0, 0, 0, 0, 0, 0, 0, 0, 0, 0, 0, 0, 0, 0, 0, 0, 0, 0, 0, 0, 0, 0, 0, 0, 0, 0, 0, 0, 0, 0, 0, 0, 0, 0, 0, 0, 0, 0, 0, 0, 0, 0, 0, 0, 0, 0, 0, 0, 0, 0, 0, 0, 0, 0, 0, 0, 0, 0, 0, 0, 0, 0, 0, 0, 0, 0, 0, 0, ...]   \n",
       "11654  [1, 1, 1, 1, 1, 1, 1, 1, 1, 1, 1, 1, 1, 1, 1, 1, 0, 0, 0, 0, 0, 0, 0, 0, 0, 0, 0, 0, 0, 0, 0, 0, 0, 0, 0, 0, 0, 0, 0, 0, 0, 0, 0, 0, 0, 0, 0, 0, 0, 0, 0, 0, 0, 0, 0, 0, 0, 0, 0, 0, 0, 0, 0, 0, 0, 0, 0, 0, 0, 0, 0, 0, 0, 0, 0, 0, 0, 0, 0, 0, 0, 0, 0, 0, 0, 0, 0, 0, 0, 0, 0, 0, 0, 0, 0, 0, 0, 0, 0, 0, ...]   \n",
       "11655  [1, 1, 1, 1, 1, 1, 1, 1, 1, 1, 1, 1, 1, 1, 1, 1, 1, 0, 0, 0, 0, 0, 0, 0, 0, 0, 0, 0, 0, 0, 0, 0, 0, 0, 0, 0, 0, 0, 0, 0, 0, 0, 0, 0, 0, 0, 0, 0, 0, 0, 0, 0, 0, 0, 0, 0, 0, 0, 0, 0, 0, 0, 0, 0, 0, 0, 0, 0, 0, 0, 0, 0, 0, 0, 0, 0, 0, 0, 0, 0, 0, 0, 0, 0, 0, 0, 0, 0, 0, 0, 0, 0, 0, 0, 0, 0, 0, 0, 0, 0, ...]   \n",
       "\n",
       "       finbert_pred finbert_pred_label  \n",
       "0                 0           negative  \n",
       "1                 0           negative  \n",
       "2                 1            neutral  \n",
       "3                 1            neutral  \n",
       "4                 2           positive  \n",
       "...             ...                ...  \n",
       "11651             0           negative  \n",
       "11652             2           positive  \n",
       "11653             0           negative  \n",
       "11654             2           positive  \n",
       "11655             1            neutral  \n",
       "\n",
       "[11656 rows x 7 columns]"
      ],
      "text/html": [
       "<div>\n",
       "<style scoped>\n",
       "    .dataframe tbody tr th:only-of-type {\n",
       "        vertical-align: middle;\n",
       "    }\n",
       "\n",
       "    .dataframe tbody tr th {\n",
       "        vertical-align: top;\n",
       "    }\n",
       "\n",
       "    .dataframe thead th {\n",
       "        text-align: right;\n",
       "    }\n",
       "</style>\n",
       "<table border=\"1\" class=\"dataframe\">\n",
       "  <thead>\n",
       "    <tr style=\"text-align: right;\">\n",
       "      <th></th>\n",
       "      <th>Text</th>\n",
       "      <th>Label</th>\n",
       "      <th>Cleaned Text</th>\n",
       "      <th>Encoded Text</th>\n",
       "      <th>Attention Mask</th>\n",
       "      <th>finbert_pred</th>\n",
       "      <th>finbert_pred_label</th>\n",
       "    </tr>\n",
       "  </thead>\n",
       "  <tbody>\n",
       "    <tr>\n",
       "      <th>0</th>\n",
       "      <td>Amazon to create 500 new jobs in Mississippi as it builds new fulfillment center</td>\n",
       "      <td>2</td>\n",
       "      <td>amazon create 500 new jobs mississippi builds new fulfillment center</td>\n",
       "      <td>[101, 9733, 3443, 3156, 2047, 5841, 5900, 16473, 2047, 29362, 2415, 102]</td>\n",
       "      <td>[1, 1, 1, 1, 1, 1, 1, 1, 1, 1, 1, 1, 0, 0, 0, 0, 0, 0, 0, 0, 0, 0, 0, 0, 0, 0, 0, 0, 0, 0, 0, 0, 0, 0, 0, 0, 0, 0, 0, 0, 0, 0, 0, 0, 0, 0, 0, 0, 0, 0, 0, 0, 0, 0, 0, 0, 0, 0, 0, 0, 0, 0, 0, 0, 0, 0, 0, 0, 0, 0, 0, 0, 0, 0, 0, 0, 0, 0, 0, 0, 0, 0, 0, 0, 0, 0, 0, 0, 0, 0, 0, 0, 0, 0, 0, 0, 0, 0, 0, 0, ...]</td>\n",
       "      <td>0</td>\n",
       "      <td>negative</td>\n",
       "    </tr>\n",
       "    <tr>\n",
       "      <th>1</th>\n",
       "      <td>GE's stock rises 1% premarket, set to trade above $13 for 1st time in regular-session hours since October 2018</td>\n",
       "      <td>2</td>\n",
       "      <td>ges stock rises 1 premarket set trade 13 1st time regularsession hours since october 2018</td>\n",
       "      <td>[101, 16216, 2015, 4518, 9466, 1015, 26563, 17007, 3388, 2275, 3119, 2410, 3083, 2051, 24945, 7971, 3258, 2847, 2144, 2255, 2760, 102]</td>\n",
       "      <td>[1, 1, 1, 1, 1, 1, 1, 1, 1, 1, 1, 1, 1, 1, 1, 1, 1, 1, 1, 1, 1, 1, 0, 0, 0, 0, 0, 0, 0, 0, 0, 0, 0, 0, 0, 0, 0, 0, 0, 0, 0, 0, 0, 0, 0, 0, 0, 0, 0, 0, 0, 0, 0, 0, 0, 0, 0, 0, 0, 0, 0, 0, 0, 0, 0, 0, 0, 0, 0, 0, 0, 0, 0, 0, 0, 0, 0, 0, 0, 0, 0, 0, 0, 0, 0, 0, 0, 0, 0, 0, 0, 0, 0, 0, 0, 0, 0, 0, 0, 0, ...]</td>\n",
       "      <td>0</td>\n",
       "      <td>negative</td>\n",
       "    </tr>\n",
       "    <tr>\n",
       "      <th>2</th>\n",
       "      <td>CN Rail Strike Begins, Threatening Canada Oil, Grain Shipments</td>\n",
       "      <td>0</td>\n",
       "      <td>cn rail strike begins threatening canada oil grain shipments</td>\n",
       "      <td>[101, 27166, 4334, 4894, 4269, 8701, 2710, 3514, 8982, 24636, 102]</td>\n",
       "      <td>[1, 1, 1, 1, 1, 1, 1, 1, 1, 1, 1, 0, 0, 0, 0, 0, 0, 0, 0, 0, 0, 0, 0, 0, 0, 0, 0, 0, 0, 0, 0, 0, 0, 0, 0, 0, 0, 0, 0, 0, 0, 0, 0, 0, 0, 0, 0, 0, 0, 0, 0, 0, 0, 0, 0, 0, 0, 0, 0, 0, 0, 0, 0, 0, 0, 0, 0, 0, 0, 0, 0, 0, 0, 0, 0, 0, 0, 0, 0, 0, 0, 0, 0, 0, 0, 0, 0, 0, 0, 0, 0, 0, 0, 0, 0, 0, 0, 0, 0, 0, ...]</td>\n",
       "      <td>1</td>\n",
       "      <td>neutral</td>\n",
       "    </tr>\n",
       "    <tr>\n",
       "      <th>3</th>\n",
       "      <td>Hong Kong Airlines to cut 400 jobs, ask employees to take unpaid leave: SCMP</td>\n",
       "      <td>0</td>\n",
       "      <td>hong kong airlines cut 400 jobs ask employees take unpaid leave scmp</td>\n",
       "      <td>[101, 4291, 4290, 7608, 3013, 4278, 5841, 3198, 5126, 2202, 23850, 2681, 8040, 8737, 102]</td>\n",
       "      <td>[1, 1, 1, 1, 1, 1, 1, 1, 1, 1, 1, 1, 1, 1, 1, 0, 0, 0, 0, 0, 0, 0, 0, 0, 0, 0, 0, 0, 0, 0, 0, 0, 0, 0, 0, 0, 0, 0, 0, 0, 0, 0, 0, 0, 0, 0, 0, 0, 0, 0, 0, 0, 0, 0, 0, 0, 0, 0, 0, 0, 0, 0, 0, 0, 0, 0, 0, 0, 0, 0, 0, 0, 0, 0, 0, 0, 0, 0, 0, 0, 0, 0, 0, 0, 0, 0, 0, 0, 0, 0, 0, 0, 0, 0, 0, 0, 0, 0, 0, 0, ...]</td>\n",
       "      <td>1</td>\n",
       "      <td>neutral</td>\n",
       "    </tr>\n",
       "    <tr>\n",
       "      <th>4</th>\n",
       "      <td>3 Top-Performing Mutual Funds to Consider for Your Retirement Portfolio- February 07, 2020</td>\n",
       "      <td>1</td>\n",
       "      <td>3 topperforming mutual funds consider retirement portfolio february 07 2020</td>\n",
       "      <td>[101, 1017, 2327, 4842, 14192, 2075, 8203, 5029, 5136, 5075, 11103, 2337, 5718, 12609, 102]</td>\n",
       "      <td>[1, 1, 1, 1, 1, 1, 1, 1, 1, 1, 1, 1, 1, 1, 1, 0, 0, 0, 0, 0, 0, 0, 0, 0, 0, 0, 0, 0, 0, 0, 0, 0, 0, 0, 0, 0, 0, 0, 0, 0, 0, 0, 0, 0, 0, 0, 0, 0, 0, 0, 0, 0, 0, 0, 0, 0, 0, 0, 0, 0, 0, 0, 0, 0, 0, 0, 0, 0, 0, 0, 0, 0, 0, 0, 0, 0, 0, 0, 0, 0, 0, 0, 0, 0, 0, 0, 0, 0, 0, 0, 0, 0, 0, 0, 0, 0, 0, 0, 0, 0, ...]</td>\n",
       "      <td>2</td>\n",
       "      <td>positive</td>\n",
       "    </tr>\n",
       "    <tr>\n",
       "      <th>...</th>\n",
       "      <td>...</td>\n",
       "      <td>...</td>\n",
       "      <td>...</td>\n",
       "      <td>...</td>\n",
       "      <td>...</td>\n",
       "      <td>...</td>\n",
       "      <td>...</td>\n",
       "    </tr>\n",
       "    <tr>\n",
       "      <th>11651</th>\n",
       "      <td>A record 449,553 Illinois residents sign up for Affordable Care Act insurance, amid uncertainty over future</td>\n",
       "      <td>1</td>\n",
       "      <td>record 449553 illinois residents sign affordable care act insurance amid uncertainty future</td>\n",
       "      <td>[101, 2501, 4008, 2683, 24087, 2509, 4307, 3901, 3696, 15184, 2729, 2552, 5427, 13463, 12503, 2925, 102]</td>\n",
       "      <td>[1, 1, 1, 1, 1, 1, 1, 1, 1, 1, 1, 1, 1, 1, 1, 1, 1, 0, 0, 0, 0, 0, 0, 0, 0, 0, 0, 0, 0, 0, 0, 0, 0, 0, 0, 0, 0, 0, 0, 0, 0, 0, 0, 0, 0, 0, 0, 0, 0, 0, 0, 0, 0, 0, 0, 0, 0, 0, 0, 0, 0, 0, 0, 0, 0, 0, 0, 0, 0, 0, 0, 0, 0, 0, 0, 0, 0, 0, 0, 0, 0, 0, 0, 0, 0, 0, 0, 0, 0, 0, 0, 0, 0, 0, 0, 0, 0, 0, 0, 0, ...]</td>\n",
       "      <td>0</td>\n",
       "      <td>negative</td>\n",
       "    </tr>\n",
       "    <tr>\n",
       "      <th>11652</th>\n",
       "      <td>The Los Angeles Fires Will Put California’s New Insurance Rules to the Test</td>\n",
       "      <td>1</td>\n",
       "      <td>los angeles fires put californias new insurance rules test</td>\n",
       "      <td>[101, 3050, 3349, 8769, 2404, 2662, 2015, 2047, 5427, 3513, 3231, 102]</td>\n",
       "      <td>[1, 1, 1, 1, 1, 1, 1, 1, 1, 1, 1, 1, 0, 0, 0, 0, 0, 0, 0, 0, 0, 0, 0, 0, 0, 0, 0, 0, 0, 0, 0, 0, 0, 0, 0, 0, 0, 0, 0, 0, 0, 0, 0, 0, 0, 0, 0, 0, 0, 0, 0, 0, 0, 0, 0, 0, 0, 0, 0, 0, 0, 0, 0, 0, 0, 0, 0, 0, 0, 0, 0, 0, 0, 0, 0, 0, 0, 0, 0, 0, 0, 0, 0, 0, 0, 0, 0, 0, 0, 0, 0, 0, 0, 0, 0, 0, 0, 0, 0, 0, ...]</td>\n",
       "      <td>2</td>\n",
       "      <td>positive</td>\n",
       "    </tr>\n",
       "    <tr>\n",
       "      <th>11653</th>\n",
       "      <td>NexPoint Real Estate Finance, Inc. Enters into Assignment Agreement with The Ohio State Life Insurance Company</td>\n",
       "      <td>1</td>\n",
       "      <td>nexpoint real estate finance inc enters assignment agreement ohio state life insurance company</td>\n",
       "      <td>[101, 11265, 2595, 8400, 2613, 3776, 5446, 4297, 8039, 8775, 3820, 4058, 2110, 2166, 5427, 2194, 102]</td>\n",
       "      <td>[1, 1, 1, 1, 1, 1, 1, 1, 1, 1, 1, 1, 1, 1, 1, 1, 1, 0, 0, 0, 0, 0, 0, 0, 0, 0, 0, 0, 0, 0, 0, 0, 0, 0, 0, 0, 0, 0, 0, 0, 0, 0, 0, 0, 0, 0, 0, 0, 0, 0, 0, 0, 0, 0, 0, 0, 0, 0, 0, 0, 0, 0, 0, 0, 0, 0, 0, 0, 0, 0, 0, 0, 0, 0, 0, 0, 0, 0, 0, 0, 0, 0, 0, 0, 0, 0, 0, 0, 0, 0, 0, 0, 0, 0, 0, 0, 0, 0, 0, 0, ...]</td>\n",
       "      <td>0</td>\n",
       "      <td>negative</td>\n",
       "    </tr>\n",
       "    <tr>\n",
       "      <th>11654</th>\n",
       "      <td>AO Buzzard Agency Introduces Financial Services with Transparent, Lifetime-Coverage Insurance Solutions</td>\n",
       "      <td>1</td>\n",
       "      <td>ao buzzard agency introduces financial services transparent lifetimecoverage insurance solutions</td>\n",
       "      <td>[101, 20118, 12610, 4232, 4034, 13999, 3361, 2578, 13338, 6480, 3597, 26061, 3351, 5427, 7300, 102]</td>\n",
       "      <td>[1, 1, 1, 1, 1, 1, 1, 1, 1, 1, 1, 1, 1, 1, 1, 1, 0, 0, 0, 0, 0, 0, 0, 0, 0, 0, 0, 0, 0, 0, 0, 0, 0, 0, 0, 0, 0, 0, 0, 0, 0, 0, 0, 0, 0, 0, 0, 0, 0, 0, 0, 0, 0, 0, 0, 0, 0, 0, 0, 0, 0, 0, 0, 0, 0, 0, 0, 0, 0, 0, 0, 0, 0, 0, 0, 0, 0, 0, 0, 0, 0, 0, 0, 0, 0, 0, 0, 0, 0, 0, 0, 0, 0, 0, 0, 0, 0, 0, 0, 0, ...]</td>\n",
       "      <td>2</td>\n",
       "      <td>positive</td>\n",
       "    </tr>\n",
       "    <tr>\n",
       "      <th>11655</th>\n",
       "      <td>Pacific Palisades wildfires may spell an end to cheap homeowners’ insurance in California</td>\n",
       "      <td>1</td>\n",
       "      <td>pacific palisades wildfires may spell end cheap homeowners insurance california</td>\n",
       "      <td>[101, 3534, 28619, 3736, 6155, 3748, 26332, 2089, 6297, 2203, 10036, 2188, 12384, 2545, 5427, 2662, 102]</td>\n",
       "      <td>[1, 1, 1, 1, 1, 1, 1, 1, 1, 1, 1, 1, 1, 1, 1, 1, 1, 0, 0, 0, 0, 0, 0, 0, 0, 0, 0, 0, 0, 0, 0, 0, 0, 0, 0, 0, 0, 0, 0, 0, 0, 0, 0, 0, 0, 0, 0, 0, 0, 0, 0, 0, 0, 0, 0, 0, 0, 0, 0, 0, 0, 0, 0, 0, 0, 0, 0, 0, 0, 0, 0, 0, 0, 0, 0, 0, 0, 0, 0, 0, 0, 0, 0, 0, 0, 0, 0, 0, 0, 0, 0, 0, 0, 0, 0, 0, 0, 0, 0, 0, ...]</td>\n",
       "      <td>1</td>\n",
       "      <td>neutral</td>\n",
       "    </tr>\n",
       "  </tbody>\n",
       "</table>\n",
       "<p>11656 rows × 7 columns</p>\n",
       "</div>"
      ]
     },
     "execution_count": 121,
     "metadata": {},
     "output_type": "execute_result"
    }
   ],
   "execution_count": 121
  },
  {
   "metadata": {
    "ExecuteTime": {
     "end_time": "2025-07-31T16:52:27.557242Z",
     "start_time": "2025-07-31T16:52:27.458570Z"
    }
   },
   "cell_type": "code",
   "source": [
    "import pandas as pd\n",
    "import seaborn as sns\n",
    "import matplotlib.pyplot as plt\n",
    "from sklearn.metrics import confusion_matrix, classification_report\n",
    "\n",
    "true_col   = \"Label\"\n",
    "pred_col   = \"finbert_pred\"\n",
    "label_ids  = [2, 1, 0]\n",
    "label_names = [\"negative\", \"neutral\", \"positive\"]\n",
    "\n",
    "# ----- 1. 混淆矩阵 -----\n",
    "cm = confusion_matrix(df[true_col], df[pred_col], labels=label_ids)\n",
    "\n",
    "plt.figure(figsize=(5, 5))\n",
    "sns.heatmap(\n",
    "    cm,\n",
    "    annot=True,\n",
    "    fmt=\"d\",\n",
    "    xticklabels=label_names,\n",
    "    yticklabels=label_names\n",
    ")\n",
    "plt.xlabel(\"Predicted\")\n",
    "plt.ylabel(\"True\")\n",
    "plt.title(\"Confusion Matrix\")\n",
    "plt.tight_layout()\n",
    "plt.show()\n",
    "\n",
    "# ----- 2. 精确率 / 召回率 / F1 -----\n",
    "report = classification_report(\n",
    "    df[true_col],\n",
    "    df[pred_col],\n",
    "    target_names=label_names,\n",
    "    digits=4\n",
    ")\n",
    "print(report)\n",
    "\n",
    "# 若想保存报告或图像，取消以下示例：\n",
    "# plt.savefig(\"confusion_matrix.png\", dpi=300)\n",
    "# with open(\"classification_report.txt\", \"w\") as f:\n",
    "#     f.write(report)\n"
   ],
   "outputs": [
    {
     "data": {
      "text/plain": [
       "<Figure size 500x500 with 2 Axes>"
      ],
      "image/png": "[encoded data removed]"
     },
     "metadata": {},
     "output_type": "display_data"
    },
    {
     "name": "stdout",
     "output_type": "stream",
     "text": [
      "              precision    recall  f1-score   support\n",
      "\n",
      "    negative     0.0365    0.0530    0.0432      1546\n",
      "     neutral     0.4756    0.1614    0.2411      8077\n",
      "    positive     0.0850    0.2789    0.1303      2033\n",
      "\n",
      "    accuracy                         0.1676     11656\n",
      "   macro avg     0.1990    0.1645    0.1382     11656\n",
      "weighted avg     0.3492    0.1676    0.1955     11656\n",
      "\n"
     ]
    }
   ],
   "execution_count": 127
  },
  {
   "metadata": {},
   "cell_type": "markdown",
   "source": "# TRAIN A LONG SHORT-TERM MEMORY (LSTM) NEURAL NETWORK"
  },
  {
   "metadata": {
    "ExecuteTime": {
     "end_time": "2025-07-31T17:19:09.308886Z",
     "start_time": "2025-07-31T17:19:09.283355Z"
    }
   },
   "cell_type": "code",
   "source": [
    "import os\n",
    "os.environ[\"TOKENIZERS_PARALLELISM\"] = \"false\"\n",
    "import tensorflow as tf\n",
    "from tensorflow import keras"
   ],
   "outputs": [],
   "execution_count": 128
  },
  {
   "cell_type": "code",
   "metadata": {
    "ExecuteTime": {
     "end_time": "2025-07-31T17:19:16.787115Z",
     "start_time": "2025-07-31T17:19:16.491734Z"
    }
   },
   "source": [
    "inputs = tf.keras.Input(shape = (X_train.shape[1],))\n",
    "\n",
    "\n",
    "x = tf.keras.layers.Embedding(input_dim = tokenizer.vocab_size,\n",
    "                              output_dim = 768,\n",
    "                              )(inputs)\n",
    "\n",
    "x = tf.keras.layers.LSTM(64, return_sequences = True, activation = 'tanh')(x)\n",
    "x = tf.keras.layers.Flatten()(x)\n",
    "\n",
    "outputs = tf.keras.layers.Dense(3, activation = 'softmax')(x)\n",
    "model = tf.keras.Model(inputs = inputs, outputs = outputs)\n"
   ],
   "outputs": [],
   "execution_count": 129
  },
  {
   "cell_type": "code",
   "metadata": {
    "ExecuteTime": {
     "end_time": "2025-07-31T17:19:19.685974Z",
     "start_time": "2025-07-31T17:19:19.657244Z"
    }
   },
   "source": [
    "model.compile(optimizer = 'adam', loss = 'sparse_categorical_crossentropy', metrics = ['accuracy'])"
   ],
   "outputs": [],
   "execution_count": 130
  },
  {
   "cell_type": "code",
   "metadata": {
    "ExecuteTime": {
     "end_time": "2025-07-31T17:19:20.761865Z",
     "start_time": "2025-07-31T17:19:20.743847Z"
    }
   },
   "source": [
    "model.summary()"
   ],
   "outputs": [
    {
     "data": {
      "text/plain": [
       "\u001B[1mModel: \"functional\"\u001B[0m\n"
      ],
      "text/html": [
       "<pre style=\"white-space:pre;overflow-x:auto;line-height:normal;font-family:Menlo,'DejaVu Sans Mono',consolas,'Courier New',monospace\"><span style=\"font-weight: bold\">Model: \"functional\"</span>\n",
       "</pre>\n"
      ]
     },
     "metadata": {},
     "output_type": "display_data"
    },
    {
     "data": {
      "text/plain": [
       "┏━━━━━━━━━━━━━━━━━━━━━━━━━━━━━━━━━┳━━━━━━━━━━━━━━━━━━━━━━━━┳━━━━━━━━━━━━━━━┓\n",
       "┃\u001B[1m \u001B[0m\u001B[1mLayer (type)                   \u001B[0m\u001B[1m \u001B[0m┃\u001B[1m \u001B[0m\u001B[1mOutput Shape          \u001B[0m\u001B[1m \u001B[0m┃\u001B[1m \u001B[0m\u001B[1m      Param #\u001B[0m\u001B[1m \u001B[0m┃\n",
       "┡━━━━━━━━━━━━━━━━━━━━━━━━━━━━━━━━━╇━━━━━━━━━━━━━━━━━━━━━━━━╇━━━━━━━━━━━━━━━┩\n",
       "│ input_layer (\u001B[38;5;33mInputLayer\u001B[0m)        │ (\u001B[38;5;45mNone\u001B[0m, \u001B[38;5;34m61\u001B[0m)             │             \u001B[38;5;34m0\u001B[0m │\n",
       "├─────────────────────────────────┼────────────────────────┼───────────────┤\n",
       "│ embedding (\u001B[38;5;33mEmbedding\u001B[0m)           │ (\u001B[38;5;45mNone\u001B[0m, \u001B[38;5;34m61\u001B[0m, \u001B[38;5;34m768\u001B[0m)        │    \u001B[38;5;34m23,440,896\u001B[0m │\n",
       "├─────────────────────────────────┼────────────────────────┼───────────────┤\n",
       "│ lstm (\u001B[38;5;33mLSTM\u001B[0m)                     │ (\u001B[38;5;45mNone\u001B[0m, \u001B[38;5;34m61\u001B[0m, \u001B[38;5;34m64\u001B[0m)         │       \u001B[38;5;34m213,248\u001B[0m │\n",
       "├─────────────────────────────────┼────────────────────────┼───────────────┤\n",
       "│ flatten (\u001B[38;5;33mFlatten\u001B[0m)               │ (\u001B[38;5;45mNone\u001B[0m, \u001B[38;5;34m3904\u001B[0m)           │             \u001B[38;5;34m0\u001B[0m │\n",
       "├─────────────────────────────────┼────────────────────────┼───────────────┤\n",
       "│ dense (\u001B[38;5;33mDense\u001B[0m)                   │ (\u001B[38;5;45mNone\u001B[0m, \u001B[38;5;34m3\u001B[0m)              │        \u001B[38;5;34m11,715\u001B[0m │\n",
       "└─────────────────────────────────┴────────────────────────┴───────────────┘\n"
      ],
      "text/html": [
       "<pre style=\"white-space:pre;overflow-x:auto;line-height:normal;font-family:Menlo,'DejaVu Sans Mono',consolas,'Courier New',monospace\">┏━━━━━━━━━━━━━━━━━━━━━━━━━━━━━━━━━┳━━━━━━━━━━━━━━━━━━━━━━━━┳━━━━━━━━━━━━━━━┓\n",
       "┃<span style=\"font-weight: bold\"> Layer (type)                    </span>┃<span style=\"font-weight: bold\"> Output Shape           </span>┃<span style=\"font-weight: bold\">       Param # </span>┃\n",
       "┡━━━━━━━━━━━━━━━━━━━━━━━━━━━━━━━━━╇━━━━━━━━━━━━━━━━━━━━━━━━╇━━━━━━━━━━━━━━━┩\n",
       "│ input_layer (<span style=\"color: #0087ff; text-decoration-color: #0087ff\">InputLayer</span>)        │ (<span style=\"color: #00d7ff; text-decoration-color: #00d7ff\">None</span>, <span style=\"color: #00af00; text-decoration-color: #00af00\">61</span>)             │             <span style=\"color: #00af00; text-decoration-color: #00af00\">0</span> │\n",
       "├─────────────────────────────────┼────────────────────────┼───────────────┤\n",
       "│ embedding (<span style=\"color: #0087ff; text-decoration-color: #0087ff\">Embedding</span>)           │ (<span style=\"color: #00d7ff; text-decoration-color: #00d7ff\">None</span>, <span style=\"color: #00af00; text-decoration-color: #00af00\">61</span>, <span style=\"color: #00af00; text-decoration-color: #00af00\">768</span>)        │    <span style=\"color: #00af00; text-decoration-color: #00af00\">23,440,896</span> │\n",
       "├─────────────────────────────────┼────────────────────────┼───────────────┤\n",
       "│ lstm (<span style=\"color: #0087ff; text-decoration-color: #0087ff\">LSTM</span>)                     │ (<span style=\"color: #00d7ff; text-decoration-color: #00d7ff\">None</span>, <span style=\"color: #00af00; text-decoration-color: #00af00\">61</span>, <span style=\"color: #00af00; text-decoration-color: #00af00\">64</span>)         │       <span style=\"color: #00af00; text-decoration-color: #00af00\">213,248</span> │\n",
       "├─────────────────────────────────┼────────────────────────┼───────────────┤\n",
       "│ flatten (<span style=\"color: #0087ff; text-decoration-color: #0087ff\">Flatten</span>)               │ (<span style=\"color: #00d7ff; text-decoration-color: #00d7ff\">None</span>, <span style=\"color: #00af00; text-decoration-color: #00af00\">3904</span>)           │             <span style=\"color: #00af00; text-decoration-color: #00af00\">0</span> │\n",
       "├─────────────────────────────────┼────────────────────────┼───────────────┤\n",
       "│ dense (<span style=\"color: #0087ff; text-decoration-color: #0087ff\">Dense</span>)                   │ (<span style=\"color: #00d7ff; text-decoration-color: #00d7ff\">None</span>, <span style=\"color: #00af00; text-decoration-color: #00af00\">3</span>)              │        <span style=\"color: #00af00; text-decoration-color: #00af00\">11,715</span> │\n",
       "└─────────────────────────────────┴────────────────────────┴───────────────┘\n",
       "</pre>\n"
      ]
     },
     "metadata": {},
     "output_type": "display_data"
    },
    {
     "data": {
      "text/plain": [
       "\u001B[1m Total params: \u001B[0m\u001B[38;5;34m23,665,859\u001B[0m (90.28 MB)\n"
      ],
      "text/html": [
       "<pre style=\"white-space:pre;overflow-x:auto;line-height:normal;font-family:Menlo,'DejaVu Sans Mono',consolas,'Courier New',monospace\"><span style=\"font-weight: bold\"> Total params: </span><span style=\"color: #00af00; text-decoration-color: #00af00\">23,665,859</span> (90.28 MB)\n",
       "</pre>\n"
      ]
     },
     "metadata": {},
     "output_type": "display_data"
    },
    {
     "data": {
      "text/plain": [
       "\u001B[1m Trainable params: \u001B[0m\u001B[38;5;34m23,665,859\u001B[0m (90.28 MB)\n"
      ],
      "text/html": [
       "<pre style=\"white-space:pre;overflow-x:auto;line-height:normal;font-family:Menlo,'DejaVu Sans Mono',consolas,'Courier New',monospace\"><span style=\"font-weight: bold\"> Trainable params: </span><span style=\"color: #00af00; text-decoration-color: #00af00\">23,665,859</span> (90.28 MB)\n",
       "</pre>\n"
      ]
     },
     "metadata": {},
     "output_type": "display_data"
    },
    {
     "data": {
      "text/plain": [
       "\u001B[1m Non-trainable params: \u001B[0m\u001B[38;5;34m0\u001B[0m (0.00 B)\n"
      ],
      "text/html": [
       "<pre style=\"white-space:pre;overflow-x:auto;line-height:normal;font-family:Menlo,'DejaVu Sans Mono',consolas,'Courier New',monospace\"><span style=\"font-weight: bold\"> Non-trainable params: </span><span style=\"color: #00af00; text-decoration-color: #00af00\">0</span> (0.00 B)\n",
       "</pre>\n"
      ]
     },
     "metadata": {},
     "output_type": "display_data"
    }
   ],
   "execution_count": 131
  },
  {
   "cell_type": "code",
   "metadata": {
    "ExecuteTime": {
     "end_time": "2025-07-31T17:20:51.756070Z",
     "start_time": "2025-07-31T17:19:26.529667Z"
    }
   },
   "source": [
    "history = model.fit(X_train,\n",
    "                    y_train,\n",
    "                    validation_data = (X_val, y_val),\n",
    "                    batch_size = 32,\n",
    "                    epochs = 3)"
   ],
   "outputs": [
    {
     "name": "stdout",
     "output_type": "stream",
     "text": [
      "Epoch 1/3\n",
      "\u001B[1m219/219\u001B[0m \u001B[32m━━━━━━━━━━━━━━━━━━━━\u001B[0m\u001B[37m\u001B[0m \u001B[1m28s\u001B[0m 122ms/step - accuracy: 0.6865 - loss: 0.8184 - val_accuracy: 0.8782 - val_loss: 0.4507\n",
      "Epoch 2/3\n",
      "\u001B[1m219/219\u001B[0m \u001B[32m━━━━━━━━━━━━━━━━━━━━\u001B[0m\u001B[37m\u001B[0m \u001B[1m28s\u001B[0m 128ms/step - accuracy: 0.8960 - loss: 0.2919 - val_accuracy: 0.8516 - val_loss: 0.4844\n",
      "Epoch 3/3\n",
      "\u001B[1m219/219\u001B[0m \u001B[32m━━━━━━━━━━━━━━━━━━━━\u001B[0m\u001B[37m\u001B[0m \u001B[1m29s\u001B[0m 134ms/step - accuracy: 0.9755 - loss: 0.0817 - val_accuracy: 0.8405 - val_loss: 0.7391\n"
     ]
    }
   ],
   "execution_count": 132
  },
  {
   "cell_type": "code",
   "metadata": {
    "ExecuteTime": {
     "end_time": "2025-07-31T17:20:52.543087Z",
     "start_time": "2025-07-31T17:20:52.345032Z"
    }
   },
   "source": [
    "model.save('lstm_model.keras')"
   ],
   "outputs": [],
   "execution_count": 134
  },
  {
   "cell_type": "code",
   "metadata": {
    "ExecuteTime": {
     "end_time": "2025-07-31T17:20:52.566590Z",
     "start_time": "2025-07-31T17:20:52.563736Z"
    }
   },
   "source": [
    "print(type(model))  # 检查模型类型"
   ],
   "outputs": [
    {
     "name": "stdout",
     "output_type": "stream",
     "text": [
      "<class 'keras.src.models.functional.Functional'>\n"
     ]
    }
   ],
   "execution_count": 135
  },
  {
   "cell_type": "markdown",
   "metadata": {},
   "source": [
    "# Evaluating"
   ]
  },
  {
   "cell_type": "code",
   "metadata": {
    "ExecuteTime": {
     "end_time": "2025-07-31T17:20:53.523737Z",
     "start_time": "2025-07-31T17:20:52.582680Z"
    }
   },
   "source": [
    "results = model.evaluate(X_test, y_test)"
   ],
   "outputs": [
    {
     "name": "stdout",
     "output_type": "stream",
     "text": [
      "\u001B[1m73/73\u001B[0m \u001B[32m━━━━━━━━━━━━━━━━━━━━\u001B[0m\u001B[37m\u001B[0m \u001B[1m1s\u001B[0m 12ms/step - accuracy: 0.7566 - loss: 0.9814\n"
     ]
    }
   ],
   "execution_count": 136
  },
  {
   "cell_type": "code",
   "metadata": {
    "ExecuteTime": {
     "end_time": "2025-07-31T17:20:53.539673Z",
     "start_time": "2025-07-31T17:20:53.536163Z"
    }
   },
   "source": [
    "print(\"Test Accuracy: {:.2f}%\".format(results[1] * 100))"
   ],
   "outputs": [
    {
     "name": "stdout",
     "output_type": "stream",
     "text": [
      "Test Accuracy: 76.19%\n"
     ]
    }
   ],
   "execution_count": 137
  },
  {
   "cell_type": "code",
   "metadata": {
    "ExecuteTime": {
     "end_time": "2025-07-31T17:20:54.694549Z",
     "start_time": "2025-07-31T17:20:53.553402Z"
    }
   },
   "source": [
    "from sklearn.metrics import f1_score, classification_report\n",
    "y_pred_prob = model.predict(X_test)  \n",
    "y_pred = y_pred_prob.argmax(axis=1)  \n",
    "f1 = f1_score(y_test, y_pred, average='weighted')\n",
    "print(f\"测试集上的 F1-Score: {f1:.4f}\")\n",
    "print(\"\\n分类报告：\")\n",
    "print(classification_report(y_test, y_pred, target_names=[\"Positive\", \"Neutral\", \"Negative\"]))"
   ],
   "outputs": [
    {
     "name": "stdout",
     "output_type": "stream",
     "text": [
      "\u001B[1m73/73\u001B[0m \u001B[32m━━━━━━━━━━━━━━━━━━━━\u001B[0m\u001B[37m\u001B[0m \u001B[1m1s\u001B[0m 14ms/step\n",
      "测试集上的 F1-Score: 0.7570\n",
      "\n",
      "分类报告：\n",
      "              precision    recall  f1-score   support\n",
      "\n",
      "    Positive       0.55      0.48      0.51       348\n",
      "     Neutral       0.83      0.88      0.85      1501\n",
      "    Negative       0.65      0.61      0.63       482\n",
      "\n",
      "    accuracy                           0.76      2331\n",
      "   macro avg       0.68      0.65      0.67      2331\n",
      "weighted avg       0.75      0.76      0.76      2331\n",
      "\n"
     ]
    }
   ],
   "execution_count": 138
  },
  {
   "cell_type": "code",
   "metadata": {
    "ExecuteTime": {
     "end_time": "2025-07-31T17:20:55.732689Z",
     "start_time": "2025-07-31T17:20:54.711445Z"
    }
   },
   "source": [
    "predictions = model.predict(X_test)\n",
    "predictions"
   ],
   "outputs": [
    {
     "name": "stdout",
     "output_type": "stream",
     "text": [
      "\u001B[1m73/73\u001B[0m \u001B[32m━━━━━━━━━━━━━━━━━━━━\u001B[0m\u001B[37m\u001B[0m \u001B[1m1s\u001B[0m 13ms/step\n"
     ]
    },
    {
     "data": {
      "text/plain": [
       "array([[3.8742023e-03, 9.9604893e-01, 7.6926714e-05],\n",
       "       [8.4537834e-07, 9.9999893e-01, 1.8388697e-07],\n",
       "       [1.6708318e-04, 5.2490039e-05, 9.9978048e-01],\n",
       "       ...,\n",
       "       [9.5193106e-04, 5.8042398e-04, 9.9846762e-01],\n",
       "       [4.3049343e-03, 9.7272599e-01, 2.2969050e-02],\n",
       "       [1.8945567e-01, 4.1707638e-01, 3.9346796e-01]], dtype=float32)"
      ]
     },
     "execution_count": 139,
     "metadata": {},
     "output_type": "execute_result"
    }
   ],
   "execution_count": 139
  },
  {
   "cell_type": "code",
   "metadata": {
    "scrolled": true,
    "ExecuteTime": {
     "end_time": "2025-07-31T17:20:55.781934Z",
     "start_time": "2025-07-31T17:20:55.771679Z"
    }
   },
   "source": [
    "import numpy as np\n",
    "y_predict = []\n",
    "for i in predictions:\n",
    "  y_predict.append(np.argmax(i))\n",
    "y_predict"
   ],
   "outputs": [
    {
     "data": {
      "text/plain": [
       "[1,\n",
       " 1,\n",
       " 2,\n",
       " 1,\n",
       " 1,\n",
       " 0,\n",
       " 1,\n",
       " 1,\n",
       " 2,\n",
       " 1,\n",
       " 2,\n",
       " 0,\n",
       " 1,\n",
       " 2,\n",
       " 2,\n",
       " 1,\n",
       " 1,\n",
       " 1,\n",
       " 0,\n",
       " 0,\n",
       " 0,\n",
       " 1,\n",
       " 1,\n",
       " 2,\n",
       " 0,\n",
       " 2,\n",
       " 1,\n",
       " 1,\n",
       " 1,\n",
       " 2,\n",
       " 2,\n",
       " 1,\n",
       " 2,\n",
       " 1,\n",
       " 1,\n",
       " 1,\n",
       " 1,\n",
       " 1,\n",
       " 1,\n",
       " 1,\n",
       " 1,\n",
       " 1,\n",
       " 1,\n",
       " 1,\n",
       " 1,\n",
       " 1,\n",
       " 1,\n",
       " 1,\n",
       " 1,\n",
       " 1,\n",
       " 1,\n",
       " 1,\n",
       " 0,\n",
       " 1,\n",
       " 1,\n",
       " 1,\n",
       " 1,\n",
       " 0,\n",
       " 0,\n",
       " 1,\n",
       " 2,\n",
       " 2,\n",
       " 1,\n",
       " 1,\n",
       " 0,\n",
       " 1,\n",
       " 1,\n",
       " 1,\n",
       " 1,\n",
       " 2,\n",
       " 0,\n",
       " 1,\n",
       " 1,\n",
       " 1,\n",
       " 1,\n",
       " 1,\n",
       " 2,\n",
       " 1,\n",
       " 2,\n",
       " 2,\n",
       " 1,\n",
       " 1,\n",
       " 1,\n",
       " 0,\n",
       " 1,\n",
       " 1,\n",
       " 1,\n",
       " 1,\n",
       " 0,\n",
       " 1,\n",
       " 1,\n",
       " 1,\n",
       " 2,\n",
       " 1,\n",
       " 1,\n",
       " 1,\n",
       " 1,\n",
       " 1,\n",
       " 1,\n",
       " 2,\n",
       " 0,\n",
       " 1,\n",
       " 0,\n",
       " 1,\n",
       " 2,\n",
       " 0,\n",
       " 1,\n",
       " 1,\n",
       " 1,\n",
       " 1,\n",
       " 1,\n",
       " 0,\n",
       " 1,\n",
       " 0,\n",
       " 1,\n",
       " 1,\n",
       " 1,\n",
       " 2,\n",
       " 1,\n",
       " 1,\n",
       " 2,\n",
       " 1,\n",
       " 2,\n",
       " 2,\n",
       " 2,\n",
       " 1,\n",
       " 0,\n",
       " 0,\n",
       " 1,\n",
       " 1,\n",
       " 1,\n",
       " 1,\n",
       " 0,\n",
       " 2,\n",
       " 1,\n",
       " 1,\n",
       " 2,\n",
       " 2,\n",
       " 1,\n",
       " 1,\n",
       " 1,\n",
       " 1,\n",
       " 0,\n",
       " 1,\n",
       " 0,\n",
       " 1,\n",
       " 0,\n",
       " 1,\n",
       " 1,\n",
       " 1,\n",
       " 2,\n",
       " 1,\n",
       " 0,\n",
       " 2,\n",
       " 2,\n",
       " 1,\n",
       " 2,\n",
       " 1,\n",
       " 1,\n",
       " 1,\n",
       " 1,\n",
       " 1,\n",
       " 1,\n",
       " 1,\n",
       " 1,\n",
       " 1,\n",
       " 1,\n",
       " 2,\n",
       " 1,\n",
       " 0,\n",
       " 1,\n",
       " 1,\n",
       " 1,\n",
       " 1,\n",
       " 1,\n",
       " 2,\n",
       " 1,\n",
       " 2,\n",
       " 1,\n",
       " 1,\n",
       " 2,\n",
       " 1,\n",
       " 2,\n",
       " 1,\n",
       " 1,\n",
       " 1,\n",
       " 1,\n",
       " 1,\n",
       " 2,\n",
       " 2,\n",
       " 1,\n",
       " 2,\n",
       " 1,\n",
       " 1,\n",
       " 2,\n",
       " 1,\n",
       " 1,\n",
       " 1,\n",
       " 0,\n",
       " 1,\n",
       " 1,\n",
       " 1,\n",
       " 1,\n",
       " 1,\n",
       " 1,\n",
       " 0,\n",
       " 1,\n",
       " 1,\n",
       " 0,\n",
       " 1,\n",
       " 1,\n",
       " 1,\n",
       " 2,\n",
       " 2,\n",
       " 1,\n",
       " 0,\n",
       " 1,\n",
       " 1,\n",
       " 1,\n",
       " 1,\n",
       " 1,\n",
       " 1,\n",
       " 1,\n",
       " 1,\n",
       " 2,\n",
       " 1,\n",
       " 0,\n",
       " 2,\n",
       " 0,\n",
       " 1,\n",
       " 1,\n",
       " 2,\n",
       " 1,\n",
       " 1,\n",
       " 1,\n",
       " 0,\n",
       " 0,\n",
       " 1,\n",
       " 1,\n",
       " 1,\n",
       " 1,\n",
       " 2,\n",
       " 1,\n",
       " 1,\n",
       " 1,\n",
       " 1,\n",
       " 0,\n",
       " 1,\n",
       " 1,\n",
       " 1,\n",
       " 1,\n",
       " 1,\n",
       " 2,\n",
       " 1,\n",
       " 1,\n",
       " 1,\n",
       " 1,\n",
       " 1,\n",
       " 2,\n",
       " 1,\n",
       " 1,\n",
       " 2,\n",
       " 1,\n",
       " 1,\n",
       " 0,\n",
       " 0,\n",
       " 1,\n",
       " 2,\n",
       " 1,\n",
       " 1,\n",
       " 1,\n",
       " 1,\n",
       " 0,\n",
       " 1,\n",
       " 1,\n",
       " 1,\n",
       " 1,\n",
       " 1,\n",
       " 1,\n",
       " 0,\n",
       " 0,\n",
       " 1,\n",
       " 2,\n",
       " 1,\n",
       " 1,\n",
       " 0,\n",
       " 1,\n",
       " 0,\n",
       " 0,\n",
       " 0,\n",
       " 1,\n",
       " 1,\n",
       " 2,\n",
       " 1,\n",
       " 1,\n",
       " 2,\n",
       " 1,\n",
       " 1,\n",
       " 0,\n",
       " 1,\n",
       " 2,\n",
       " 1,\n",
       " 2,\n",
       " 2,\n",
       " 1,\n",
       " 1,\n",
       " 0,\n",
       " 1,\n",
       " 1,\n",
       " 1,\n",
       " 1,\n",
       " 1,\n",
       " 1,\n",
       " 1,\n",
       " 1,\n",
       " 1,\n",
       " 0,\n",
       " 1,\n",
       " 1,\n",
       " 2,\n",
       " 1,\n",
       " 1,\n",
       " 1,\n",
       " 2,\n",
       " 1,\n",
       " 1,\n",
       " 1,\n",
       " 0,\n",
       " 2,\n",
       " 1,\n",
       " 1,\n",
       " 1,\n",
       " 1,\n",
       " 1,\n",
       " 1,\n",
       " 1,\n",
       " 1,\n",
       " 1,\n",
       " 1,\n",
       " 1,\n",
       " 1,\n",
       " 1,\n",
       " 1,\n",
       " 1,\n",
       " 1,\n",
       " 1,\n",
       " 1,\n",
       " 1,\n",
       " 1,\n",
       " 0,\n",
       " 2,\n",
       " 1,\n",
       " 0,\n",
       " 1,\n",
       " 1,\n",
       " 2,\n",
       " 1,\n",
       " 1,\n",
       " 1,\n",
       " 0,\n",
       " 1,\n",
       " 2,\n",
       " 0,\n",
       " 2,\n",
       " 1,\n",
       " 1,\n",
       " 1,\n",
       " 2,\n",
       " 2,\n",
       " 1,\n",
       " 2,\n",
       " 1,\n",
       " 1,\n",
       " 1,\n",
       " 1,\n",
       " 1,\n",
       " 1,\n",
       " 1,\n",
       " 1,\n",
       " 2,\n",
       " 1,\n",
       " 1,\n",
       " 2,\n",
       " 2,\n",
       " 2,\n",
       " 0,\n",
       " 1,\n",
       " 1,\n",
       " 2,\n",
       " 1,\n",
       " 0,\n",
       " 2,\n",
       " 1,\n",
       " 0,\n",
       " 2,\n",
       " 1,\n",
       " 1,\n",
       " 1,\n",
       " 0,\n",
       " 1,\n",
       " 2,\n",
       " 2,\n",
       " 1,\n",
       " 1,\n",
       " 1,\n",
       " 1,\n",
       " 1,\n",
       " 2,\n",
       " 0,\n",
       " 1,\n",
       " 1,\n",
       " 0,\n",
       " 1,\n",
       " 1,\n",
       " 1,\n",
       " 0,\n",
       " 0,\n",
       " 2,\n",
       " 2,\n",
       " 1,\n",
       " 1,\n",
       " 1,\n",
       " 2,\n",
       " 1,\n",
       " 0,\n",
       " 1,\n",
       " 1,\n",
       " 2,\n",
       " 1,\n",
       " 2,\n",
       " 1,\n",
       " 1,\n",
       " 1,\n",
       " 0,\n",
       " 1,\n",
       " 1,\n",
       " 2,\n",
       " 1,\n",
       " 1,\n",
       " 1,\n",
       " 0,\n",
       " 1,\n",
       " 0,\n",
       " 0,\n",
       " 0,\n",
       " 2,\n",
       " 0,\n",
       " 1,\n",
       " 1,\n",
       " 2,\n",
       " 1,\n",
       " 2,\n",
       " 1,\n",
       " 1,\n",
       " 1,\n",
       " 1,\n",
       " 1,\n",
       " 1,\n",
       " 1,\n",
       " 1,\n",
       " 1,\n",
       " 2,\n",
       " 1,\n",
       " 1,\n",
       " 1,\n",
       " 1,\n",
       " 1,\n",
       " 1,\n",
       " 1,\n",
       " 1,\n",
       " 1,\n",
       " 1,\n",
       " 2,\n",
       " 2,\n",
       " 1,\n",
       " 2,\n",
       " 1,\n",
       " 1,\n",
       " 2,\n",
       " 1,\n",
       " 1,\n",
       " 1,\n",
       " 1,\n",
       " 0,\n",
       " 2,\n",
       " 1,\n",
       " 1,\n",
       " 0,\n",
       " 1,\n",
       " 1,\n",
       " 1,\n",
       " 1,\n",
       " 1,\n",
       " 1,\n",
       " 1,\n",
       " 0,\n",
       " 1,\n",
       " 0,\n",
       " 1,\n",
       " 0,\n",
       " 2,\n",
       " 0,\n",
       " 2,\n",
       " 1,\n",
       " 1,\n",
       " 1,\n",
       " 1,\n",
       " 1,\n",
       " 1,\n",
       " 1,\n",
       " 1,\n",
       " 1,\n",
       " 2,\n",
       " 1,\n",
       " 1,\n",
       " 1,\n",
       " 2,\n",
       " 2,\n",
       " 2,\n",
       " 1,\n",
       " 2,\n",
       " 1,\n",
       " 1,\n",
       " 1,\n",
       " 2,\n",
       " 2,\n",
       " 1,\n",
       " 1,\n",
       " 1,\n",
       " 1,\n",
       " 1,\n",
       " 2,\n",
       " 0,\n",
       " 1,\n",
       " 1,\n",
       " 2,\n",
       " 2,\n",
       " 1,\n",
       " 1,\n",
       " 1,\n",
       " 2,\n",
       " 2,\n",
       " 2,\n",
       " 2,\n",
       " 1,\n",
       " 1,\n",
       " 1,\n",
       " 1,\n",
       " 1,\n",
       " 1,\n",
       " 2,\n",
       " 1,\n",
       " 1,\n",
       " 0,\n",
       " 1,\n",
       " 1,\n",
       " 1,\n",
       " 1,\n",
       " 1,\n",
       " 1,\n",
       " 1,\n",
       " 1,\n",
       " 2,\n",
       " 1,\n",
       " 1,\n",
       " 0,\n",
       " 1,\n",
       " 0,\n",
       " 0,\n",
       " 1,\n",
       " 1,\n",
       " 1,\n",
       " 2,\n",
       " 1,\n",
       " 1,\n",
       " 1,\n",
       " 1,\n",
       " 1,\n",
       " 1,\n",
       " 1,\n",
       " 1,\n",
       " 1,\n",
       " 1,\n",
       " 1,\n",
       " 1,\n",
       " 1,\n",
       " 2,\n",
       " 1,\n",
       " 1,\n",
       " 1,\n",
       " 1,\n",
       " 0,\n",
       " 1,\n",
       " 1,\n",
       " 1,\n",
       " 1,\n",
       " 0,\n",
       " 2,\n",
       " 0,\n",
       " 1,\n",
       " 1,\n",
       " 0,\n",
       " 1,\n",
       " 1,\n",
       " 0,\n",
       " 2,\n",
       " 1,\n",
       " 1,\n",
       " 0,\n",
       " 1,\n",
       " 1,\n",
       " 1,\n",
       " 0,\n",
       " 1,\n",
       " 2,\n",
       " 2,\n",
       " 1,\n",
       " 2,\n",
       " 1,\n",
       " 1,\n",
       " 1,\n",
       " 1,\n",
       " 1,\n",
       " 1,\n",
       " 1,\n",
       " 1,\n",
       " 0,\n",
       " 1,\n",
       " 1,\n",
       " 2,\n",
       " 2,\n",
       " 1,\n",
       " 1,\n",
       " 1,\n",
       " 1,\n",
       " 1,\n",
       " 1,\n",
       " 1,\n",
       " 1,\n",
       " 0,\n",
       " 1,\n",
       " 2,\n",
       " 1,\n",
       " 2,\n",
       " 1,\n",
       " 1,\n",
       " 2,\n",
       " 1,\n",
       " 1,\n",
       " 1,\n",
       " 2,\n",
       " 1,\n",
       " 1,\n",
       " 2,\n",
       " 1,\n",
       " 1,\n",
       " 1,\n",
       " 2,\n",
       " 2,\n",
       " 1,\n",
       " 1,\n",
       " 1,\n",
       " 1,\n",
       " 1,\n",
       " 2,\n",
       " 2,\n",
       " 1,\n",
       " 0,\n",
       " 1,\n",
       " 0,\n",
       " 1,\n",
       " 2,\n",
       " 2,\n",
       " 1,\n",
       " 1,\n",
       " 1,\n",
       " 0,\n",
       " 1,\n",
       " 1,\n",
       " 1,\n",
       " 1,\n",
       " 1,\n",
       " 1,\n",
       " 1,\n",
       " 1,\n",
       " 1,\n",
       " 0,\n",
       " 2,\n",
       " 1,\n",
       " 1,\n",
       " 1,\n",
       " 2,\n",
       " 1,\n",
       " 1,\n",
       " 2,\n",
       " 1,\n",
       " 1,\n",
       " 1,\n",
       " 1,\n",
       " 1,\n",
       " 1,\n",
       " 1,\n",
       " 1,\n",
       " 1,\n",
       " 0,\n",
       " 1,\n",
       " 1,\n",
       " 1,\n",
       " 1,\n",
       " 0,\n",
       " 2,\n",
       " 1,\n",
       " 1,\n",
       " 0,\n",
       " 2,\n",
       " 1,\n",
       " 1,\n",
       " 2,\n",
       " 1,\n",
       " 1,\n",
       " 1,\n",
       " 2,\n",
       " 1,\n",
       " 2,\n",
       " 1,\n",
       " 1,\n",
       " 1,\n",
       " 0,\n",
       " 1,\n",
       " 1,\n",
       " 1,\n",
       " 1,\n",
       " 2,\n",
       " 1,\n",
       " 1,\n",
       " 0,\n",
       " 2,\n",
       " 1,\n",
       " 2,\n",
       " 2,\n",
       " 1,\n",
       " 0,\n",
       " 1,\n",
       " 2,\n",
       " 2,\n",
       " 0,\n",
       " 1,\n",
       " 0,\n",
       " 0,\n",
       " 1,\n",
       " 1,\n",
       " 1,\n",
       " 2,\n",
       " 1,\n",
       " 1,\n",
       " 1,\n",
       " 0,\n",
       " 1,\n",
       " 2,\n",
       " 1,\n",
       " 1,\n",
       " 1,\n",
       " 1,\n",
       " 1,\n",
       " 2,\n",
       " 1,\n",
       " 0,\n",
       " 1,\n",
       " 1,\n",
       " 1,\n",
       " 1,\n",
       " 1,\n",
       " 1,\n",
       " 1,\n",
       " 2,\n",
       " 1,\n",
       " 2,\n",
       " 2,\n",
       " 1,\n",
       " 0,\n",
       " 1,\n",
       " 1,\n",
       " 1,\n",
       " 1,\n",
       " 1,\n",
       " 1,\n",
       " 1,\n",
       " 1,\n",
       " 1,\n",
       " 1,\n",
       " 1,\n",
       " 1,\n",
       " 1,\n",
       " 0,\n",
       " 1,\n",
       " 0,\n",
       " 1,\n",
       " 1,\n",
       " 1,\n",
       " 1,\n",
       " 1,\n",
       " 1,\n",
       " 1,\n",
       " 1,\n",
       " 1,\n",
       " 1,\n",
       " 2,\n",
       " 1,\n",
       " 1,\n",
       " 0,\n",
       " 0,\n",
       " 1,\n",
       " 1,\n",
       " 2,\n",
       " 0,\n",
       " 1,\n",
       " 1,\n",
       " 1,\n",
       " 1,\n",
       " 2,\n",
       " 0,\n",
       " 1,\n",
       " 1,\n",
       " 1,\n",
       " 1,\n",
       " 1,\n",
       " 1,\n",
       " 1,\n",
       " 2,\n",
       " 1,\n",
       " 2,\n",
       " 2,\n",
       " 1,\n",
       " 1,\n",
       " 0,\n",
       " 1,\n",
       " 1,\n",
       " 1,\n",
       " 1,\n",
       " 0,\n",
       " 1,\n",
       " 1,\n",
       " 0,\n",
       " 1,\n",
       " 2,\n",
       " 2,\n",
       " 1,\n",
       " 1,\n",
       " 1,\n",
       " 2,\n",
       " 1,\n",
       " 1,\n",
       " 1,\n",
       " 1,\n",
       " 2,\n",
       " 2,\n",
       " 1,\n",
       " 1,\n",
       " 1,\n",
       " 2,\n",
       " 2,\n",
       " 2,\n",
       " 1,\n",
       " 1,\n",
       " 2,\n",
       " 1,\n",
       " 1,\n",
       " 1,\n",
       " 1,\n",
       " 1,\n",
       " 0,\n",
       " 1,\n",
       " 1,\n",
       " 1,\n",
       " 1,\n",
       " 1,\n",
       " 1,\n",
       " 1,\n",
       " 1,\n",
       " 1,\n",
       " 1,\n",
       " 1,\n",
       " 0,\n",
       " 1,\n",
       " 2,\n",
       " 1,\n",
       " 2,\n",
       " 1,\n",
       " 1,\n",
       " 1,\n",
       " 1,\n",
       " 2,\n",
       " 1,\n",
       " 2,\n",
       " 1,\n",
       " 1,\n",
       " 0,\n",
       " 2,\n",
       " 2,\n",
       " 1,\n",
       " 2,\n",
       " 0,\n",
       " 1,\n",
       " 0,\n",
       " 2,\n",
       " 1,\n",
       " 2,\n",
       " 1,\n",
       " 2,\n",
       " 0,\n",
       " 1,\n",
       " 1,\n",
       " 2,\n",
       " 2,\n",
       " 1,\n",
       " 1,\n",
       " 1,\n",
       " 1,\n",
       " 2,\n",
       " 0,\n",
       " 2,\n",
       " 2,\n",
       " 1,\n",
       " 1,\n",
       " 1,\n",
       " 0,\n",
       " 1,\n",
       " 1,\n",
       " 1,\n",
       " 1,\n",
       " 1,\n",
       " 1,\n",
       " 1,\n",
       " 1,\n",
       " 0,\n",
       " 1,\n",
       " 2,\n",
       " 2,\n",
       " 1,\n",
       " 1,\n",
       " 2,\n",
       " 1,\n",
       " 2,\n",
       " 1,\n",
       " 1,\n",
       " 2,\n",
       " 1,\n",
       " 2,\n",
       " 1,\n",
       " 0,\n",
       " 0,\n",
       " 1,\n",
       " 0,\n",
       " 1,\n",
       " 2,\n",
       " 1,\n",
       " 0,\n",
       " 1,\n",
       " 1,\n",
       " 1,\n",
       " 1,\n",
       " 1,\n",
       " 1,\n",
       " 1,\n",
       " 2,\n",
       " 1,\n",
       " 0,\n",
       " 1,\n",
       " 1,\n",
       " 1,\n",
       " 1,\n",
       " 0,\n",
       " 1,\n",
       " 1,\n",
       " 2,\n",
       " 1,\n",
       " 1,\n",
       " 1,\n",
       " 1,\n",
       " 1,\n",
       " 1,\n",
       " 1,\n",
       " 2,\n",
       " 2,\n",
       " 1,\n",
       " 1,\n",
       " 1,\n",
       " 2,\n",
       " 1,\n",
       " 1,\n",
       " 1,\n",
       " 1,\n",
       " 1,\n",
       " 1,\n",
       " 1,\n",
       " 2,\n",
       " 1,\n",
       " 1,\n",
       " 1,\n",
       " 2,\n",
       " ...]"
      ]
     },
     "execution_count": 140,
     "metadata": {},
     "output_type": "execute_result"
    }
   ],
   "execution_count": 140
  },
  {
   "cell_type": "code",
   "metadata": {
    "ExecuteTime": {
     "end_time": "2025-07-31T17:20:55.944217Z",
     "start_time": "2025-07-31T17:20:55.818420Z"
    }
   },
   "source": [
    "#lstm roc图\n",
    "from sklearn.preprocessing import label_binarize\n",
    "\n",
    "# 将真实标签二值化\n",
    "y_test_binarized = label_binarize(y_test, classes=[0, 1, 2]) \n",
    "n_classes = y_test_binarized.shape[1]  # 类别数\n",
    "from sklearn.metrics import roc_curve, auc\n",
    "\n",
    "# 初始化变量\n",
    "fpr = dict()  # 假正率\n",
    "tpr = dict()  # 真正率\n",
    "roc_auc = dict()  # AUC 值\n",
    "\n",
    "# 计算每个类别的 ROC 曲线和 AUC 值\n",
    "for i in range(n_classes):\n",
    "    fpr[i], tpr[i], _ = roc_curve(y_test_binarized[:, i], y_pred_prob[:, i])\n",
    "    roc_auc[i] = auc(fpr[i], tpr[i])\n",
    "    \n",
    "import matplotlib.pyplot as plt\n",
    "\n",
    "# 绘制 ROC 曲线\n",
    "plt.figure(figsize=(8, 6))\n",
    "colors = ['blue', 'red', 'green']  # 每个类别的颜色\n",
    "class_names = ['Positive', 'Neutral', 'Negative']  # 类别名称\n",
    "\n",
    "for i, color, class_name in zip(range(n_classes), colors, class_names):\n",
    "    plt.plot(fpr[i], tpr[i], color=color, lw=2,\n",
    "             label=f'ROC curve of {class_name} (AUC = {roc_auc[i]:.2f})')\n",
    "\n",
    "# 绘制对角线\n",
    "plt.plot([0, 1], [0, 1], 'k--', lw=2)\n",
    "\n",
    "# 设置图形属性\n",
    "plt.xlim([0.0, 1.0])\n",
    "plt.ylim([0.0, 1.05])\n",
    "plt.xlabel('False Positive Rate')\n",
    "plt.ylabel('True Positive Rate')\n",
    "plt.title('ROC Curve for Multi-Class Classification')\n",
    "plt.legend(loc=\"lower right\")\n",
    "plt.show()"
   ],
   "outputs": [
    {
     "data": {
      "text/plain": [
       "<Figure size 800x600 with 1 Axes>"
      ],
      "image/png": "[encoded data removed]"
     },
     "metadata": {},
     "output_type": "display_data"
    }
   ],
   "execution_count": 141
  },
  {
   "cell_type": "code",
   "metadata": {
    "ExecuteTime": {
     "end_time": "2025-07-31T17:20:56.049499Z",
     "start_time": "2025-07-31T17:20:56.045303Z"
    }
   },
   "source": [
    "y_test"
   ],
   "outputs": [
    {
     "data": {
      "text/plain": [
       "6993    1\n",
       "6994    1\n",
       "6995    2\n",
       "6996    1\n",
       "6997    1\n",
       "       ..\n",
       "9319    0\n",
       "9320    1\n",
       "9321    2\n",
       "9322    2\n",
       "9323    2\n",
       "Name: Label, Length: 2331, dtype: int64"
      ]
     },
     "execution_count": 143,
     "metadata": {},
     "output_type": "execute_result"
    }
   ],
   "execution_count": 143
  },
  {
   "cell_type": "code",
   "metadata": {
    "ExecuteTime": {
     "end_time": "2025-07-31T17:20:56.200114Z",
     "start_time": "2025-07-31T17:20:56.096385Z"
    }
   },
   "source": [
    "plt.figure(figsize=(8, 6))\n",
    "sns.heatmap(cm, annot=True, fmt='d',\n",
    "            xticklabels=[\"Positive\", \"Negative\", \"Neutral\"],\n",
    "            yticklabels=[\"Positive\", \"Negative\", \"Neutral\"])\n",
    "\n",
    "plt.title(\"\")\n",
    "plt.xlabel(\"Predicted Label\")\n",
    "plt.ylabel(\"True Label\")\n",
    "plt.show()"
   ],
   "outputs": [
    {
     "data": {
      "text/plain": [
       "<Figure size 800x600 with 2 Axes>"
      ],
      "image/png": "[encoded data removed]"
     },
     "metadata": {},
     "output_type": "display_data"
    }
   ],
   "execution_count": 144
  },
  {
   "cell_type": "code",
   "execution_count": 138,
   "metadata": {},
   "outputs": [
    {
     "data": {
      "image/png": "[encoded data removed]",
      "text/plain": [
       "<Figure size 800x600 with 2 Axes>"
      ]
     },
     "metadata": {},
     "output_type": "display_data"
    }
   ],
   "source": [
    "#lstm混淆矩阵\n",
    "confusion_matrix = np.array([\n",
    "    [166, 82, 90],  # 第一行：实际为 Positive（0）的分类结果\n",
    "    [122, 1299, 90],  # 第二行：实际为 Negative（1）的分类结果\n",
    "    [37, 165, 294]    # 第三行：实际为 Neutral（2）的分类结果\n",
    "])\n",
    "labels = ['Positive', 'Neutral', 'Negative']\n",
    "plt.figure(figsize=(8, 6))\n",
    "sns.heatmap(confusion_matrix, annot=True, fmt='d', xticklabels=labels, yticklabels=labels)\n",
    "plt.title('')\n",
    "plt.xlabel('Predicted Labels')\n",
    "plt.ylabel('Actual Labels')\n",
    "plt.show()"
   ]
  },
  {
   "cell_type": "code",
   "metadata": {
    "ExecuteTime": {
     "end_time": "2025-07-31T17:21:16.802989Z",
     "start_time": "2025-07-31T17:21:16.777751Z"
    }
   },
   "source": [
    "from sklearn.metrics import classification_report\n",
    "print(classification_report(y_test, y_predict))"
   ],
   "outputs": [
    {
     "name": "stdout",
     "output_type": "stream",
     "text": [
      "              precision    recall  f1-score   support\n",
      "\n",
      "           0       0.55      0.48      0.51       348\n",
      "           1       0.83      0.88      0.85      1501\n",
      "           2       0.65      0.61      0.63       482\n",
      "\n",
      "    accuracy                           0.76      2331\n",
      "   macro avg       0.68      0.65      0.67      2331\n",
      "weighted avg       0.75      0.76      0.76      2331\n",
      "\n"
     ]
    }
   ],
   "execution_count": 145
  },
  {
   "cell_type": "code",
   "execution_count": null,
   "metadata": {},
   "outputs": [],
   "source": []
  }
 ],
 "metadata": {
  "kernelspec": {
   "display_name": "Python 3 (ipykernel)",
   "language": "python",
   "name": "python3"
  },
  "language_info": {
   "codemirror_mode": {
    "name": "ipython",
    "version": 3
   },
   "file_extension": ".py",
   "mimetype": "text/x-python",
   "name": "python",
   "nbconvert_exporter": "python",
   "pygments_lexer": "ipython3",
   "version": "3.12.4"
  },
  "vscode": {
   "interpreter": {
    "hash": "9ae89fe6e1987fa73f493ccde8a2eba4a46378c75f2c970e080b813196a22225"
   }
  }
 },
 "nbformat": 4,
 "nbformat_minor": 4
}
